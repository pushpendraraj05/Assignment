{
 "cells": [
  {
   "cell_type": "markdown",
   "id": "ff625378",
   "metadata": {},
   "source": [
    "## Simple Linear Regression"
   ]
  },
  {
   "cell_type": "markdown",
   "id": "8ee3519f",
   "metadata": {},
   "source": [
    "## Salary Data           \n",
    "## Building a prediction for Salary hike"
   ]
  },
  {
   "cell_type": "code",
   "execution_count": 1,
   "id": "f4f3e98c",
   "metadata": {},
   "outputs": [],
   "source": [
    "#import Data_Set\n",
    "import warnings\n",
    "warnings.filterwarnings('ignore')"
   ]
  },
  {
   "cell_type": "code",
   "execution_count": 2,
   "id": "51e50c1a",
   "metadata": {},
   "outputs": [
    {
     "data": {
      "text/html": [
       "<div>\n",
       "<style scoped>\n",
       "    .dataframe tbody tr th:only-of-type {\n",
       "        vertical-align: middle;\n",
       "    }\n",
       "\n",
       "    .dataframe tbody tr th {\n",
       "        vertical-align: top;\n",
       "    }\n",
       "\n",
       "    .dataframe thead th {\n",
       "        text-align: right;\n",
       "    }\n",
       "</style>\n",
       "<table border=\"1\" class=\"dataframe\">\n",
       "  <thead>\n",
       "    <tr style=\"text-align: right;\">\n",
       "      <th></th>\n",
       "      <th>YearsExperience</th>\n",
       "      <th>Salary</th>\n",
       "    </tr>\n",
       "  </thead>\n",
       "  <tbody>\n",
       "    <tr>\n",
       "      <th>0</th>\n",
       "      <td>1.1</td>\n",
       "      <td>39343.0</td>\n",
       "    </tr>\n",
       "    <tr>\n",
       "      <th>1</th>\n",
       "      <td>1.3</td>\n",
       "      <td>46205.0</td>\n",
       "    </tr>\n",
       "    <tr>\n",
       "      <th>2</th>\n",
       "      <td>1.5</td>\n",
       "      <td>37731.0</td>\n",
       "    </tr>\n",
       "    <tr>\n",
       "      <th>3</th>\n",
       "      <td>2.0</td>\n",
       "      <td>43525.0</td>\n",
       "    </tr>\n",
       "    <tr>\n",
       "      <th>4</th>\n",
       "      <td>2.2</td>\n",
       "      <td>39891.0</td>\n",
       "    </tr>\n",
       "    <tr>\n",
       "      <th>5</th>\n",
       "      <td>2.9</td>\n",
       "      <td>56642.0</td>\n",
       "    </tr>\n",
       "    <tr>\n",
       "      <th>6</th>\n",
       "      <td>3.0</td>\n",
       "      <td>60150.0</td>\n",
       "    </tr>\n",
       "    <tr>\n",
       "      <th>7</th>\n",
       "      <td>3.2</td>\n",
       "      <td>54445.0</td>\n",
       "    </tr>\n",
       "    <tr>\n",
       "      <th>8</th>\n",
       "      <td>3.2</td>\n",
       "      <td>64445.0</td>\n",
       "    </tr>\n",
       "    <tr>\n",
       "      <th>9</th>\n",
       "      <td>3.7</td>\n",
       "      <td>57189.0</td>\n",
       "    </tr>\n",
       "    <tr>\n",
       "      <th>10</th>\n",
       "      <td>3.9</td>\n",
       "      <td>63218.0</td>\n",
       "    </tr>\n",
       "    <tr>\n",
       "      <th>11</th>\n",
       "      <td>4.0</td>\n",
       "      <td>55794.0</td>\n",
       "    </tr>\n",
       "    <tr>\n",
       "      <th>12</th>\n",
       "      <td>4.0</td>\n",
       "      <td>56957.0</td>\n",
       "    </tr>\n",
       "    <tr>\n",
       "      <th>13</th>\n",
       "      <td>4.1</td>\n",
       "      <td>57081.0</td>\n",
       "    </tr>\n",
       "    <tr>\n",
       "      <th>14</th>\n",
       "      <td>4.5</td>\n",
       "      <td>61111.0</td>\n",
       "    </tr>\n",
       "    <tr>\n",
       "      <th>15</th>\n",
       "      <td>4.9</td>\n",
       "      <td>67938.0</td>\n",
       "    </tr>\n",
       "    <tr>\n",
       "      <th>16</th>\n",
       "      <td>5.1</td>\n",
       "      <td>66029.0</td>\n",
       "    </tr>\n",
       "    <tr>\n",
       "      <th>17</th>\n",
       "      <td>5.3</td>\n",
       "      <td>83088.0</td>\n",
       "    </tr>\n",
       "    <tr>\n",
       "      <th>18</th>\n",
       "      <td>5.9</td>\n",
       "      <td>81363.0</td>\n",
       "    </tr>\n",
       "    <tr>\n",
       "      <th>19</th>\n",
       "      <td>6.0</td>\n",
       "      <td>93940.0</td>\n",
       "    </tr>\n",
       "    <tr>\n",
       "      <th>20</th>\n",
       "      <td>6.8</td>\n",
       "      <td>91738.0</td>\n",
       "    </tr>\n",
       "    <tr>\n",
       "      <th>21</th>\n",
       "      <td>7.1</td>\n",
       "      <td>98273.0</td>\n",
       "    </tr>\n",
       "    <tr>\n",
       "      <th>22</th>\n",
       "      <td>7.9</td>\n",
       "      <td>101302.0</td>\n",
       "    </tr>\n",
       "    <tr>\n",
       "      <th>23</th>\n",
       "      <td>8.2</td>\n",
       "      <td>113812.0</td>\n",
       "    </tr>\n",
       "    <tr>\n",
       "      <th>24</th>\n",
       "      <td>8.7</td>\n",
       "      <td>109431.0</td>\n",
       "    </tr>\n",
       "    <tr>\n",
       "      <th>25</th>\n",
       "      <td>9.0</td>\n",
       "      <td>105582.0</td>\n",
       "    </tr>\n",
       "    <tr>\n",
       "      <th>26</th>\n",
       "      <td>9.5</td>\n",
       "      <td>116969.0</td>\n",
       "    </tr>\n",
       "    <tr>\n",
       "      <th>27</th>\n",
       "      <td>9.6</td>\n",
       "      <td>112635.0</td>\n",
       "    </tr>\n",
       "    <tr>\n",
       "      <th>28</th>\n",
       "      <td>10.3</td>\n",
       "      <td>122391.0</td>\n",
       "    </tr>\n",
       "    <tr>\n",
       "      <th>29</th>\n",
       "      <td>10.5</td>\n",
       "      <td>121872.0</td>\n",
       "    </tr>\n",
       "  </tbody>\n",
       "</table>\n",
       "</div>"
      ],
      "text/plain": [
       "    YearsExperience    Salary\n",
       "0               1.1   39343.0\n",
       "1               1.3   46205.0\n",
       "2               1.5   37731.0\n",
       "3               2.0   43525.0\n",
       "4               2.2   39891.0\n",
       "5               2.9   56642.0\n",
       "6               3.0   60150.0\n",
       "7               3.2   54445.0\n",
       "8               3.2   64445.0\n",
       "9               3.7   57189.0\n",
       "10              3.9   63218.0\n",
       "11              4.0   55794.0\n",
       "12              4.0   56957.0\n",
       "13              4.1   57081.0\n",
       "14              4.5   61111.0\n",
       "15              4.9   67938.0\n",
       "16              5.1   66029.0\n",
       "17              5.3   83088.0\n",
       "18              5.9   81363.0\n",
       "19              6.0   93940.0\n",
       "20              6.8   91738.0\n",
       "21              7.1   98273.0\n",
       "22              7.9  101302.0\n",
       "23              8.2  113812.0\n",
       "24              8.7  109431.0\n",
       "25              9.0  105582.0\n",
       "26              9.5  116969.0\n",
       "27              9.6  112635.0\n",
       "28             10.3  122391.0\n",
       "29             10.5  121872.0"
      ]
     },
     "execution_count": 2,
     "metadata": {},
     "output_type": "execute_result"
    }
   ],
   "source": [
    "import pandas as pd\n",
    "import numpy as np\n",
    "df=pd.read_csv(\"D:\\\\assignment\\\\simple_linear_regression\\\\Salary_Data.csv\")\n",
    "df"
   ]
  },
  {
   "cell_type": "code",
   "execution_count": 3,
   "id": "6c12a80b",
   "metadata": {},
   "outputs": [
    {
     "name": "stdout",
     "output_type": "stream",
     "text": [
      "<class 'pandas.core.frame.DataFrame'>\n",
      "RangeIndex: 30 entries, 0 to 29\n",
      "Data columns (total 2 columns):\n",
      " #   Column           Non-Null Count  Dtype  \n",
      "---  ------           --------------  -----  \n",
      " 0   YearsExperience  30 non-null     float64\n",
      " 1   Salary           30 non-null     float64\n",
      "dtypes: float64(2)\n",
      "memory usage: 608.0 bytes\n"
     ]
    }
   ],
   "source": [
    "df.info()"
   ]
  },
  {
   "cell_type": "code",
   "execution_count": 4,
   "id": "b0a4cabc",
   "metadata": {},
   "outputs": [
    {
     "data": {
      "image/png": "[encoded data removed]",
      "text/plain": [
       "<Figure size 720x720 with 2 Axes>"
      ]
     },
     "metadata": {
      "needs_background": "light"
     },
     "output_type": "display_data"
    }
   ],
   "source": [
    "#check for outliers\n",
    "import matplotlib.pyplot as plt\n",
    "plt.subplots(figsize = (10,10))\n",
    "plt.subplot(1,2,1)\n",
    "plt.boxplot(df['YearsExperience'])\n",
    "plt.title('YearsExperience')\n",
    "plt.subplot(1,2,2)\n",
    "plt.boxplot(df['Salary'])\n",
    "plt.title('Salary')\n",
    "plt.show()"
   ]
  },
  {
   "cell_type": "code",
   "execution_count": 5,
   "id": "b837acd9",
   "metadata": {},
   "outputs": [
    {
     "data": {
      "text/plain": [
       "<AxesSubplot:xlabel='Salary', ylabel='Density'>"
      ]
     },
     "execution_count": 5,
     "metadata": {},
     "output_type": "execute_result"
    },
    {
     "data": {
      "image/png": "[encoded data removed]",
      "text/plain": [
       "<Figure size 432x288 with 1 Axes>"
      ]
     },
     "metadata": {
      "needs_background": "light"
     },
     "output_type": "display_data"
    }
   ],
   "source": [
    "import seaborn as sns\n",
    "sns.distplot(df[\"Salary\"])"
   ]
  },
  {
   "cell_type": "code",
   "execution_count": 6,
   "id": "37eb714b",
   "metadata": {},
   "outputs": [
    {
     "data": {
      "text/plain": [
       "<AxesSubplot:xlabel='YearsExperience', ylabel='Density'>"
      ]
     },
     "execution_count": 6,
     "metadata": {},
     "output_type": "execute_result"
    },
    {
     "data": {
      "image/png": "[encoded data removed]",
      "text/plain": [
       "<Figure size 432x288 with 1 Axes>"
      ]
     },
     "metadata": {
      "needs_background": "light"
     },
     "output_type": "display_data"
    }
   ],
   "source": [
    "sns.distplot(df[\"YearsExperience\"])"
   ]
  },
  {
   "cell_type": "code",
   "execution_count": 7,
   "id": "e97bd2d1",
   "metadata": {},
   "outputs": [
    {
     "data": {
      "text/html": [
       "<div>\n",
       "<style scoped>\n",
       "    .dataframe tbody tr th:only-of-type {\n",
       "        vertical-align: middle;\n",
       "    }\n",
       "\n",
       "    .dataframe tbody tr th {\n",
       "        vertical-align: top;\n",
       "    }\n",
       "\n",
       "    .dataframe thead th {\n",
       "        text-align: right;\n",
       "    }\n",
       "</style>\n",
       "<table border=\"1\" class=\"dataframe\">\n",
       "  <thead>\n",
       "    <tr style=\"text-align: right;\">\n",
       "      <th></th>\n",
       "      <th>YearsExperience</th>\n",
       "      <th>Salary</th>\n",
       "    </tr>\n",
       "  </thead>\n",
       "  <tbody>\n",
       "    <tr>\n",
       "      <th>count</th>\n",
       "      <td>30.000000</td>\n",
       "      <td>30.000000</td>\n",
       "    </tr>\n",
       "    <tr>\n",
       "      <th>mean</th>\n",
       "      <td>5.313333</td>\n",
       "      <td>76003.000000</td>\n",
       "    </tr>\n",
       "    <tr>\n",
       "      <th>std</th>\n",
       "      <td>2.837888</td>\n",
       "      <td>27414.429785</td>\n",
       "    </tr>\n",
       "    <tr>\n",
       "      <th>min</th>\n",
       "      <td>1.100000</td>\n",
       "      <td>37731.000000</td>\n",
       "    </tr>\n",
       "    <tr>\n",
       "      <th>25%</th>\n",
       "      <td>3.200000</td>\n",
       "      <td>56720.750000</td>\n",
       "    </tr>\n",
       "    <tr>\n",
       "      <th>50%</th>\n",
       "      <td>4.700000</td>\n",
       "      <td>65237.000000</td>\n",
       "    </tr>\n",
       "    <tr>\n",
       "      <th>75%</th>\n",
       "      <td>7.700000</td>\n",
       "      <td>100544.750000</td>\n",
       "    </tr>\n",
       "    <tr>\n",
       "      <th>max</th>\n",
       "      <td>10.500000</td>\n",
       "      <td>122391.000000</td>\n",
       "    </tr>\n",
       "  </tbody>\n",
       "</table>\n",
       "</div>"
      ],
      "text/plain": [
       "       YearsExperience         Salary\n",
       "count        30.000000      30.000000\n",
       "mean          5.313333   76003.000000\n",
       "std           2.837888   27414.429785\n",
       "min           1.100000   37731.000000\n",
       "25%           3.200000   56720.750000\n",
       "50%           4.700000   65237.000000\n",
       "75%           7.700000  100544.750000\n",
       "max          10.500000  122391.000000"
      ]
     },
     "execution_count": 7,
     "metadata": {},
     "output_type": "execute_result"
    }
   ],
   "source": [
    "df.describe()"
   ]
  },
  {
   "cell_type": "code",
   "execution_count": 8,
   "id": "54f2fcbd",
   "metadata": {},
   "outputs": [],
   "source": [
    "import seaborn as sns\n",
    "import matplotlib.pyplot as plt"
   ]
  },
  {
   "cell_type": "code",
   "execution_count": 9,
   "id": "95151546",
   "metadata": {},
   "outputs": [],
   "source": [
    "y=df['Salary'].values\n",
    "x=df['YearsExperience'].values"
   ]
  },
  {
   "cell_type": "code",
   "execution_count": 10,
   "id": "03acf93e",
   "metadata": {},
   "outputs": [
    {
     "data": {
      "text/plain": [
       "array([ 1.1,  1.3,  1.5,  2. ,  2.2,  2.9,  3. ,  3.2,  3.2,  3.7,  3.9,\n",
       "        4. ,  4. ,  4.1,  4.5,  4.9,  5.1,  5.3,  5.9,  6. ,  6.8,  7.1,\n",
       "        7.9,  8.2,  8.7,  9. ,  9.5,  9.6, 10.3, 10.5])"
      ]
     },
     "execution_count": 10,
     "metadata": {},
     "output_type": "execute_result"
    }
   ],
   "source": [
    "x"
   ]
  },
  {
   "cell_type": "code",
   "execution_count": 11,
   "id": "b91bea5c",
   "metadata": {},
   "outputs": [
    {
     "data": {
      "text/plain": [
       "array([ 39343.,  46205.,  37731.,  43525.,  39891.,  56642.,  60150.,\n",
       "        54445.,  64445.,  57189.,  63218.,  55794.,  56957.,  57081.,\n",
       "        61111.,  67938.,  66029.,  83088.,  81363.,  93940.,  91738.,\n",
       "        98273., 101302., 113812., 109431., 105582., 116969., 112635.,\n",
       "       122391., 121872.])"
      ]
     },
     "execution_count": 11,
     "metadata": {},
     "output_type": "execute_result"
    }
   ],
   "source": [
    "y"
   ]
  },
  {
   "cell_type": "code",
   "execution_count": 12,
   "id": "84069c5d",
   "metadata": {},
   "outputs": [
    {
     "data": {
      "image/png": "[encoded data removed]",
      "text/plain": [
       "<Figure size 432x288 with 1 Axes>"
      ]
     },
     "metadata": {
      "needs_background": "light"
     },
     "output_type": "display_data"
    }
   ],
   "source": [
    "plt.scatter(x,y)\n",
    "plt.xlabel(\"YearsExperience\",fontsize=20)\n",
    "plt.ylabel(\"Salary\",fontsize=20)\n",
    "plt.show()"
   ]
  },
  {
   "cell_type": "code",
   "execution_count": 13,
   "id": "769828a3",
   "metadata": {},
   "outputs": [
    {
     "data": {
      "text/html": [
       "<div>\n",
       "<style scoped>\n",
       "    .dataframe tbody tr th:only-of-type {\n",
       "        vertical-align: middle;\n",
       "    }\n",
       "\n",
       "    .dataframe tbody tr th {\n",
       "        vertical-align: top;\n",
       "    }\n",
       "\n",
       "    .dataframe thead th {\n",
       "        text-align: right;\n",
       "    }\n",
       "</style>\n",
       "<table border=\"1\" class=\"dataframe\">\n",
       "  <thead>\n",
       "    <tr style=\"text-align: right;\">\n",
       "      <th></th>\n",
       "      <th>YearsExperience</th>\n",
       "      <th>Salary</th>\n",
       "    </tr>\n",
       "  </thead>\n",
       "  <tbody>\n",
       "    <tr>\n",
       "      <th>YearsExperience</th>\n",
       "      <td>1.000000</td>\n",
       "      <td>0.978242</td>\n",
       "    </tr>\n",
       "    <tr>\n",
       "      <th>Salary</th>\n",
       "      <td>0.978242</td>\n",
       "      <td>1.000000</td>\n",
       "    </tr>\n",
       "  </tbody>\n",
       "</table>\n",
       "</div>"
      ],
      "text/plain": [
       "                 YearsExperience    Salary\n",
       "YearsExperience         1.000000  0.978242\n",
       "Salary                  0.978242  1.000000"
      ]
     },
     "execution_count": 13,
     "metadata": {},
     "output_type": "execute_result"
    }
   ],
   "source": [
    "#correlation\n",
    "df.corr()"
   ]
  },
  {
   "cell_type": "code",
   "execution_count": 14,
   "id": "44fa3cdd",
   "metadata": {},
   "outputs": [],
   "source": [
    "#Fitting linear Regression model\n",
    "import statsmodels.formula.api as smf\n",
    "df=smf.ols(\"Salary~YearsExperience\",data = df).fit()"
   ]
  },
  {
   "cell_type": "code",
   "execution_count": 15,
   "id": "bd4fd520",
   "metadata": {},
   "outputs": [
    {
     "data": {
      "image/png": "[encoded data removed]",
      "text/plain": [
       "<Figure size 432x288 with 1 Axes>"
      ]
     },
     "metadata": {
      "needs_background": "light"
     },
     "output_type": "display_data"
    }
   ],
   "source": [
    "sns.regplot(x,y)\n",
    "plt.xlabel(\"YearsExperience\",fontsize=20)\n",
    "plt.ylabel(\"Salary\",fontsize=20)\n",
    "plt.show()"
   ]
  },
  {
   "cell_type": "code",
   "execution_count": 16,
   "id": "31cb9d1a",
   "metadata": {},
   "outputs": [
    {
     "name": "stdout",
     "output_type": "stream",
     "text": [
      "                            OLS Regression Results                            \n",
      "==============================================================================\n",
      "Dep. Variable:                 Salary   R-squared:                       0.957\n",
      "Model:                            OLS   Adj. R-squared:                  0.955\n",
      "Method:                 Least Squares   F-statistic:                     622.5\n",
      "Date:                Fri, 18 Nov 2022   Prob (F-statistic):           1.14e-20\n",
      "Time:                        12:32:31   Log-Likelihood:                -301.44\n",
      "No. Observations:                  30   AIC:                             606.9\n",
      "Df Residuals:                      28   BIC:                             609.7\n",
      "Df Model:                           1                                         \n",
      "Covariance Type:            nonrobust                                         \n",
      "===================================================================================\n",
      "                      coef    std err          t      P>|t|      [0.025      0.975]\n",
      "-----------------------------------------------------------------------------------\n",
      "Intercept        2.579e+04   2273.053     11.347      0.000    2.11e+04    3.04e+04\n",
      "YearsExperience  9449.9623    378.755     24.950      0.000    8674.119    1.02e+04\n",
      "==============================================================================\n",
      "Omnibus:                        2.140   Durbin-Watson:                   1.648\n",
      "Prob(Omnibus):                  0.343   Jarque-Bera (JB):                1.569\n",
      "Skew:                           0.363   Prob(JB):                        0.456\n",
      "Kurtosis:                       2.147   Cond. No.                         13.2\n",
      "==============================================================================\n",
      "\n",
      "Notes:\n",
      "[1] Standard Errors assume that the covariance matrix of the errors is correctly specified.\n"
     ]
    }
   ],
   "source": [
    "print(df.summary())"
   ]
  },
  {
   "cell_type": "code",
   "execution_count": 17,
   "id": "f469be5c",
   "metadata": {},
   "outputs": [
    {
     "name": "stdout",
     "output_type": "stream",
     "text": [
      "Intercept          5.511950e-12\n",
      "YearsExperience    1.143068e-20\n",
      "dtype: float64\n"
     ]
    }
   ],
   "source": [
    "#p-value\n",
    "print(df.pvalues)"
   ]
  },
  {
   "cell_type": "code",
   "execution_count": 18,
   "id": "e1fd591d",
   "metadata": {},
   "outputs": [
    {
     "name": "stdout",
     "output_type": "stream",
     "text": [
      "Intercept          11.346940\n",
      "YearsExperience    24.950094\n",
      "dtype: float64\n"
     ]
    }
   ],
   "source": [
    "#t-value\n",
    "print(df.tvalues)"
   ]
  },
  {
   "cell_type": "code",
   "execution_count": 19,
   "id": "cdbc8d24",
   "metadata": {},
   "outputs": [
    {
     "data": {
      "text/plain": [
       "(0.9569566641435086, 0.9554194021486339)"
      ]
     },
     "execution_count": 19,
     "metadata": {},
     "output_type": "execute_result"
    }
   ],
   "source": [
    "#accuracy\n",
    "(df.rsquared,df.rsquared_adj)"
   ]
  },
  {
   "cell_type": "code",
   "execution_count": 20,
   "id": "66f26d3a",
   "metadata": {},
   "outputs": [
    {
     "data": {
      "text/plain": [
       "Intercept          25792.200199\n",
       "YearsExperience     9449.962321\n",
       "dtype: float64"
      ]
     },
     "execution_count": 20,
     "metadata": {},
     "output_type": "execute_result"
    }
   ],
   "source": [
    "#coefficient\n",
    "df.params"
   ]
  },
  {
   "cell_type": "code",
   "execution_count": 21,
   "id": "be2b86ca",
   "metadata": {},
   "outputs": [
    {
     "name": "stdout",
     "output_type": "stream",
     "text": [
      "[ 37821.3825399  42979.8225797  48138.2626195  61034.362719\n",
      "  66192.8027588  84247.3428981  86826.562918   91985.0029578\n",
      "  91985.0029578 104881.1030573 110039.5430971 112618.763117\n",
      " 112618.763117  115197.9831369 125514.8632165 135831.7432961\n",
      " 140990.1833359 146148.6233757 161623.9434951 164203.163515\n",
      " 184836.9236742 192574.5837339 213208.3438931 220946.0039528\n",
      " 233842.1040523 241579.764112  254475.8642115 257055.0842314\n",
      " 275109.6243707 280268.0644105]\n"
     ]
    },
    {
     "data": {
      "image/png": "[encoded data removed]",
      "text/plain": [
       "<Figure size 432x288 with 1 Axes>"
      ]
     },
     "metadata": {
      "needs_background": "light"
     },
     "output_type": "display_data"
    }
   ],
   "source": [
    "y_pred=9449.962321+25792.200199*x\n",
    "print(y_pred)\n",
    "fig=plt.plot(x,y_pred,label=\"regression line\")\n",
    "plt.xlabel(\"x\")\n",
    "plt.ylabel(\"y_pred\")\n",
    "plt.show()"
   ]
  },
  {
   "cell_type": "code",
   "execution_count": 22,
   "id": "fa3e970e",
   "metadata": {},
   "outputs": [
    {
     "data": {
      "text/plain": [
       "0      36187.158752\n",
       "1      38077.151217\n",
       "2      39967.143681\n",
       "3      44692.124842\n",
       "4      46582.117306\n",
       "5      53197.090931\n",
       "6      54142.087163\n",
       "7      56032.079627\n",
       "8      56032.079627\n",
       "9      60757.060788\n",
       "10     62647.053252\n",
       "11     63592.049484\n",
       "12     63592.049484\n",
       "13     64537.045717\n",
       "14     68317.030645\n",
       "15     72097.015574\n",
       "16     73987.008038\n",
       "17     75877.000502\n",
       "18     81546.977895\n",
       "19     82491.974127\n",
       "20     90051.943985\n",
       "21     92886.932681\n",
       "22    100446.902538\n",
       "23    103281.891235\n",
       "24    108006.872395\n",
       "25    110841.861092\n",
       "26    115566.842252\n",
       "27    116511.838485\n",
       "28    123126.812110\n",
       "29    125016.804574\n",
       "dtype: float64"
      ]
     },
     "execution_count": 22,
     "metadata": {},
     "output_type": "execute_result"
    }
   ],
   "source": [
    "#to check the fitted values\n",
    "df.fittedvalues"
   ]
  },
  {
   "cell_type": "code",
   "execution_count": 23,
   "id": "2091c1d1",
   "metadata": {},
   "outputs": [
    {
     "data": {
      "text/plain": [
       "0      3155.841248\n",
       "1      8127.848783\n",
       "2     -2236.143681\n",
       "3     -1167.124842\n",
       "4     -6691.117306\n",
       "5      3444.909069\n",
       "6      6007.912837\n",
       "7     -1587.079627\n",
       "8      8412.920373\n",
       "9     -3568.060788\n",
       "10      570.946748\n",
       "11    -7798.049484\n",
       "12    -6635.049484\n",
       "13    -7456.045717\n",
       "14    -7206.030645\n",
       "15    -4159.015574\n",
       "16    -7958.008038\n",
       "17     7210.999498\n",
       "18     -183.977895\n",
       "19    11448.025873\n",
       "20     1686.056015\n",
       "21     5386.067319\n",
       "22      855.097462\n",
       "23    10530.108765\n",
       "24     1424.127605\n",
       "25    -5259.861092\n",
       "26     1402.157748\n",
       "27    -3876.838485\n",
       "28     -735.812110\n",
       "29    -3144.804574\n",
       "dtype: float64"
      ]
     },
     "execution_count": 23,
     "metadata": {},
     "output_type": "execute_result"
    }
   ],
   "source": [
    "#generating residual values\n",
    "#actual value - predicted values\n",
    "df.resid"
   ]
  },
  {
   "cell_type": "code",
   "execution_count": 24,
   "id": "3a3ebcaa",
   "metadata": {},
   "outputs": [
    {
     "name": "stdout",
     "output_type": "stream",
     "text": [
      "0    20000\n",
      "1    25000\n",
      "2    30000\n",
      "3    40000\n",
      "dtype: int64 0    5.158535e+08\n",
      "1    6.448145e+08\n",
      "2    7.737755e+08\n",
      "3    1.031697e+09\n",
      "dtype: float64\n"
     ]
    },
    {
     "data": {
      "text/plain": [
       "<matplotlib.collections.PathCollection at 0x2b6b2f12550>"
      ]
     },
     "execution_count": 24,
     "metadata": {},
     "output_type": "execute_result"
    },
    {
     "data": {
      "image/png": "[encoded data removed]",
      "text/plain": [
       "<Figure size 432x288 with 1 Axes>"
      ]
     },
     "metadata": {
      "needs_background": "light"
     },
     "output_type": "display_data"
    }
   ],
   "source": [
    "#predicting for new data points\n",
    "x1=pd.Series([20000,25000,30000,40000])\n",
    "x1\n",
    "\n",
    "y_pred=9449.962321+25792.200199*x1\n",
    "y_pred\n",
    "\n",
    "\n",
    "fig=plt.plot(x1,y_pred,label=\"regression line\")\n",
    "print(x1,y_pred)\n",
    "plt.xlabel(\"data_set\")\n",
    "plt.ylabel(\"y_pred\")\n",
    "plt.scatter(x1,y_pred)"
   ]
  },
  {
   "cell_type": "markdown",
   "id": "f3d7e8de",
   "metadata": {},
   "source": [
    "## TRANSFORMATIONS"
   ]
  },
  {
   "cell_type": "markdown",
   "id": "c345ae58",
   "metadata": {},
   "source": [
    "## Square_root_Transformations"
   ]
  },
  {
   "cell_type": "code",
   "execution_count": 25,
   "id": "5ecbf290",
   "metadata": {},
   "outputs": [
    {
     "data": {
      "text/plain": [
       "array([198.35069952, 214.95348334, 194.24469105, 208.62646045,\n",
       "       199.72731411, 237.99579828, 245.25496937, 233.33452381,\n",
       "       253.86019775, 239.1422171 , 251.43189933, 236.20753587,\n",
       "       238.65665715, 238.91630334, 247.2063915 , 260.64918952,\n",
       "       256.96108655, 288.24989159, 285.24200252, 306.4963295 ,\n",
       "       302.88281562, 313.48524686, 318.27975116, 337.36034147,\n",
       "       330.80356709, 324.93383942, 342.00730986, 335.61138241,\n",
       "       349.84425106, 349.10170438])"
      ]
     },
     "execution_count": 25,
     "metadata": {},
     "output_type": "execute_result"
    }
   ],
   "source": [
    "Salary_SQRT = np.sqrt(y)\n",
    "Salary_SQRT"
   ]
  },
  {
   "cell_type": "code",
   "execution_count": 26,
   "id": "3a236222",
   "metadata": {},
   "outputs": [
    {
     "data": {
      "text/plain": [
       "array([1.04880885, 1.14017543, 1.22474487, 1.41421356, 1.4832397 ,\n",
       "       1.70293864, 1.73205081, 1.78885438, 1.78885438, 1.92353841,\n",
       "       1.97484177, 2.        , 2.        , 2.02484567, 2.12132034,\n",
       "       2.21359436, 2.25831796, 2.30217289, 2.42899156, 2.44948974,\n",
       "       2.60768096, 2.66458252, 2.81069386, 2.86356421, 2.94957624,\n",
       "       3.        , 3.082207  , 3.09838668, 3.20936131, 3.24037035])"
      ]
     },
     "execution_count": 26,
     "metadata": {},
     "output_type": "execute_result"
    }
   ],
   "source": [
    "YearsExperience_SQRT = np.sqrt(x)\n",
    "YearsExperience_SQRT"
   ]
  },
  {
   "cell_type": "code",
   "execution_count": 27,
   "id": "61e70861",
   "metadata": {},
   "outputs": [
    {
     "data": {
      "text/plain": [
       "array([198.35069952, 214.95348334, 194.24469105, 208.62646045,\n",
       "       199.72731411, 237.99579828, 245.25496937, 233.33452381,\n",
       "       253.86019775, 239.1422171 , 251.43189933, 236.20753587,\n",
       "       238.65665715, 238.91630334, 247.2063915 , 260.64918952,\n",
       "       256.96108655, 288.24989159, 285.24200252, 306.4963295 ,\n",
       "       302.88281562, 313.48524686, 318.27975116, 337.36034147,\n",
       "       330.80356709, 324.93383942, 342.00730986, 335.61138241,\n",
       "       349.84425106, 349.10170438])"
      ]
     },
     "execution_count": 27,
     "metadata": {},
     "output_type": "execute_result"
    }
   ],
   "source": [
    "SalarySQRT=pd.DataFrame(Salary_SQRT)\n",
    "Salary_SQRT"
   ]
  },
  {
   "cell_type": "code",
   "execution_count": 28,
   "id": "04adf170",
   "metadata": {},
   "outputs": [
    {
     "data": {
      "text/html": [
       "<div>\n",
       "<style scoped>\n",
       "    .dataframe tbody tr th:only-of-type {\n",
       "        vertical-align: middle;\n",
       "    }\n",
       "\n",
       "    .dataframe tbody tr th {\n",
       "        vertical-align: top;\n",
       "    }\n",
       "\n",
       "    .dataframe thead th {\n",
       "        text-align: right;\n",
       "    }\n",
       "</style>\n",
       "<table border=\"1\" class=\"dataframe\">\n",
       "  <thead>\n",
       "    <tr style=\"text-align: right;\">\n",
       "      <th></th>\n",
       "      <th>0</th>\n",
       "    </tr>\n",
       "  </thead>\n",
       "  <tbody>\n",
       "    <tr>\n",
       "      <th>0</th>\n",
       "      <td>1.048809</td>\n",
       "    </tr>\n",
       "    <tr>\n",
       "      <th>1</th>\n",
       "      <td>1.140175</td>\n",
       "    </tr>\n",
       "    <tr>\n",
       "      <th>2</th>\n",
       "      <td>1.224745</td>\n",
       "    </tr>\n",
       "    <tr>\n",
       "      <th>3</th>\n",
       "      <td>1.414214</td>\n",
       "    </tr>\n",
       "    <tr>\n",
       "      <th>4</th>\n",
       "      <td>1.483240</td>\n",
       "    </tr>\n",
       "    <tr>\n",
       "      <th>5</th>\n",
       "      <td>1.702939</td>\n",
       "    </tr>\n",
       "    <tr>\n",
       "      <th>6</th>\n",
       "      <td>1.732051</td>\n",
       "    </tr>\n",
       "    <tr>\n",
       "      <th>7</th>\n",
       "      <td>1.788854</td>\n",
       "    </tr>\n",
       "    <tr>\n",
       "      <th>8</th>\n",
       "      <td>1.788854</td>\n",
       "    </tr>\n",
       "    <tr>\n",
       "      <th>9</th>\n",
       "      <td>1.923538</td>\n",
       "    </tr>\n",
       "    <tr>\n",
       "      <th>10</th>\n",
       "      <td>1.974842</td>\n",
       "    </tr>\n",
       "    <tr>\n",
       "      <th>11</th>\n",
       "      <td>2.000000</td>\n",
       "    </tr>\n",
       "    <tr>\n",
       "      <th>12</th>\n",
       "      <td>2.000000</td>\n",
       "    </tr>\n",
       "    <tr>\n",
       "      <th>13</th>\n",
       "      <td>2.024846</td>\n",
       "    </tr>\n",
       "    <tr>\n",
       "      <th>14</th>\n",
       "      <td>2.121320</td>\n",
       "    </tr>\n",
       "    <tr>\n",
       "      <th>15</th>\n",
       "      <td>2.213594</td>\n",
       "    </tr>\n",
       "    <tr>\n",
       "      <th>16</th>\n",
       "      <td>2.258318</td>\n",
       "    </tr>\n",
       "    <tr>\n",
       "      <th>17</th>\n",
       "      <td>2.302173</td>\n",
       "    </tr>\n",
       "    <tr>\n",
       "      <th>18</th>\n",
       "      <td>2.428992</td>\n",
       "    </tr>\n",
       "    <tr>\n",
       "      <th>19</th>\n",
       "      <td>2.449490</td>\n",
       "    </tr>\n",
       "    <tr>\n",
       "      <th>20</th>\n",
       "      <td>2.607681</td>\n",
       "    </tr>\n",
       "    <tr>\n",
       "      <th>21</th>\n",
       "      <td>2.664583</td>\n",
       "    </tr>\n",
       "    <tr>\n",
       "      <th>22</th>\n",
       "      <td>2.810694</td>\n",
       "    </tr>\n",
       "    <tr>\n",
       "      <th>23</th>\n",
       "      <td>2.863564</td>\n",
       "    </tr>\n",
       "    <tr>\n",
       "      <th>24</th>\n",
       "      <td>2.949576</td>\n",
       "    </tr>\n",
       "    <tr>\n",
       "      <th>25</th>\n",
       "      <td>3.000000</td>\n",
       "    </tr>\n",
       "    <tr>\n",
       "      <th>26</th>\n",
       "      <td>3.082207</td>\n",
       "    </tr>\n",
       "    <tr>\n",
       "      <th>27</th>\n",
       "      <td>3.098387</td>\n",
       "    </tr>\n",
       "    <tr>\n",
       "      <th>28</th>\n",
       "      <td>3.209361</td>\n",
       "    </tr>\n",
       "    <tr>\n",
       "      <th>29</th>\n",
       "      <td>3.240370</td>\n",
       "    </tr>\n",
       "  </tbody>\n",
       "</table>\n",
       "</div>"
      ],
      "text/plain": [
       "           0\n",
       "0   1.048809\n",
       "1   1.140175\n",
       "2   1.224745\n",
       "3   1.414214\n",
       "4   1.483240\n",
       "5   1.702939\n",
       "6   1.732051\n",
       "7   1.788854\n",
       "8   1.788854\n",
       "9   1.923538\n",
       "10  1.974842\n",
       "11  2.000000\n",
       "12  2.000000\n",
       "13  2.024846\n",
       "14  2.121320\n",
       "15  2.213594\n",
       "16  2.258318\n",
       "17  2.302173\n",
       "18  2.428992\n",
       "19  2.449490\n",
       "20  2.607681\n",
       "21  2.664583\n",
       "22  2.810694\n",
       "23  2.863564\n",
       "24  2.949576\n",
       "25  3.000000\n",
       "26  3.082207\n",
       "27  3.098387\n",
       "28  3.209361\n",
       "29  3.240370"
      ]
     },
     "execution_count": 28,
     "metadata": {},
     "output_type": "execute_result"
    }
   ],
   "source": [
    "YearsExperience_SQRT=pd.DataFrame(YearsExperience_SQRT)\n",
    "YearsExperience_SQRT"
   ]
  },
  {
   "cell_type": "code",
   "execution_count": 30,
   "id": "f737b0a5",
   "metadata": {},
   "outputs": [
    {
     "name": "stdout",
     "output_type": "stream",
     "text": [
      "Unexpected exception formatting exception. Falling back to standard exception\n"
     ]
    },
    {
     "name": "stderr",
     "output_type": "stream",
     "text": [
      "Traceback (most recent call last):\n",
      "  File \"C:\\Users\\rajpu\\anaconda3\\lib\\site-packages\\patsy\\compat.py\", line 36, in call_and_wrap_exc\n",
      "    return f(*args, **kwargs)\n",
      "  File \"C:\\Users\\rajpu\\anaconda3\\lib\\site-packages\\patsy\\eval.py\", line 165, in eval\n",
      "    return eval(code, {}, VarLookupDict([inner_namespace]\n",
      "  File \"<string>\", line 1, in <module>\n",
      "  File \"C:\\Users\\rajpu\\anaconda3\\lib\\site-packages\\patsy\\eval.py\", line 48, in __getitem__\n",
      "    return d[key]\n",
      "  File \"C:\\Users\\rajpu\\anaconda3\\lib\\site-packages\\patsy\\eval.py\", line 48, in __getitem__\n",
      "    return d[key]\n",
      "TypeError: 'RegressionResultsWrapper' object is not subscriptable\n",
      "\n",
      "The above exception was the direct cause of the following exception:\n",
      "\n",
      "Traceback (most recent call last):\n",
      "  File \"C:\\Users\\rajpu\\anaconda3\\lib\\site-packages\\IPython\\core\\interactiveshell.py\", line 3369, in run_code\n",
      "    exec(code_obj, self.user_global_ns, self.user_ns)\n",
      "  File \"C:\\Users\\rajpu\\AppData\\Local\\Temp\\ipykernel_3564\\2155358037.py\", line 1, in <cell line: 1>\n",
      "    model_sqrt= smf.ols('Salary_SQRT~YearsExperience_SQRT',data = df).fit()\n",
      "  File \"C:\\Users\\rajpu\\anaconda3\\lib\\site-packages\\statsmodels\\base\\model.py\", line 200, in from_formula\n",
      "    tmp = handle_formula_data(data, None, formula, depth=eval_env,\n",
      "  File \"C:\\Users\\rajpu\\anaconda3\\lib\\site-packages\\statsmodels\\formula\\formulatools.py\", line 66, in handle_formula_data\n",
      "    result = dmatrices(formula, Y, depth, return_type='dataframe',\n",
      "  File \"C:\\Users\\rajpu\\anaconda3\\lib\\site-packages\\patsy\\highlevel.py\", line 309, in dmatrices\n",
      "    (lhs, rhs) = _do_highlevel_design(formula_like, data, eval_env,\n",
      "  File \"C:\\Users\\rajpu\\anaconda3\\lib\\site-packages\\patsy\\highlevel.py\", line 164, in _do_highlevel_design\n",
      "    design_infos = _try_incr_builders(formula_like, data_iter_maker, eval_env,\n",
      "  File \"C:\\Users\\rajpu\\anaconda3\\lib\\site-packages\\patsy\\highlevel.py\", line 66, in _try_incr_builders\n",
      "    return design_matrix_builders([formula_like.lhs_termlist,\n",
      "  File \"C:\\Users\\rajpu\\anaconda3\\lib\\site-packages\\patsy\\build.py\", line 693, in design_matrix_builders\n",
      "    cat_levels_contrasts) = _examine_factor_types(all_factors,\n",
      "  File \"C:\\Users\\rajpu\\anaconda3\\lib\\site-packages\\patsy\\build.py\", line 443, in _examine_factor_types\n",
      "    value = factor.eval(factor_states[factor], data)\n",
      "  File \"C:\\Users\\rajpu\\anaconda3\\lib\\site-packages\\patsy\\eval.py\", line 564, in eval\n",
      "    return self._eval(memorize_state[\"eval_code\"],\n",
      "  File \"C:\\Users\\rajpu\\anaconda3\\lib\\site-packages\\patsy\\eval.py\", line 547, in _eval\n",
      "    return call_and_wrap_exc(\"Error evaluating factor\",\n",
      "  File \"C:\\Users\\rajpu\\anaconda3\\lib\\site-packages\\patsy\\compat.py\", line 43, in call_and_wrap_exc\n",
      "    exec(\"raise new_exc from e\")\n",
      "  File \"<string>\", line 1, in <module>\n",
      "patsy.PatsyError: Error evaluating factor: TypeError: 'RegressionResultsWrapper' object is not subscriptable\n",
      "    Salary_SQRT~YearsExperience_SQRT\n",
      "    ^^^^^^^^^^^\n",
      "\n",
      "During handling of the above exception, another exception occurred:\n",
      "\n",
      "Traceback (most recent call last):\n",
      "  File \"C:\\Users\\rajpu\\anaconda3\\lib\\site-packages\\IPython\\core\\interactiveshell.py\", line 1982, in showtraceback\n",
      "    stb = self.InteractiveTB.structured_traceback(\n",
      "  File \"C:\\Users\\rajpu\\anaconda3\\lib\\site-packages\\IPython\\core\\ultratb.py\", line 1118, in structured_traceback\n",
      "    return FormattedTB.structured_traceback(\n",
      "  File \"C:\\Users\\rajpu\\anaconda3\\lib\\site-packages\\IPython\\core\\ultratb.py\", line 1012, in structured_traceback\n",
      "    return VerboseTB.structured_traceback(\n",
      "  File \"C:\\Users\\rajpu\\anaconda3\\lib\\site-packages\\IPython\\core\\ultratb.py\", line 884, in structured_traceback\n",
      "    formatted_exceptions += self.format_exception_as_a_whole(etype, evalue, etb, lines_of_context,\n",
      "  File \"C:\\Users\\rajpu\\anaconda3\\lib\\site-packages\\IPython\\core\\ultratb.py\", line 807, in format_exception_as_a_whole\n",
      "    if r.frame.f_locals.get(\"__tracebackhide__\", 0) and i != lastrecord:\n",
      "  File \"C:\\Users\\rajpu\\anaconda3\\lib\\site-packages\\patsy\\eval.py\", line 66, in get\n",
      "    return self[key]\n",
      "  File \"C:\\Users\\rajpu\\anaconda3\\lib\\site-packages\\patsy\\eval.py\", line 48, in __getitem__\n",
      "    return d[key]\n",
      "  File \"C:\\Users\\rajpu\\anaconda3\\lib\\site-packages\\patsy\\eval.py\", line 48, in __getitem__\n",
      "    return d[key]\n",
      "TypeError: 'RegressionResultsWrapper' object is not subscriptable\n"
     ]
    }
   ],
   "source": [
    "model_sqrt= smf.ols('Salary_SQRT~YearsExperience_SQRT',data = df).fit()"
   ]
  },
  {
   "cell_type": "code",
   "execution_count": 31,
   "id": "b9bc8c35",
   "metadata": {},
   "outputs": [
    {
     "data": {
      "image/png": "[encoded data removed]",
      "text/plain": [
       "<Figure size 432x288 with 1 Axes>"
      ]
     },
     "metadata": {
      "needs_background": "light"
     },
     "output_type": "display_data"
    }
   ],
   "source": [
    "sns.regplot(YearsExperience_SQRT,Salary_SQRT)\n",
    "plt.xlabel(\"YearsExperience_SQRT\",fontsize=20)\n",
    "plt.ylabel(\"Salary_SQRT\",fontsize=20)\n",
    "plt.show()"
   ]
  },
  {
   "cell_type": "code",
   "execution_count": 32,
   "id": "c8312784",
   "metadata": {},
   "outputs": [
    {
     "data": {
      "image/png": "[encoded data removed]",
      "text/plain": [
       "<Figure size 432x288 with 1 Axes>"
      ]
     },
     "metadata": {
      "needs_background": "light"
     },
     "output_type": "display_data"
    }
   ],
   "source": [
    "plt.scatter(YearsExperience_SQRT,Salary_SQRT)\n",
    "plt.xlabel(\"YearsExperience_SQRT\",fontsize=20)\n",
    "plt.ylabel(\"Salary_SQRT\",fontsize=20)\n",
    "plt.show()"
   ]
  },
  {
   "cell_type": "markdown",
   "id": "0c2e50bb",
   "metadata": {},
   "source": [
    "## Cube_root_transformation"
   ]
  },
  {
   "cell_type": "code",
   "execution_count": 33,
   "id": "8968cffc",
   "metadata": {},
   "outputs": [
    {
     "data": {
      "text/plain": [
       "array([34.01124196, 35.88362627, 33.54023531, 35.17598439, 34.16842611,\n",
       "       38.40427108, 39.18127316, 37.90117442, 40.09249429, 38.52750045,\n",
       "       39.83641525, 38.21165365, 38.47533136, 38.50323243, 39.38883448,\n",
       "       40.80414222, 40.41831833, 43.63611742, 43.33202494, 45.45868326,\n",
       "       45.10067993, 46.14713442, 46.61646529, 48.46140693, 47.83144002,\n",
       "       47.26394426, 48.90541242, 48.2937713 , 49.64968465, 49.57940525])"
      ]
     },
     "execution_count": 33,
     "metadata": {},
     "output_type": "execute_result"
    }
   ],
   "source": [
    "Salary_CBRT = np.cbrt(y)\n",
    "Salary_CBRT"
   ]
  },
  {
   "cell_type": "code",
   "execution_count": 34,
   "id": "3f5497e8",
   "metadata": {},
   "outputs": [
    {
     "data": {
      "text/plain": [
       "array([1.03228012, 1.09139288, 1.14471424, 1.25992105, 1.30059145,\n",
       "       1.42604315, 1.44224957, 1.4736126 , 1.4736126 , 1.54668037,\n",
       "       1.57406092, 1.58740105, 1.58740105, 1.60052066, 1.65096362,\n",
       "       1.69849925, 1.72130062, 1.7435134 , 1.80696887, 1.81712059,\n",
       "       1.89453647, 1.92199734, 1.9916317 , 2.01652968, 2.05671012,\n",
       "       2.08008382, 2.11791179, 2.12531714, 2.17576711, 2.18975957])"
      ]
     },
     "execution_count": 34,
     "metadata": {},
     "output_type": "execute_result"
    }
   ],
   "source": [
    "YearsExperience_CBRT = np.cbrt(x)\n",
    "YearsExperience_CBRT"
   ]
  },
  {
   "cell_type": "code",
   "execution_count": 35,
   "id": "9e00b4f9",
   "metadata": {},
   "outputs": [
    {
     "data": {
      "text/html": [
       "<div>\n",
       "<style scoped>\n",
       "    .dataframe tbody tr th:only-of-type {\n",
       "        vertical-align: middle;\n",
       "    }\n",
       "\n",
       "    .dataframe tbody tr th {\n",
       "        vertical-align: top;\n",
       "    }\n",
       "\n",
       "    .dataframe thead th {\n",
       "        text-align: right;\n",
       "    }\n",
       "</style>\n",
       "<table border=\"1\" class=\"dataframe\">\n",
       "  <thead>\n",
       "    <tr style=\"text-align: right;\">\n",
       "      <th></th>\n",
       "      <th>0</th>\n",
       "    </tr>\n",
       "  </thead>\n",
       "  <tbody>\n",
       "    <tr>\n",
       "      <th>0</th>\n",
       "      <td>1.032280</td>\n",
       "    </tr>\n",
       "    <tr>\n",
       "      <th>1</th>\n",
       "      <td>1.091393</td>\n",
       "    </tr>\n",
       "    <tr>\n",
       "      <th>2</th>\n",
       "      <td>1.144714</td>\n",
       "    </tr>\n",
       "    <tr>\n",
       "      <th>3</th>\n",
       "      <td>1.259921</td>\n",
       "    </tr>\n",
       "    <tr>\n",
       "      <th>4</th>\n",
       "      <td>1.300591</td>\n",
       "    </tr>\n",
       "    <tr>\n",
       "      <th>5</th>\n",
       "      <td>1.426043</td>\n",
       "    </tr>\n",
       "    <tr>\n",
       "      <th>6</th>\n",
       "      <td>1.442250</td>\n",
       "    </tr>\n",
       "    <tr>\n",
       "      <th>7</th>\n",
       "      <td>1.473613</td>\n",
       "    </tr>\n",
       "    <tr>\n",
       "      <th>8</th>\n",
       "      <td>1.473613</td>\n",
       "    </tr>\n",
       "    <tr>\n",
       "      <th>9</th>\n",
       "      <td>1.546680</td>\n",
       "    </tr>\n",
       "    <tr>\n",
       "      <th>10</th>\n",
       "      <td>1.574061</td>\n",
       "    </tr>\n",
       "    <tr>\n",
       "      <th>11</th>\n",
       "      <td>1.587401</td>\n",
       "    </tr>\n",
       "    <tr>\n",
       "      <th>12</th>\n",
       "      <td>1.587401</td>\n",
       "    </tr>\n",
       "    <tr>\n",
       "      <th>13</th>\n",
       "      <td>1.600521</td>\n",
       "    </tr>\n",
       "    <tr>\n",
       "      <th>14</th>\n",
       "      <td>1.650964</td>\n",
       "    </tr>\n",
       "    <tr>\n",
       "      <th>15</th>\n",
       "      <td>1.698499</td>\n",
       "    </tr>\n",
       "    <tr>\n",
       "      <th>16</th>\n",
       "      <td>1.721301</td>\n",
       "    </tr>\n",
       "    <tr>\n",
       "      <th>17</th>\n",
       "      <td>1.743513</td>\n",
       "    </tr>\n",
       "    <tr>\n",
       "      <th>18</th>\n",
       "      <td>1.806969</td>\n",
       "    </tr>\n",
       "    <tr>\n",
       "      <th>19</th>\n",
       "      <td>1.817121</td>\n",
       "    </tr>\n",
       "    <tr>\n",
       "      <th>20</th>\n",
       "      <td>1.894536</td>\n",
       "    </tr>\n",
       "    <tr>\n",
       "      <th>21</th>\n",
       "      <td>1.921997</td>\n",
       "    </tr>\n",
       "    <tr>\n",
       "      <th>22</th>\n",
       "      <td>1.991632</td>\n",
       "    </tr>\n",
       "    <tr>\n",
       "      <th>23</th>\n",
       "      <td>2.016530</td>\n",
       "    </tr>\n",
       "    <tr>\n",
       "      <th>24</th>\n",
       "      <td>2.056710</td>\n",
       "    </tr>\n",
       "    <tr>\n",
       "      <th>25</th>\n",
       "      <td>2.080084</td>\n",
       "    </tr>\n",
       "    <tr>\n",
       "      <th>26</th>\n",
       "      <td>2.117912</td>\n",
       "    </tr>\n",
       "    <tr>\n",
       "      <th>27</th>\n",
       "      <td>2.125317</td>\n",
       "    </tr>\n",
       "    <tr>\n",
       "      <th>28</th>\n",
       "      <td>2.175767</td>\n",
       "    </tr>\n",
       "    <tr>\n",
       "      <th>29</th>\n",
       "      <td>2.189760</td>\n",
       "    </tr>\n",
       "  </tbody>\n",
       "</table>\n",
       "</div>"
      ],
      "text/plain": [
       "           0\n",
       "0   1.032280\n",
       "1   1.091393\n",
       "2   1.144714\n",
       "3   1.259921\n",
       "4   1.300591\n",
       "5   1.426043\n",
       "6   1.442250\n",
       "7   1.473613\n",
       "8   1.473613\n",
       "9   1.546680\n",
       "10  1.574061\n",
       "11  1.587401\n",
       "12  1.587401\n",
       "13  1.600521\n",
       "14  1.650964\n",
       "15  1.698499\n",
       "16  1.721301\n",
       "17  1.743513\n",
       "18  1.806969\n",
       "19  1.817121\n",
       "20  1.894536\n",
       "21  1.921997\n",
       "22  1.991632\n",
       "23  2.016530\n",
       "24  2.056710\n",
       "25  2.080084\n",
       "26  2.117912\n",
       "27  2.125317\n",
       "28  2.175767\n",
       "29  2.189760"
      ]
     },
     "execution_count": 35,
     "metadata": {},
     "output_type": "execute_result"
    }
   ],
   "source": [
    "YearsExperience_CBRT=pd.DataFrame(YearsExperience_CBRT)\n",
    "YearsExperience_CBRT"
   ]
  },
  {
   "cell_type": "code",
   "execution_count": 36,
   "id": "cc8781be",
   "metadata": {},
   "outputs": [
    {
     "data": {
      "text/html": [
       "<div>\n",
       "<style scoped>\n",
       "    .dataframe tbody tr th:only-of-type {\n",
       "        vertical-align: middle;\n",
       "    }\n",
       "\n",
       "    .dataframe tbody tr th {\n",
       "        vertical-align: top;\n",
       "    }\n",
       "\n",
       "    .dataframe thead th {\n",
       "        text-align: right;\n",
       "    }\n",
       "</style>\n",
       "<table border=\"1\" class=\"dataframe\">\n",
       "  <thead>\n",
       "    <tr style=\"text-align: right;\">\n",
       "      <th></th>\n",
       "      <th>0</th>\n",
       "    </tr>\n",
       "  </thead>\n",
       "  <tbody>\n",
       "    <tr>\n",
       "      <th>0</th>\n",
       "      <td>34.011242</td>\n",
       "    </tr>\n",
       "    <tr>\n",
       "      <th>1</th>\n",
       "      <td>35.883626</td>\n",
       "    </tr>\n",
       "    <tr>\n",
       "      <th>2</th>\n",
       "      <td>33.540235</td>\n",
       "    </tr>\n",
       "    <tr>\n",
       "      <th>3</th>\n",
       "      <td>35.175984</td>\n",
       "    </tr>\n",
       "    <tr>\n",
       "      <th>4</th>\n",
       "      <td>34.168426</td>\n",
       "    </tr>\n",
       "    <tr>\n",
       "      <th>5</th>\n",
       "      <td>38.404271</td>\n",
       "    </tr>\n",
       "    <tr>\n",
       "      <th>6</th>\n",
       "      <td>39.181273</td>\n",
       "    </tr>\n",
       "    <tr>\n",
       "      <th>7</th>\n",
       "      <td>37.901174</td>\n",
       "    </tr>\n",
       "    <tr>\n",
       "      <th>8</th>\n",
       "      <td>40.092494</td>\n",
       "    </tr>\n",
       "    <tr>\n",
       "      <th>9</th>\n",
       "      <td>38.527500</td>\n",
       "    </tr>\n",
       "    <tr>\n",
       "      <th>10</th>\n",
       "      <td>39.836415</td>\n",
       "    </tr>\n",
       "    <tr>\n",
       "      <th>11</th>\n",
       "      <td>38.211654</td>\n",
       "    </tr>\n",
       "    <tr>\n",
       "      <th>12</th>\n",
       "      <td>38.475331</td>\n",
       "    </tr>\n",
       "    <tr>\n",
       "      <th>13</th>\n",
       "      <td>38.503232</td>\n",
       "    </tr>\n",
       "    <tr>\n",
       "      <th>14</th>\n",
       "      <td>39.388834</td>\n",
       "    </tr>\n",
       "    <tr>\n",
       "      <th>15</th>\n",
       "      <td>40.804142</td>\n",
       "    </tr>\n",
       "    <tr>\n",
       "      <th>16</th>\n",
       "      <td>40.418318</td>\n",
       "    </tr>\n",
       "    <tr>\n",
       "      <th>17</th>\n",
       "      <td>43.636117</td>\n",
       "    </tr>\n",
       "    <tr>\n",
       "      <th>18</th>\n",
       "      <td>43.332025</td>\n",
       "    </tr>\n",
       "    <tr>\n",
       "      <th>19</th>\n",
       "      <td>45.458683</td>\n",
       "    </tr>\n",
       "    <tr>\n",
       "      <th>20</th>\n",
       "      <td>45.100680</td>\n",
       "    </tr>\n",
       "    <tr>\n",
       "      <th>21</th>\n",
       "      <td>46.147134</td>\n",
       "    </tr>\n",
       "    <tr>\n",
       "      <th>22</th>\n",
       "      <td>46.616465</td>\n",
       "    </tr>\n",
       "    <tr>\n",
       "      <th>23</th>\n",
       "      <td>48.461407</td>\n",
       "    </tr>\n",
       "    <tr>\n",
       "      <th>24</th>\n",
       "      <td>47.831440</td>\n",
       "    </tr>\n",
       "    <tr>\n",
       "      <th>25</th>\n",
       "      <td>47.263944</td>\n",
       "    </tr>\n",
       "    <tr>\n",
       "      <th>26</th>\n",
       "      <td>48.905412</td>\n",
       "    </tr>\n",
       "    <tr>\n",
       "      <th>27</th>\n",
       "      <td>48.293771</td>\n",
       "    </tr>\n",
       "    <tr>\n",
       "      <th>28</th>\n",
       "      <td>49.649685</td>\n",
       "    </tr>\n",
       "    <tr>\n",
       "      <th>29</th>\n",
       "      <td>49.579405</td>\n",
       "    </tr>\n",
       "  </tbody>\n",
       "</table>\n",
       "</div>"
      ],
      "text/plain": [
       "            0\n",
       "0   34.011242\n",
       "1   35.883626\n",
       "2   33.540235\n",
       "3   35.175984\n",
       "4   34.168426\n",
       "5   38.404271\n",
       "6   39.181273\n",
       "7   37.901174\n",
       "8   40.092494\n",
       "9   38.527500\n",
       "10  39.836415\n",
       "11  38.211654\n",
       "12  38.475331\n",
       "13  38.503232\n",
       "14  39.388834\n",
       "15  40.804142\n",
       "16  40.418318\n",
       "17  43.636117\n",
       "18  43.332025\n",
       "19  45.458683\n",
       "20  45.100680\n",
       "21  46.147134\n",
       "22  46.616465\n",
       "23  48.461407\n",
       "24  47.831440\n",
       "25  47.263944\n",
       "26  48.905412\n",
       "27  48.293771\n",
       "28  49.649685\n",
       "29  49.579405"
      ]
     },
     "execution_count": 36,
     "metadata": {},
     "output_type": "execute_result"
    }
   ],
   "source": [
    "Salary_CBRT=pd.DataFrame(Salary_CBRT)\n",
    "Salary_CBRT"
   ]
  },
  {
   "cell_type": "code",
   "execution_count": 37,
   "id": "664220b8",
   "metadata": {},
   "outputs": [
    {
     "name": "stdout",
     "output_type": "stream",
     "text": [
      "Unexpected exception formatting exception. Falling back to standard exception\n"
     ]
    },
    {
     "name": "stderr",
     "output_type": "stream",
     "text": [
      "Traceback (most recent call last):\n",
      "  File \"C:\\Users\\rajpu\\anaconda3\\lib\\site-packages\\patsy\\compat.py\", line 36, in call_and_wrap_exc\n",
      "    return f(*args, **kwargs)\n",
      "  File \"C:\\Users\\rajpu\\anaconda3\\lib\\site-packages\\patsy\\eval.py\", line 165, in eval\n",
      "    return eval(code, {}, VarLookupDict([inner_namespace]\n",
      "  File \"<string>\", line 1, in <module>\n",
      "  File \"C:\\Users\\rajpu\\anaconda3\\lib\\site-packages\\patsy\\eval.py\", line 48, in __getitem__\n",
      "    return d[key]\n",
      "  File \"C:\\Users\\rajpu\\anaconda3\\lib\\site-packages\\patsy\\eval.py\", line 48, in __getitem__\n",
      "    return d[key]\n",
      "TypeError: 'RegressionResultsWrapper' object is not subscriptable\n",
      "\n",
      "The above exception was the direct cause of the following exception:\n",
      "\n",
      "Traceback (most recent call last):\n",
      "  File \"C:\\Users\\rajpu\\anaconda3\\lib\\site-packages\\IPython\\core\\interactiveshell.py\", line 3369, in run_code\n",
      "    exec(code_obj, self.user_global_ns, self.user_ns)\n",
      "  File \"C:\\Users\\rajpu\\AppData\\Local\\Temp\\ipykernel_3564\\3806463463.py\", line 1, in <cell line: 1>\n",
      "    model_cbrt = smf.ols('Salary_CBRT~YearsExperience_CBRT', data = df).fit()\n",
      "  File \"C:\\Users\\rajpu\\anaconda3\\lib\\site-packages\\statsmodels\\base\\model.py\", line 200, in from_formula\n",
      "    tmp = handle_formula_data(data, None, formula, depth=eval_env,\n",
      "  File \"C:\\Users\\rajpu\\anaconda3\\lib\\site-packages\\statsmodels\\formula\\formulatools.py\", line 66, in handle_formula_data\n",
      "    result = dmatrices(formula, Y, depth, return_type='dataframe',\n",
      "  File \"C:\\Users\\rajpu\\anaconda3\\lib\\site-packages\\patsy\\highlevel.py\", line 309, in dmatrices\n",
      "    (lhs, rhs) = _do_highlevel_design(formula_like, data, eval_env,\n",
      "  File \"C:\\Users\\rajpu\\anaconda3\\lib\\site-packages\\patsy\\highlevel.py\", line 164, in _do_highlevel_design\n",
      "    design_infos = _try_incr_builders(formula_like, data_iter_maker, eval_env,\n",
      "  File \"C:\\Users\\rajpu\\anaconda3\\lib\\site-packages\\patsy\\highlevel.py\", line 66, in _try_incr_builders\n",
      "    return design_matrix_builders([formula_like.lhs_termlist,\n",
      "  File \"C:\\Users\\rajpu\\anaconda3\\lib\\site-packages\\patsy\\build.py\", line 693, in design_matrix_builders\n",
      "    cat_levels_contrasts) = _examine_factor_types(all_factors,\n",
      "  File \"C:\\Users\\rajpu\\anaconda3\\lib\\site-packages\\patsy\\build.py\", line 443, in _examine_factor_types\n",
      "    value = factor.eval(factor_states[factor], data)\n",
      "  File \"C:\\Users\\rajpu\\anaconda3\\lib\\site-packages\\patsy\\eval.py\", line 564, in eval\n",
      "    return self._eval(memorize_state[\"eval_code\"],\n",
      "  File \"C:\\Users\\rajpu\\anaconda3\\lib\\site-packages\\patsy\\eval.py\", line 547, in _eval\n",
      "    return call_and_wrap_exc(\"Error evaluating factor\",\n",
      "  File \"C:\\Users\\rajpu\\anaconda3\\lib\\site-packages\\patsy\\compat.py\", line 43, in call_and_wrap_exc\n",
      "    exec(\"raise new_exc from e\")\n",
      "  File \"<string>\", line 1, in <module>\n",
      "patsy.PatsyError: Error evaluating factor: TypeError: 'RegressionResultsWrapper' object is not subscriptable\n",
      "    Salary_CBRT~YearsExperience_CBRT\n",
      "    ^^^^^^^^^^^\n",
      "\n",
      "During handling of the above exception, another exception occurred:\n",
      "\n",
      "Traceback (most recent call last):\n",
      "  File \"C:\\Users\\rajpu\\anaconda3\\lib\\site-packages\\IPython\\core\\interactiveshell.py\", line 1982, in showtraceback\n",
      "    stb = self.InteractiveTB.structured_traceback(\n",
      "  File \"C:\\Users\\rajpu\\anaconda3\\lib\\site-packages\\IPython\\core\\ultratb.py\", line 1118, in structured_traceback\n",
      "    return FormattedTB.structured_traceback(\n",
      "  File \"C:\\Users\\rajpu\\anaconda3\\lib\\site-packages\\IPython\\core\\ultratb.py\", line 1012, in structured_traceback\n",
      "    return VerboseTB.structured_traceback(\n",
      "  File \"C:\\Users\\rajpu\\anaconda3\\lib\\site-packages\\IPython\\core\\ultratb.py\", line 884, in structured_traceback\n",
      "    formatted_exceptions += self.format_exception_as_a_whole(etype, evalue, etb, lines_of_context,\n",
      "  File \"C:\\Users\\rajpu\\anaconda3\\lib\\site-packages\\IPython\\core\\ultratb.py\", line 807, in format_exception_as_a_whole\n",
      "    if r.frame.f_locals.get(\"__tracebackhide__\", 0) and i != lastrecord:\n",
      "  File \"C:\\Users\\rajpu\\anaconda3\\lib\\site-packages\\patsy\\eval.py\", line 66, in get\n",
      "    return self[key]\n",
      "  File \"C:\\Users\\rajpu\\anaconda3\\lib\\site-packages\\patsy\\eval.py\", line 48, in __getitem__\n",
      "    return d[key]\n",
      "  File \"C:\\Users\\rajpu\\anaconda3\\lib\\site-packages\\patsy\\eval.py\", line 48, in __getitem__\n",
      "    return d[key]\n",
      "TypeError: 'RegressionResultsWrapper' object is not subscriptable\n"
     ]
    }
   ],
   "source": [
    "model_cbrt = smf.ols('Salary_CBRT~YearsExperience_CBRT', data = df).fit()"
   ]
  },
  {
   "cell_type": "code",
   "execution_count": 38,
   "id": "41ddf024",
   "metadata": {},
   "outputs": [
    {
     "data": {
      "image/png": "[encoded data removed]",
      "text/plain": [
       "<Figure size 432x288 with 1 Axes>"
      ]
     },
     "metadata": {
      "needs_background": "light"
     },
     "output_type": "display_data"
    }
   ],
   "source": [
    "sns.regplot(YearsExperience_CBRT,Salary_SQRT)\n",
    "plt.xlabel(\"YearsExperience_CBRT\",fontsize=20)\n",
    "plt.ylabel(\"Salary_CBRT\",fontsize=20)\n",
    "plt.show()"
   ]
  },
  {
   "cell_type": "markdown",
   "id": "ad3729f7",
   "metadata": {},
   "source": [
    "## Log_Transformation"
   ]
  },
  {
   "cell_type": "code",
   "execution_count": 39,
   "id": "fe29ee23",
   "metadata": {},
   "outputs": [
    {
     "data": {
      "text/plain": [
       "array([0.09531018, 0.26236426, 0.40546511, 0.69314718, 0.78845736,\n",
       "       1.06471074, 1.09861229, 1.16315081, 1.16315081, 1.30833282,\n",
       "       1.36097655, 1.38629436, 1.38629436, 1.41098697, 1.5040774 ,\n",
       "       1.58923521, 1.62924054, 1.66770682, 1.77495235, 1.79175947,\n",
       "       1.91692261, 1.96009478, 2.06686276, 2.10413415, 2.16332303,\n",
       "       2.19722458, 2.2512918 , 2.2617631 , 2.3321439 , 2.35137526])"
      ]
     },
     "execution_count": 39,
     "metadata": {},
     "output_type": "execute_result"
    }
   ],
   "source": [
    "Salary_Log= np.log(x)\n",
    "Salary_Log"
   ]
  },
  {
   "cell_type": "code",
   "execution_count": 40,
   "id": "d52c955a",
   "metadata": {},
   "outputs": [
    {
     "data": {
      "text/plain": [
       "array([10.58007335, 10.7408433 , 10.53823732, 10.68109076, 10.59390601,\n",
       "       10.94450604, 11.00459672, 10.9049463 , 11.07356743, 10.95411685,\n",
       "       11.05434435, 10.92942162, 10.95005188, 10.95222659, 11.02044716,\n",
       "       11.1263508 , 11.09784932, 11.32765557, 11.3066759 , 11.45041156,\n",
       "       11.42669197, 11.4955046 , 11.52586143, 11.64230324, 11.60304949,\n",
       "       11.56724318, 11.66966422, 11.63190778, 11.71497612, 11.71072659])"
      ]
     },
     "execution_count": 40,
     "metadata": {},
     "output_type": "execute_result"
    }
   ],
   "source": [
    "YearsExperience_Log= np.log(y)\n",
    "YearsExperience_Log"
   ]
  },
  {
   "cell_type": "code",
   "execution_count": 41,
   "id": "c179384a",
   "metadata": {},
   "outputs": [
    {
     "data": {
      "text/html": [
       "<div>\n",
       "<style scoped>\n",
       "    .dataframe tbody tr th:only-of-type {\n",
       "        vertical-align: middle;\n",
       "    }\n",
       "\n",
       "    .dataframe tbody tr th {\n",
       "        vertical-align: top;\n",
       "    }\n",
       "\n",
       "    .dataframe thead th {\n",
       "        text-align: right;\n",
       "    }\n",
       "</style>\n",
       "<table border=\"1\" class=\"dataframe\">\n",
       "  <thead>\n",
       "    <tr style=\"text-align: right;\">\n",
       "      <th></th>\n",
       "      <th>0</th>\n",
       "    </tr>\n",
       "  </thead>\n",
       "  <tbody>\n",
       "    <tr>\n",
       "      <th>0</th>\n",
       "      <td>10.580073</td>\n",
       "    </tr>\n",
       "    <tr>\n",
       "      <th>1</th>\n",
       "      <td>10.740843</td>\n",
       "    </tr>\n",
       "    <tr>\n",
       "      <th>2</th>\n",
       "      <td>10.538237</td>\n",
       "    </tr>\n",
       "    <tr>\n",
       "      <th>3</th>\n",
       "      <td>10.681091</td>\n",
       "    </tr>\n",
       "    <tr>\n",
       "      <th>4</th>\n",
       "      <td>10.593906</td>\n",
       "    </tr>\n",
       "    <tr>\n",
       "      <th>5</th>\n",
       "      <td>10.944506</td>\n",
       "    </tr>\n",
       "    <tr>\n",
       "      <th>6</th>\n",
       "      <td>11.004597</td>\n",
       "    </tr>\n",
       "    <tr>\n",
       "      <th>7</th>\n",
       "      <td>10.904946</td>\n",
       "    </tr>\n",
       "    <tr>\n",
       "      <th>8</th>\n",
       "      <td>11.073567</td>\n",
       "    </tr>\n",
       "    <tr>\n",
       "      <th>9</th>\n",
       "      <td>10.954117</td>\n",
       "    </tr>\n",
       "    <tr>\n",
       "      <th>10</th>\n",
       "      <td>11.054344</td>\n",
       "    </tr>\n",
       "    <tr>\n",
       "      <th>11</th>\n",
       "      <td>10.929422</td>\n",
       "    </tr>\n",
       "    <tr>\n",
       "      <th>12</th>\n",
       "      <td>10.950052</td>\n",
       "    </tr>\n",
       "    <tr>\n",
       "      <th>13</th>\n",
       "      <td>10.952227</td>\n",
       "    </tr>\n",
       "    <tr>\n",
       "      <th>14</th>\n",
       "      <td>11.020447</td>\n",
       "    </tr>\n",
       "    <tr>\n",
       "      <th>15</th>\n",
       "      <td>11.126351</td>\n",
       "    </tr>\n",
       "    <tr>\n",
       "      <th>16</th>\n",
       "      <td>11.097849</td>\n",
       "    </tr>\n",
       "    <tr>\n",
       "      <th>17</th>\n",
       "      <td>11.327656</td>\n",
       "    </tr>\n",
       "    <tr>\n",
       "      <th>18</th>\n",
       "      <td>11.306676</td>\n",
       "    </tr>\n",
       "    <tr>\n",
       "      <th>19</th>\n",
       "      <td>11.450412</td>\n",
       "    </tr>\n",
       "    <tr>\n",
       "      <th>20</th>\n",
       "      <td>11.426692</td>\n",
       "    </tr>\n",
       "    <tr>\n",
       "      <th>21</th>\n",
       "      <td>11.495505</td>\n",
       "    </tr>\n",
       "    <tr>\n",
       "      <th>22</th>\n",
       "      <td>11.525861</td>\n",
       "    </tr>\n",
       "    <tr>\n",
       "      <th>23</th>\n",
       "      <td>11.642303</td>\n",
       "    </tr>\n",
       "    <tr>\n",
       "      <th>24</th>\n",
       "      <td>11.603049</td>\n",
       "    </tr>\n",
       "    <tr>\n",
       "      <th>25</th>\n",
       "      <td>11.567243</td>\n",
       "    </tr>\n",
       "    <tr>\n",
       "      <th>26</th>\n",
       "      <td>11.669664</td>\n",
       "    </tr>\n",
       "    <tr>\n",
       "      <th>27</th>\n",
       "      <td>11.631908</td>\n",
       "    </tr>\n",
       "    <tr>\n",
       "      <th>28</th>\n",
       "      <td>11.714976</td>\n",
       "    </tr>\n",
       "    <tr>\n",
       "      <th>29</th>\n",
       "      <td>11.710727</td>\n",
       "    </tr>\n",
       "  </tbody>\n",
       "</table>\n",
       "</div>"
      ],
      "text/plain": [
       "            0\n",
       "0   10.580073\n",
       "1   10.740843\n",
       "2   10.538237\n",
       "3   10.681091\n",
       "4   10.593906\n",
       "5   10.944506\n",
       "6   11.004597\n",
       "7   10.904946\n",
       "8   11.073567\n",
       "9   10.954117\n",
       "10  11.054344\n",
       "11  10.929422\n",
       "12  10.950052\n",
       "13  10.952227\n",
       "14  11.020447\n",
       "15  11.126351\n",
       "16  11.097849\n",
       "17  11.327656\n",
       "18  11.306676\n",
       "19  11.450412\n",
       "20  11.426692\n",
       "21  11.495505\n",
       "22  11.525861\n",
       "23  11.642303\n",
       "24  11.603049\n",
       "25  11.567243\n",
       "26  11.669664\n",
       "27  11.631908\n",
       "28  11.714976\n",
       "29  11.710727"
      ]
     },
     "execution_count": 41,
     "metadata": {},
     "output_type": "execute_result"
    }
   ],
   "source": [
    "YearsExperience_Log=pd.DataFrame(YearsExperience_Log)\n",
    "YearsExperience_Log"
   ]
  },
  {
   "cell_type": "code",
   "execution_count": 42,
   "id": "b603f0c6",
   "metadata": {},
   "outputs": [
    {
     "data": {
      "text/html": [
       "<div>\n",
       "<style scoped>\n",
       "    .dataframe tbody tr th:only-of-type {\n",
       "        vertical-align: middle;\n",
       "    }\n",
       "\n",
       "    .dataframe tbody tr th {\n",
       "        vertical-align: top;\n",
       "    }\n",
       "\n",
       "    .dataframe thead th {\n",
       "        text-align: right;\n",
       "    }\n",
       "</style>\n",
       "<table border=\"1\" class=\"dataframe\">\n",
       "  <thead>\n",
       "    <tr style=\"text-align: right;\">\n",
       "      <th></th>\n",
       "      <th>0</th>\n",
       "    </tr>\n",
       "  </thead>\n",
       "  <tbody>\n",
       "    <tr>\n",
       "      <th>0</th>\n",
       "      <td>0.095310</td>\n",
       "    </tr>\n",
       "    <tr>\n",
       "      <th>1</th>\n",
       "      <td>0.262364</td>\n",
       "    </tr>\n",
       "    <tr>\n",
       "      <th>2</th>\n",
       "      <td>0.405465</td>\n",
       "    </tr>\n",
       "    <tr>\n",
       "      <th>3</th>\n",
       "      <td>0.693147</td>\n",
       "    </tr>\n",
       "    <tr>\n",
       "      <th>4</th>\n",
       "      <td>0.788457</td>\n",
       "    </tr>\n",
       "    <tr>\n",
       "      <th>5</th>\n",
       "      <td>1.064711</td>\n",
       "    </tr>\n",
       "    <tr>\n",
       "      <th>6</th>\n",
       "      <td>1.098612</td>\n",
       "    </tr>\n",
       "    <tr>\n",
       "      <th>7</th>\n",
       "      <td>1.163151</td>\n",
       "    </tr>\n",
       "    <tr>\n",
       "      <th>8</th>\n",
       "      <td>1.163151</td>\n",
       "    </tr>\n",
       "    <tr>\n",
       "      <th>9</th>\n",
       "      <td>1.308333</td>\n",
       "    </tr>\n",
       "    <tr>\n",
       "      <th>10</th>\n",
       "      <td>1.360977</td>\n",
       "    </tr>\n",
       "    <tr>\n",
       "      <th>11</th>\n",
       "      <td>1.386294</td>\n",
       "    </tr>\n",
       "    <tr>\n",
       "      <th>12</th>\n",
       "      <td>1.386294</td>\n",
       "    </tr>\n",
       "    <tr>\n",
       "      <th>13</th>\n",
       "      <td>1.410987</td>\n",
       "    </tr>\n",
       "    <tr>\n",
       "      <th>14</th>\n",
       "      <td>1.504077</td>\n",
       "    </tr>\n",
       "    <tr>\n",
       "      <th>15</th>\n",
       "      <td>1.589235</td>\n",
       "    </tr>\n",
       "    <tr>\n",
       "      <th>16</th>\n",
       "      <td>1.629241</td>\n",
       "    </tr>\n",
       "    <tr>\n",
       "      <th>17</th>\n",
       "      <td>1.667707</td>\n",
       "    </tr>\n",
       "    <tr>\n",
       "      <th>18</th>\n",
       "      <td>1.774952</td>\n",
       "    </tr>\n",
       "    <tr>\n",
       "      <th>19</th>\n",
       "      <td>1.791759</td>\n",
       "    </tr>\n",
       "    <tr>\n",
       "      <th>20</th>\n",
       "      <td>1.916923</td>\n",
       "    </tr>\n",
       "    <tr>\n",
       "      <th>21</th>\n",
       "      <td>1.960095</td>\n",
       "    </tr>\n",
       "    <tr>\n",
       "      <th>22</th>\n",
       "      <td>2.066863</td>\n",
       "    </tr>\n",
       "    <tr>\n",
       "      <th>23</th>\n",
       "      <td>2.104134</td>\n",
       "    </tr>\n",
       "    <tr>\n",
       "      <th>24</th>\n",
       "      <td>2.163323</td>\n",
       "    </tr>\n",
       "    <tr>\n",
       "      <th>25</th>\n",
       "      <td>2.197225</td>\n",
       "    </tr>\n",
       "    <tr>\n",
       "      <th>26</th>\n",
       "      <td>2.251292</td>\n",
       "    </tr>\n",
       "    <tr>\n",
       "      <th>27</th>\n",
       "      <td>2.261763</td>\n",
       "    </tr>\n",
       "    <tr>\n",
       "      <th>28</th>\n",
       "      <td>2.332144</td>\n",
       "    </tr>\n",
       "    <tr>\n",
       "      <th>29</th>\n",
       "      <td>2.351375</td>\n",
       "    </tr>\n",
       "  </tbody>\n",
       "</table>\n",
       "</div>"
      ],
      "text/plain": [
       "           0\n",
       "0   0.095310\n",
       "1   0.262364\n",
       "2   0.405465\n",
       "3   0.693147\n",
       "4   0.788457\n",
       "5   1.064711\n",
       "6   1.098612\n",
       "7   1.163151\n",
       "8   1.163151\n",
       "9   1.308333\n",
       "10  1.360977\n",
       "11  1.386294\n",
       "12  1.386294\n",
       "13  1.410987\n",
       "14  1.504077\n",
       "15  1.589235\n",
       "16  1.629241\n",
       "17  1.667707\n",
       "18  1.774952\n",
       "19  1.791759\n",
       "20  1.916923\n",
       "21  1.960095\n",
       "22  2.066863\n",
       "23  2.104134\n",
       "24  2.163323\n",
       "25  2.197225\n",
       "26  2.251292\n",
       "27  2.261763\n",
       "28  2.332144\n",
       "29  2.351375"
      ]
     },
     "execution_count": 42,
     "metadata": {},
     "output_type": "execute_result"
    }
   ],
   "source": [
    "Salary_Log=pd.DataFrame(Salary_Log)\n",
    "Salary_Log"
   ]
  },
  {
   "cell_type": "code",
   "execution_count": 43,
   "id": "6ee3de78",
   "metadata": {},
   "outputs": [
    {
     "name": "stdout",
     "output_type": "stream",
     "text": [
      "Unexpected exception formatting exception. Falling back to standard exception\n"
     ]
    },
    {
     "name": "stderr",
     "output_type": "stream",
     "text": [
      "Traceback (most recent call last):\n",
      "  File \"C:\\Users\\rajpu\\anaconda3\\lib\\site-packages\\patsy\\compat.py\", line 36, in call_and_wrap_exc\n",
      "    return f(*args, **kwargs)\n",
      "  File \"C:\\Users\\rajpu\\anaconda3\\lib\\site-packages\\patsy\\eval.py\", line 165, in eval\n",
      "    return eval(code, {}, VarLookupDict([inner_namespace]\n",
      "  File \"<string>\", line 1, in <module>\n",
      "  File \"C:\\Users\\rajpu\\anaconda3\\lib\\site-packages\\patsy\\eval.py\", line 48, in __getitem__\n",
      "    return d[key]\n",
      "  File \"C:\\Users\\rajpu\\anaconda3\\lib\\site-packages\\patsy\\eval.py\", line 48, in __getitem__\n",
      "    return d[key]\n",
      "TypeError: 'RegressionResultsWrapper' object is not subscriptable\n",
      "\n",
      "The above exception was the direct cause of the following exception:\n",
      "\n",
      "Traceback (most recent call last):\n",
      "  File \"C:\\Users\\rajpu\\anaconda3\\lib\\site-packages\\IPython\\core\\interactiveshell.py\", line 3369, in run_code\n",
      "    exec(code_obj, self.user_global_ns, self.user_ns)\n",
      "  File \"C:\\Users\\rajpu\\AppData\\Local\\Temp\\ipykernel_3564\\3202524810.py\", line 1, in <cell line: 1>\n",
      "    model_LOG= smf.ols('Salary_Log~YearsExperience_Log',data = df).fit()\n",
      "  File \"C:\\Users\\rajpu\\anaconda3\\lib\\site-packages\\statsmodels\\base\\model.py\", line 200, in from_formula\n",
      "    tmp = handle_formula_data(data, None, formula, depth=eval_env,\n",
      "  File \"C:\\Users\\rajpu\\anaconda3\\lib\\site-packages\\statsmodels\\formula\\formulatools.py\", line 66, in handle_formula_data\n",
      "    result = dmatrices(formula, Y, depth, return_type='dataframe',\n",
      "  File \"C:\\Users\\rajpu\\anaconda3\\lib\\site-packages\\patsy\\highlevel.py\", line 309, in dmatrices\n",
      "    (lhs, rhs) = _do_highlevel_design(formula_like, data, eval_env,\n",
      "  File \"C:\\Users\\rajpu\\anaconda3\\lib\\site-packages\\patsy\\highlevel.py\", line 164, in _do_highlevel_design\n",
      "    design_infos = _try_incr_builders(formula_like, data_iter_maker, eval_env,\n",
      "  File \"C:\\Users\\rajpu\\anaconda3\\lib\\site-packages\\patsy\\highlevel.py\", line 66, in _try_incr_builders\n",
      "    return design_matrix_builders([formula_like.lhs_termlist,\n",
      "  File \"C:\\Users\\rajpu\\anaconda3\\lib\\site-packages\\patsy\\build.py\", line 693, in design_matrix_builders\n",
      "    cat_levels_contrasts) = _examine_factor_types(all_factors,\n",
      "  File \"C:\\Users\\rajpu\\anaconda3\\lib\\site-packages\\patsy\\build.py\", line 443, in _examine_factor_types\n",
      "    value = factor.eval(factor_states[factor], data)\n",
      "  File \"C:\\Users\\rajpu\\anaconda3\\lib\\site-packages\\patsy\\eval.py\", line 564, in eval\n",
      "    return self._eval(memorize_state[\"eval_code\"],\n",
      "  File \"C:\\Users\\rajpu\\anaconda3\\lib\\site-packages\\patsy\\eval.py\", line 547, in _eval\n",
      "    return call_and_wrap_exc(\"Error evaluating factor\",\n",
      "  File \"C:\\Users\\rajpu\\anaconda3\\lib\\site-packages\\patsy\\compat.py\", line 43, in call_and_wrap_exc\n",
      "    exec(\"raise new_exc from e\")\n",
      "  File \"<string>\", line 1, in <module>\n",
      "patsy.PatsyError: Error evaluating factor: TypeError: 'RegressionResultsWrapper' object is not subscriptable\n",
      "    Salary_Log~YearsExperience_Log\n",
      "    ^^^^^^^^^^\n",
      "\n",
      "During handling of the above exception, another exception occurred:\n",
      "\n",
      "Traceback (most recent call last):\n",
      "  File \"C:\\Users\\rajpu\\anaconda3\\lib\\site-packages\\IPython\\core\\interactiveshell.py\", line 1982, in showtraceback\n",
      "    stb = self.InteractiveTB.structured_traceback(\n",
      "  File \"C:\\Users\\rajpu\\anaconda3\\lib\\site-packages\\IPython\\core\\ultratb.py\", line 1118, in structured_traceback\n",
      "    return FormattedTB.structured_traceback(\n",
      "  File \"C:\\Users\\rajpu\\anaconda3\\lib\\site-packages\\IPython\\core\\ultratb.py\", line 1012, in structured_traceback\n",
      "    return VerboseTB.structured_traceback(\n",
      "  File \"C:\\Users\\rajpu\\anaconda3\\lib\\site-packages\\IPython\\core\\ultratb.py\", line 884, in structured_traceback\n",
      "    formatted_exceptions += self.format_exception_as_a_whole(etype, evalue, etb, lines_of_context,\n",
      "  File \"C:\\Users\\rajpu\\anaconda3\\lib\\site-packages\\IPython\\core\\ultratb.py\", line 807, in format_exception_as_a_whole\n",
      "    if r.frame.f_locals.get(\"__tracebackhide__\", 0) and i != lastrecord:\n",
      "  File \"C:\\Users\\rajpu\\anaconda3\\lib\\site-packages\\patsy\\eval.py\", line 66, in get\n",
      "    return self[key]\n",
      "  File \"C:\\Users\\rajpu\\anaconda3\\lib\\site-packages\\patsy\\eval.py\", line 48, in __getitem__\n",
      "    return d[key]\n",
      "  File \"C:\\Users\\rajpu\\anaconda3\\lib\\site-packages\\patsy\\eval.py\", line 48, in __getitem__\n",
      "    return d[key]\n",
      "TypeError: 'RegressionResultsWrapper' object is not subscriptable\n"
     ]
    }
   ],
   "source": [
    "model_LOG= smf.ols('Salary_Log~YearsExperience_Log',data = df).fit()"
   ]
  },
  {
   "cell_type": "code",
   "execution_count": 44,
   "id": "e823a33f",
   "metadata": {},
   "outputs": [
    {
     "data": {
      "image/png": "[encoded data removed]",
      "text/plain": [
       "<Figure size 432x288 with 1 Axes>"
      ]
     },
     "metadata": {
      "needs_background": "light"
     },
     "output_type": "display_data"
    }
   ],
   "source": [
    "sns.regplot(YearsExperience_Log,Salary_Log)\n",
    "plt.xlabel(\"YearsExperience_Log\",fontsize=20)\n",
    "plt.ylabel(\"Salary_Log\",fontsize=20)\n",
    "plt.show()"
   ]
  }
 ],
 "metadata": {
  "kernelspec": {
   "display_name": "Python 3 (ipykernel)",
   "language": "python",
   "name": "python3"
  },
  "language_info": {
   "codemirror_mode": {
    "name": "ipython",
    "version": 3
   },
   "file_extension": ".py",
   "mimetype": "text/x-python",
   "name": "python",
   "nbconvert_exporter": "python",
   "pygments_lexer": "ipython3",
   "version": "3.9.12"
  }
 },
 "nbformat": 4,
 "nbformat_minor": 5
}
