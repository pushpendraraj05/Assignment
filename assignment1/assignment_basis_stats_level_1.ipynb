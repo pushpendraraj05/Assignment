{
 "cells": [
  {
   "cell_type": "markdown",
   "id": "33e5e681",
   "metadata": {},
   "source": [
    "##  Q.3 Three Coins are tossed, find the probability that two heads and one tail are obtained?"
   ]
  },
  {
   "cell_type": "code",
   "execution_count": 2,
   "id": "63c3c66f",
   "metadata": {},
   "outputs": [
    {
     "data": {
      "text/plain": [
       "0.375"
      ]
     },
     "execution_count": 2,
     "metadata": {},
     "output_type": "execute_result"
    }
   ],
   "source": [
    "import pandas as pd\n",
    "import numpy as np\n",
    "\n",
    "#Sample_space=2H& 1T\n",
    "S={'H H H'},{'H H T'},{'H T H'},{'T H H'},{'T T T'},{'T T H'},{'T H T'},{'H T T'}\n",
    "Probability_head1=1/len(S)\n",
    "Probability_head2=1/len(S)\n",
    "Probability_tail1=1/len(S)\n",
    "\n",
    "Probability_head1+Probability_head2+Probability_tail1"
   ]
  },
  {
   "cell_type": "markdown",
   "id": "350aae03",
   "metadata": {},
   "source": [
    "## Q.4 Two Dice are rolled, find the probability that sum is"
   ]
  },
  {
   "cell_type": "code",
   "execution_count": 3,
   "id": "4db908f2",
   "metadata": {},
   "outputs": [
    {
     "name": "stdout",
     "output_type": "stream",
     "text": [
      "0.0\n",
      "0.167\n",
      "0.139\n"
     ]
    }
   ],
   "source": [
    "#a)\tEqual to 1\n",
    "#b)\tLess than or equal to 4\n",
    "#c)\tSum is divisible by 2 and  3\n",
    "\n",
    "\n",
    "#sample space=(1,2,3,4,5,6),(1,2,3,4,5,6)\n",
    "s1=np.arange(6)\n",
    "s2=np.arange(6)\n",
    "s=len(s1)*len(s2)\n",
    "p_sum_1=0/12\n",
    "print(p_sum_1)\n",
    "p_sum_lessthanequalsto4={1+1},{1+2},{1+3},{2+1},{2+2},{3+1}\n",
    "p_sum_lessthanequalsto4=len(p_sum_lessthanequalsto4)/s\n",
    "print(round(p_sum_lessthanequalsto4,3))\n",
    "p_sum_div_2_3={1+6},{2+4},{3+3},{5+1},{6,6}\n",
    "p_sum_div_2_3=len(p_sum_div_2_3)/s\n",
    "print(round(p_sum_div_2_3,3))"
   ]
  },
  {
   "cell_type": "markdown",
   "id": "fa41ed45",
   "metadata": {},
   "source": [
    "##  Q.5A bag contains 2 red, 3 green and 2 blue balls. Two balls are drawn at random. \n",
    "## What is the probability that none of the balls drawn is blue?"
   ]
  },
  {
   "cell_type": "code",
   "execution_count": 4,
   "id": "70618f79",
   "metadata": {},
   "outputs": [
    {
     "name": "stdout",
     "output_type": "stream",
     "text": [
      "7\n",
      "[10]\n",
      "[21]\n",
      "required_probability [0.47619048]\n"
     ]
    }
   ],
   "source": [
    "import math\n",
    "total_nos_of_balls=2,3,2\n",
    "print(sum(total_nos_of_balls))\n",
    "n=5\n",
    "k=2\n",
    "nos_of_way_to_draw2_balls_out_of_7=[]\n",
    "nos_of_way_to_draw2_balls_out_of_7.append(math.comb(n, k))\n",
    "print(nos_of_way_to_draw2_balls_out_of_7)\n",
    "nos_of_way_to_draw2_balls_out_of_5=[]\n",
    "n=7\n",
    "k=2\n",
    "nos_of_way_to_draw2_balls_out_of_5.append(math.comb(n,k))\n",
    "print(nos_of_way_to_draw2_balls_out_of_5)\n",
    "x=np.array(nos_of_way_to_draw2_balls_out_of_7)\n",
    "y=np.array(nos_of_way_to_draw2_balls_out_of_5)\n",
    "print('required_probability',x/y)"
   ]
  },
  {
   "cell_type": "markdown",
   "id": "011cdcc5",
   "metadata": {},
   "source": [
    "## Q.6 Calculate the Expected number of candies for a randomly selected child "
   ]
  },
  {
   "cell_type": "code",
   "execution_count": 5,
   "id": "280c9655",
   "metadata": {},
   "outputs": [
    {
     "name": "stdout",
     "output_type": "stream",
     "text": [
      "[0.015, 0.8, 1.9500000000000002, 0.025, 0.06, 0.24]\n",
      "3.09\n"
     ]
    }
   ],
   "source": [
    "Candies_count=[1,4,3,5,6,2]\n",
    "probability=[0.015,0.20,0.65,0.005,0.01,0.120]\n",
    "expected_values=[]\n",
    "for i in range(0,len(Candies_count)):\n",
    "    expected_values.append(Candies_count[i]*probability[i])\n",
    "print(expected_values)\n",
    "print(sum(expected_values))"
   ]
  },
  {
   "cell_type": "markdown",
   "id": "8363be9b",
   "metadata": {},
   "source": [
    "## Q.7 Calculate Mean, Median, Mode, Variance, Standard Deviation, Range &     comment about the values / draw inferences, for the given dataset\n",
    "## \tFor Points, Score, Weigh"
   ]
  },
  {
   "cell_type": "code",
   "execution_count": 6,
   "id": "3cc85f50",
   "metadata": {},
   "outputs": [
    {
     "data": {
      "text/html": [
       "<div>\n",
       "<style scoped>\n",
       "    .dataframe tbody tr th:only-of-type {\n",
       "        vertical-align: middle;\n",
       "    }\n",
       "\n",
       "    .dataframe tbody tr th {\n",
       "        vertical-align: top;\n",
       "    }\n",
       "\n",
       "    .dataframe thead th {\n",
       "        text-align: right;\n",
       "    }\n",
       "</style>\n",
       "<table border=\"1\" class=\"dataframe\">\n",
       "  <thead>\n",
       "    <tr style=\"text-align: right;\">\n",
       "      <th></th>\n",
       "      <th>Unnamed: 0</th>\n",
       "      <th>Points</th>\n",
       "      <th>Score</th>\n",
       "      <th>Weigh</th>\n",
       "    </tr>\n",
       "  </thead>\n",
       "  <tbody>\n",
       "    <tr>\n",
       "      <th>0</th>\n",
       "      <td>Mazda RX4</td>\n",
       "      <td>3.90</td>\n",
       "      <td>2.620</td>\n",
       "      <td>16.46</td>\n",
       "    </tr>\n",
       "    <tr>\n",
       "      <th>1</th>\n",
       "      <td>Mazda RX4 Wag</td>\n",
       "      <td>3.90</td>\n",
       "      <td>2.875</td>\n",
       "      <td>17.02</td>\n",
       "    </tr>\n",
       "    <tr>\n",
       "      <th>2</th>\n",
       "      <td>Datsun 710</td>\n",
       "      <td>3.85</td>\n",
       "      <td>2.320</td>\n",
       "      <td>18.61</td>\n",
       "    </tr>\n",
       "    <tr>\n",
       "      <th>3</th>\n",
       "      <td>Hornet 4 Drive</td>\n",
       "      <td>3.08</td>\n",
       "      <td>3.215</td>\n",
       "      <td>19.44</td>\n",
       "    </tr>\n",
       "    <tr>\n",
       "      <th>4</th>\n",
       "      <td>Hornet Sportabout</td>\n",
       "      <td>3.15</td>\n",
       "      <td>3.440</td>\n",
       "      <td>17.02</td>\n",
       "    </tr>\n",
       "  </tbody>\n",
       "</table>\n",
       "</div>"
      ],
      "text/plain": [
       "          Unnamed: 0  Points  Score  Weigh\n",
       "0          Mazda RX4    3.90  2.620  16.46\n",
       "1      Mazda RX4 Wag    3.90  2.875  17.02\n",
       "2         Datsun 710    3.85  2.320  18.61\n",
       "3     Hornet 4 Drive    3.08  3.215  19.44\n",
       "4  Hornet Sportabout    3.15  3.440  17.02"
      ]
     },
     "execution_count": 6,
     "metadata": {},
     "output_type": "execute_result"
    }
   ],
   "source": [
    "model=pd.read_csv(\"D:\\\\assignment\\\\assignment1\\\\Q7.csv\")\n",
    "model.head()"
   ]
  },
  {
   "cell_type": "code",
   "execution_count": 7,
   "id": "1b2fddf0",
   "metadata": {},
   "outputs": [
    {
     "data": {
      "text/plain": [
       "3.5965625000000006"
      ]
     },
     "execution_count": 7,
     "metadata": {},
     "output_type": "execute_result"
    }
   ],
   "source": [
    "model['Points'].mean()"
   ]
  },
  {
   "cell_type": "code",
   "execution_count": 8,
   "id": "a539e05c",
   "metadata": {},
   "outputs": [
    {
     "data": {
      "text/plain": [
       "3.2172499999999995"
      ]
     },
     "execution_count": 8,
     "metadata": {},
     "output_type": "execute_result"
    }
   ],
   "source": [
    "model['Score'].mean()"
   ]
  },
  {
   "cell_type": "code",
   "execution_count": 9,
   "id": "791ae258",
   "metadata": {},
   "outputs": [
    {
     "data": {
      "text/plain": [
       "17.848750000000003"
      ]
     },
     "execution_count": 9,
     "metadata": {},
     "output_type": "execute_result"
    }
   ],
   "source": [
    "model['Weigh'].mean()"
   ]
  },
  {
   "cell_type": "code",
   "execution_count": 10,
   "id": "c921950f",
   "metadata": {},
   "outputs": [
    {
     "data": {
      "text/plain": [
       "3.6950000000000003"
      ]
     },
     "execution_count": 10,
     "metadata": {},
     "output_type": "execute_result"
    }
   ],
   "source": [
    "model['Points'].median()"
   ]
  },
  {
   "cell_type": "code",
   "execution_count": 11,
   "id": "e3ae8e5d",
   "metadata": {},
   "outputs": [
    {
     "data": {
      "text/plain": [
       "3.325"
      ]
     },
     "execution_count": 11,
     "metadata": {},
     "output_type": "execute_result"
    }
   ],
   "source": [
    "model['Score'].median()"
   ]
  },
  {
   "cell_type": "code",
   "execution_count": 12,
   "id": "69cd9bd3",
   "metadata": {},
   "outputs": [
    {
     "data": {
      "text/plain": [
       "17.71"
      ]
     },
     "execution_count": 12,
     "metadata": {},
     "output_type": "execute_result"
    }
   ],
   "source": [
    "model['Weigh'].median()"
   ]
  },
  {
   "cell_type": "code",
   "execution_count": 13,
   "id": "c0786a80",
   "metadata": {},
   "outputs": [
    {
     "name": "stdout",
     "output_type": "stream",
     "text": [
      "115.09\n",
      "3.5965625\n"
     ]
    }
   ],
   "source": [
    "model[\"Points\"]\n",
    "sum_model1=np.sum(model['Points'])\n",
    "print(sum_model1)\n",
    "mean=(sum_model1)/len(model['Points'])\n",
    "print(mean)"
   ]
  },
  {
   "cell_type": "code",
   "execution_count": 14,
   "id": "3060b48f",
   "metadata": {},
   "outputs": [
    {
     "name": "stdout",
     "output_type": "stream",
     "text": [
      "102.95200000000001\n",
      "3.2172500000000004\n"
     ]
    }
   ],
   "source": [
    "model[\"Score\"]\n",
    "sum_model2=np.sum(model['Score'])\n",
    "print(sum_model2)\n",
    "mean=(sum_model2)/len(model['Score'])\n",
    "print(mean)"
   ]
  },
  {
   "cell_type": "code",
   "execution_count": 15,
   "id": "8864f187",
   "metadata": {},
   "outputs": [
    {
     "name": "stdout",
     "output_type": "stream",
     "text": [
      "571.1600000000001\n",
      "17.848750000000003\n"
     ]
    }
   ],
   "source": [
    "model[\"Weigh\"]\n",
    "sum_model3=np.sum(model['Weigh'])\n",
    "print(sum_model3)\n",
    "mean=(sum_model3)/len(model['Weigh'])\n",
    "print(mean)"
   ]
  },
  {
   "cell_type": "code",
   "execution_count": 16,
   "id": "913f688b",
   "metadata": {},
   "outputs": [
    {
     "name": "stdout",
     "output_type": "stream",
     "text": [
      "3.92\n",
      "3.44\n",
      "17.02\n"
     ]
    }
   ],
   "source": [
    "import statistics\n",
    "statistics.mode(model[\"Points\"])\n",
    "print(statistics.mode(model[\"Points\"]))\n",
    "statistics.mode(model[\"Score\"])\n",
    "print(statistics.mode(model[\"Score\"]))\n",
    "statistics.mode(model[\"Weigh\"])\n",
    "print(statistics.mode(model[\"Weigh\"]))"
   ]
  },
  {
   "cell_type": "code",
   "execution_count": 17,
   "id": "161b214c",
   "metadata": {},
   "outputs": [
    {
     "name": "stdout",
     "output_type": "stream",
     "text": [
      "4.93\n",
      "2.76\n",
      "2.17\n"
     ]
    }
   ],
   "source": [
    "max(model[\"Points\"])\n",
    "print(max(model[\"Points\"]))\n",
    "min(model[\"Points\"])\n",
    "print(min(model[\"Points\"]))\n",
    "range=max(model[\"Points\"])-min(model[\"Points\"])\n",
    "print(range)"
   ]
  },
  {
   "cell_type": "code",
   "execution_count": 18,
   "id": "79e03a07",
   "metadata": {},
   "outputs": [
    {
     "name": "stdout",
     "output_type": "stream",
     "text": [
      "5.424\n",
      "1.513\n",
      "3.9110000000000005\n"
     ]
    }
   ],
   "source": [
    "max(model[\"Score\"])\n",
    "print(max(model[\"Score\"]))\n",
    "min(model[\"Score\"])\n",
    "print(min(model[\"Score\"]))\n",
    "range=max(model[\"Score\"])-min(model[\"Score\"])\n",
    "print(range)"
   ]
  },
  {
   "cell_type": "code",
   "execution_count": 19,
   "id": "54e89934",
   "metadata": {},
   "outputs": [
    {
     "name": "stdout",
     "output_type": "stream",
     "text": [
      "22.9\n",
      "14.5\n",
      "8.399999999999999\n"
     ]
    }
   ],
   "source": [
    "max(model[\"Weigh\"])\n",
    "print(max(model[\"Weigh\"]))\n",
    "min(model[\"Weigh\"])\n",
    "print(min(model[\"Weigh\"]))\n",
    "range=max(model[\"Weigh\"])-min(model[\"Weigh\"])\n",
    "print(range)"
   ]
  },
  {
   "cell_type": "code",
   "execution_count": 20,
   "id": "f7c75671",
   "metadata": {},
   "outputs": [
    {
     "name": "stdout",
     "output_type": "stream",
     "text": [
      "    Points    x-mean  sq_x-mean\n",
      "0     3.90  0.303437   0.092074\n",
      "1     3.90  0.303437   0.092074\n",
      "2     3.85  0.253437   0.064231\n",
      "3     3.08 -0.516563   0.266837\n",
      "4     3.15 -0.446563   0.199418\n",
      "5     2.76 -0.836563   0.699837\n",
      "6     3.21 -0.386563   0.149431\n",
      "7     3.69  0.093437   0.008731\n",
      "8     3.92  0.323437   0.104612\n",
      "9     3.92  0.323437   0.104612\n",
      "10    3.92  0.323437   0.104612\n",
      "11    3.07 -0.526563   0.277268\n",
      "12    3.07 -0.526563   0.277268\n",
      "13    3.07 -0.526563   0.277268\n",
      "14    2.93 -0.666563   0.444306\n",
      "15    3.00 -0.596563   0.355887\n",
      "16    3.23 -0.366563   0.134368\n",
      "17    4.08  0.483437   0.233712\n",
      "18    4.93  1.333437   1.778056\n",
      "19    4.22  0.623437   0.388674\n",
      "20    3.70  0.103437   0.010699\n",
      "21    2.76 -0.836563   0.699837\n",
      "22    3.15 -0.446563   0.199418\n",
      "23    3.73  0.133437   0.017806\n",
      "24    3.08 -0.516563   0.266837\n",
      "25    4.08  0.483437   0.233712\n",
      "26    4.43  0.833437   0.694618\n",
      "27    3.77  0.173437   0.030081\n",
      "28    4.22  0.623437   0.388674\n",
      "29    3.62  0.023437   0.000549\n",
      "30    3.54 -0.056563   0.003199\n",
      "31    4.11  0.513437   0.263618\n",
      "0.2858813508064516\n",
      "0.5346787360709715\n"
     ]
    }
   ],
   "source": [
    "df=pd.DataFrame(pd.Series(model[\"Points\"]))\n",
    "df\n",
    "df['x-mean']=df-np.mean(model[\"Points\"])\n",
    "df\n",
    "df['sq_x-mean']=np.square(df['x-mean'])\n",
    "df\n",
    "print(df)\n",
    "variance=np.sum(df['sq_x-mean'])/(len(df)-1)\n",
    "print(variance)\n",
    "std=np.sqrt(variance)\n",
    "print(std)"
   ]
  },
  {
   "cell_type": "code",
   "execution_count": 21,
   "id": "17a40b34",
   "metadata": {},
   "outputs": [
    {
     "name": "stdout",
     "output_type": "stream",
     "text": [
      "    Score   x-mean  sq_x-mean\n",
      "0   2.620 -0.59725   0.356708\n",
      "1   2.875 -0.34225   0.117135\n",
      "2   2.320 -0.89725   0.805058\n",
      "3   3.215 -0.00225   0.000005\n",
      "4   3.440  0.22275   0.049618\n",
      "5   3.460  0.24275   0.058928\n",
      "6   3.570  0.35275   0.124433\n",
      "7   3.190 -0.02725   0.000743\n",
      "8   3.150 -0.06725   0.004523\n",
      "9   3.440  0.22275   0.049618\n",
      "10  3.440  0.22275   0.049618\n",
      "11  4.070  0.85275   0.727183\n",
      "12  3.730  0.51275   0.262913\n",
      "13  3.780  0.56275   0.316688\n",
      "14  5.250  2.03275   4.132073\n",
      "15  5.424  2.20675   4.869746\n",
      "16  5.345  2.12775   4.527320\n",
      "17  2.200 -1.01725   1.034798\n",
      "18  1.615 -1.60225   2.567205\n",
      "19  1.835 -1.38225   1.910615\n",
      "20  2.465 -0.75225   0.565880\n",
      "21  3.520  0.30275   0.091658\n",
      "22  3.435  0.21775   0.047415\n",
      "23  3.840  0.62275   0.387818\n",
      "24  3.845  0.62775   0.394070\n",
      "25  1.935 -1.28225   1.644165\n",
      "26  2.140 -1.07725   1.160468\n",
      "27  1.513 -1.70425   2.904468\n",
      "28  3.170 -0.04725   0.002233\n",
      "29  2.770 -0.44725   0.200033\n",
      "30  3.570  0.35275   0.124433\n",
      "31  2.780 -0.43725   0.191188\n",
      "0.9573789677419354\n",
      "0.9784574429896966\n"
     ]
    }
   ],
   "source": [
    "df=pd.DataFrame(pd.Series(model[\"Score\"]))\n",
    "df\n",
    "df['x-mean']=df-np.mean(model[\"Score\"])\n",
    "df\n",
    "df['sq_x-mean']=np.square(df['x-mean'])\n",
    "df\n",
    "print(df)\n",
    "variance=np.sum(df['sq_x-mean'])/(len(df)-1)\n",
    "print(variance)\n",
    "std=np.sqrt(variance)\n",
    "print(std)"
   ]
  },
  {
   "cell_type": "code",
   "execution_count": 22,
   "id": "47763ebc",
   "metadata": {},
   "outputs": [
    {
     "name": "stdout",
     "output_type": "stream",
     "text": [
      "    Weigh   x-mean  sq_x-mean\n",
      "0   16.46 -1.38875   1.928627\n",
      "1   17.02 -0.82875   0.686827\n",
      "2   18.61  0.76125   0.579502\n",
      "3   19.44  1.59125   2.532077\n",
      "4   17.02 -0.82875   0.686827\n",
      "5   20.22  2.37125   5.622827\n",
      "6   15.84 -2.00875   4.035077\n",
      "7   20.00  2.15125   4.627877\n",
      "8   22.90  5.05125  25.515127\n",
      "9   18.30  0.45125   0.203627\n",
      "10  18.90  1.05125   1.105127\n",
      "11  17.40 -0.44875   0.201377\n",
      "12  17.60 -0.24875   0.061877\n",
      "13  18.00  0.15125   0.022877\n",
      "14  17.98  0.13125   0.017227\n",
      "15  17.82 -0.02875   0.000827\n",
      "16  17.42 -0.42875   0.183827\n",
      "17  19.47  1.62125   2.628452\n",
      "18  18.52  0.67125   0.450577\n",
      "19  19.90  2.05125   4.207627\n",
      "20  20.01  2.16125   4.671002\n",
      "21  16.87 -0.97875   0.957952\n",
      "22  17.30 -0.54875   0.301127\n",
      "23  15.41 -2.43875   5.947502\n",
      "24  17.05 -0.79875   0.638002\n",
      "25  18.90  1.05125   1.105127\n",
      "26  16.70 -1.14875   1.319627\n",
      "27  16.90 -0.94875   0.900127\n",
      "28  14.50 -3.34875  11.214127\n",
      "29  15.50 -2.34875   5.516627\n",
      "30  14.60 -3.24875  10.554377\n",
      "31  18.60  0.75125   0.564377\n",
      "3.193166129032258\n",
      "1.7869432360968431\n"
     ]
    }
   ],
   "source": [
    "df=pd.DataFrame(pd.Series(model[\"Weigh\"]))\n",
    "df\n",
    "df['x-mean']=df-np.mean(model[\"Weigh\"])\n",
    "df\n",
    "df['sq_x-mean']=np.square(df['x-mean'])\n",
    "df\n",
    "print(df)\n",
    "variance=np.sum(df['sq_x-mean'])/(len(df)-1)\n",
    "print(variance)\n",
    "std=np.sqrt(variance)\n",
    "print(std)"
   ]
  },
  {
   "cell_type": "code",
   "execution_count": 23,
   "id": "c70256e7",
   "metadata": {},
   "outputs": [
    {
     "data": {
      "text/plain": [
       "Weigh         3.193166\n",
       "x-mean        3.193166\n",
       "sq_x-mean    25.225146\n",
       "dtype: float64"
      ]
     },
     "execution_count": 23,
     "metadata": {},
     "output_type": "execute_result"
    }
   ],
   "source": [
    "df.var()"
   ]
  },
  {
   "cell_type": "code",
   "execution_count": 24,
   "id": "716ead2a",
   "metadata": {},
   "outputs": [
    {
     "data": {
      "text/plain": [
       "<AxesSubplot:>"
      ]
     },
     "execution_count": 24,
     "metadata": {},
     "output_type": "execute_result"
    },
    {
     "data": {
      "image/png": "[encoded data removed]",
      "text/plain": [
       "<Figure size 432x504 with 1 Axes>"
      ]
     },
     "metadata": {
      "needs_background": "light"
     },
     "output_type": "display_data"
    }
   ],
   "source": [
    "import matplotlib.pyplot as plt\n",
    "import seaborn as sns\n",
    "plt.figure(figsize=(6,7))\n",
    "sns.boxplot(data=model[\"Points\"])"
   ]
  },
  {
   "cell_type": "code",
   "execution_count": 25,
   "id": "ba0c23a9",
   "metadata": {},
   "outputs": [
    {
     "data": {
      "text/plain": [
       "<AxesSubplot:>"
      ]
     },
     "execution_count": 25,
     "metadata": {},
     "output_type": "execute_result"
    },
    {
     "data": {
      "image/png": "[encoded data removed]",
      "text/plain": [
       "<Figure size 432x504 with 1 Axes>"
      ]
     },
     "metadata": {
      "needs_background": "light"
     },
     "output_type": "display_data"
    }
   ],
   "source": [
    "plt.figure(figsize=(6,7))\n",
    "sns.boxplot(data=model[\"Score\"])"
   ]
  },
  {
   "cell_type": "code",
   "execution_count": 26,
   "id": "55c4e473",
   "metadata": {},
   "outputs": [
    {
     "data": {
      "text/plain": [
       "<AxesSubplot:>"
      ]
     },
     "execution_count": 26,
     "metadata": {},
     "output_type": "execute_result"
    },
    {
     "data": {
      "image/png": "[encoded data removed]",
      "text/plain": [
       "<Figure size 432x504 with 1 Axes>"
      ]
     },
     "metadata": {
      "needs_background": "light"
     },
     "output_type": "display_data"
    }
   ],
   "source": [
    "plt.figure(figsize=(6,7))\n",
    "sns.boxplot(data=model[\"Weigh\"])"
   ]
  },
  {
   "cell_type": "code",
   "execution_count": 27,
   "id": "3446026e",
   "metadata": {},
   "outputs": [
    {
     "data": {
      "text/plain": [
       "<AxesSubplot:>"
      ]
     },
     "execution_count": 27,
     "metadata": {},
     "output_type": "execute_result"
    },
    {
     "data": {
      "image/png": "[encoded data removed]",
      "text/plain": [
       "<Figure size 432x288 with 1 Axes>"
      ]
     },
     "metadata": {
      "needs_background": "light"
     },
     "output_type": "display_data"
    }
   ],
   "source": [
    "model.boxplot()"
   ]
  },
  {
   "cell_type": "code",
   "execution_count": 28,
   "id": "ef4c6963",
   "metadata": {},
   "outputs": [
    {
     "data": {
      "text/plain": [
       "array([[<AxesSubplot:title={'center':'Points'}>,\n",
       "        <AxesSubplot:title={'center':'Score'}>],\n",
       "       [<AxesSubplot:title={'center':'Weigh'}>, <AxesSubplot:>]],\n",
       "      dtype=object)"
      ]
     },
     "execution_count": 28,
     "metadata": {},
     "output_type": "execute_result"
    },
    {
     "data": {
      "image/png": "[encoded data removed]",
      "text/plain": [
       "<Figure size 432x288 with 4 Axes>"
      ]
     },
     "metadata": {
      "needs_background": "light"
     },
     "output_type": "display_data"
    }
   ],
   "source": [
    "model.hist()"
   ]
  },
  {
   "cell_type": "code",
   "execution_count": 29,
   "id": "1f1dcc09",
   "metadata": {},
   "outputs": [
    {
     "data": {
      "text/plain": [
       "<seaborn.axisgrid.PairGrid at 0x1fd99008c70>"
      ]
     },
     "execution_count": 29,
     "metadata": {},
     "output_type": "execute_result"
    },
    {
     "data": {
      "image/png": "[encoded data removed]",
      "text/plain": [
       "<Figure size 540x540 with 12 Axes>"
      ]
     },
     "metadata": {
      "needs_background": "light"
     },
     "output_type": "display_data"
    }
   ],
   "source": [
    "sns.pairplot(model)"
   ]
  },
  {
   "cell_type": "markdown",
   "id": "d81f4ea0",
   "metadata": {},
   "source": [
    "## Inference\n",
    "\n",
    "## - 'Points' and 'Score' have outliers\n",
    "## - 'Points' and 'Score' are negatively skewed, while               'Weigh' is Positively skewed.\n",
    "## - most of the data points are around the median values of each data set"
   ]
  },
  {
   "cell_type": "markdown",
   "id": "b328f3af",
   "metadata": {},
   "source": [
    "## Q.8 Calculate Expected Value for the problem below"
   ]
  },
  {
   "cell_type": "code",
   "execution_count": 31,
   "id": "ba763a5f",
   "metadata": {},
   "outputs": [
    {
     "ename": "TypeError",
     "evalue": "'float' object is not callable",
     "output_type": "error",
     "traceback": [
      "\u001b[1;31m---------------------------------------------------------------------------\u001b[0m",
      "\u001b[1;31mTypeError\u001b[0m                                 Traceback (most recent call last)",
      "Input \u001b[1;32mIn [31]\u001b[0m, in \u001b[0;36m<cell line: 11>\u001b[1;34m()\u001b[0m\n\u001b[0;32m      8\u001b[0m probability\u001b[38;5;241m=\u001b[39m[\u001b[38;5;241m0.11\u001b[39m,\u001b[38;5;241m0.11\u001b[39m,\u001b[38;5;241m0.11\u001b[39m,\u001b[38;5;241m0.11\u001b[39m,\u001b[38;5;241m0.11\u001b[39m,\u001b[38;5;241m0.11\u001b[39m,\u001b[38;5;241m0.11\u001b[39m,\u001b[38;5;241m0.11\u001b[39m,\u001b[38;5;241m0.11\u001b[39m]\n\u001b[0;32m     10\u001b[0m expected_values\u001b[38;5;241m=\u001b[39m[]\n\u001b[1;32m---> 11\u001b[0m \u001b[38;5;28;01mfor\u001b[39;00m i \u001b[38;5;129;01min\u001b[39;00m \u001b[38;5;28;43mrange\u001b[39;49m\u001b[43m(\u001b[49m\u001b[38;5;241;43m0\u001b[39;49m\u001b[43m,\u001b[49m\u001b[38;5;28;43mlen\u001b[39;49m\u001b[43m(\u001b[49m\u001b[43mWeight_of_Patients\u001b[49m\u001b[43m)\u001b[49m\u001b[43m)\u001b[49m:\n\u001b[0;32m     12\u001b[0m     expected_values\u001b[38;5;241m.\u001b[39mappend(Weight_of_Patients[i]\u001b[38;5;241m*\u001b[39mprobability[i])\n\u001b[0;32m     13\u001b[0m \u001b[38;5;28mprint\u001b[39m(expected_values)\n",
      "\u001b[1;31mTypeError\u001b[0m: 'float' object is not callable"
     ]
    }
   ],
   "source": [
    "#a)\tThe weights (X) of patients at a clinic (in pounds), are\n",
    "#108, 110, 123, 134, 135, 145, 167, 187, 199\n",
    "#Assume one of the patients is chosen at random. What is the Expected Value of the Weight of that patient?\n",
    "\n",
    "import numpy as np\n",
    "import pandas as pd\n",
    "Weight_of_Patients=[108,110,123,134,135,145,167,187,199]\n",
    "probability=[0.11,0.11,0.11,0.11,0.11,0.11,0.11,0.11,0.11]\n",
    "\n",
    "expected_values=[]\n",
    "for i in range(0,len(Weight_of_Patients)):\n",
    "    expected_values.append(Weight_of_Patients[i]*probability[i])\n",
    "print(expected_values)\n",
    "print(sum(expected_values))"
   ]
  },
  {
   "cell_type": "markdown",
   "id": "e2a31c4e",
   "metadata": {},
   "source": [
    "## Q.9 Calculate Skewness, Kurtosis & draw inferences on the following data\n",
    "##  Cars speed and distance,  Use Q9_a.csv\n",
    "\n",
    "\n",
    "## SP and Weight (WT) ,Use Q9_b.csv\n"
   ]
  },
  {
   "cell_type": "markdown",
   "id": "8eb20731",
   "metadata": {},
   "source": [
    "## Cars speed and distance"
   ]
  },
  {
   "cell_type": "code",
   "execution_count": 32,
   "id": "d42f396e",
   "metadata": {},
   "outputs": [],
   "source": [
    "import pandas as pd\n",
    "import numpy as np\n",
    "from scipy.stats import kurtosis"
   ]
  },
  {
   "cell_type": "code",
   "execution_count": 33,
   "id": "86b7c7f0",
   "metadata": {},
   "outputs": [
    {
     "data": {
      "text/html": [
       "<div>\n",
       "<style scoped>\n",
       "    .dataframe tbody tr th:only-of-type {\n",
       "        vertical-align: middle;\n",
       "    }\n",
       "\n",
       "    .dataframe tbody tr th {\n",
       "        vertical-align: top;\n",
       "    }\n",
       "\n",
       "    .dataframe thead th {\n",
       "        text-align: right;\n",
       "    }\n",
       "</style>\n",
       "<table border=\"1\" class=\"dataframe\">\n",
       "  <thead>\n",
       "    <tr style=\"text-align: right;\">\n",
       "      <th></th>\n",
       "      <th>Index</th>\n",
       "      <th>speed</th>\n",
       "      <th>dist</th>\n",
       "    </tr>\n",
       "  </thead>\n",
       "  <tbody>\n",
       "    <tr>\n",
       "      <th>0</th>\n",
       "      <td>1</td>\n",
       "      <td>4</td>\n",
       "      <td>2</td>\n",
       "    </tr>\n",
       "    <tr>\n",
       "      <th>1</th>\n",
       "      <td>2</td>\n",
       "      <td>4</td>\n",
       "      <td>10</td>\n",
       "    </tr>\n",
       "    <tr>\n",
       "      <th>2</th>\n",
       "      <td>3</td>\n",
       "      <td>7</td>\n",
       "      <td>4</td>\n",
       "    </tr>\n",
       "    <tr>\n",
       "      <th>3</th>\n",
       "      <td>4</td>\n",
       "      <td>7</td>\n",
       "      <td>22</td>\n",
       "    </tr>\n",
       "    <tr>\n",
       "      <th>4</th>\n",
       "      <td>5</td>\n",
       "      <td>8</td>\n",
       "      <td>16</td>\n",
       "    </tr>\n",
       "  </tbody>\n",
       "</table>\n",
       "</div>"
      ],
      "text/plain": [
       "   Index  speed  dist\n",
       "0      1      4     2\n",
       "1      2      4    10\n",
       "2      3      7     4\n",
       "3      4      7    22\n",
       "4      5      8    16"
      ]
     },
     "execution_count": 33,
     "metadata": {},
     "output_type": "execute_result"
    }
   ],
   "source": [
    "speed_d=pd.read_csv(\"D:\\\\assignment\\\\assignment1\\\\Q9_a.csv\")\n",
    "speed_d.head()"
   ]
  },
  {
   "cell_type": "code",
   "execution_count": 34,
   "id": "b20841d9",
   "metadata": {},
   "outputs": [
    {
     "data": {
      "text/plain": [
       "Index    0.000000\n",
       "speed   -0.117510\n",
       "dist     0.806895\n",
       "dtype: float64"
      ]
     },
     "execution_count": 34,
     "metadata": {},
     "output_type": "execute_result"
    }
   ],
   "source": [
    "speed_d.skew()"
   ]
  },
  {
   "cell_type": "markdown",
   "id": "c88cd3f9",
   "metadata": {},
   "source": [
    "## Inferences:-\n",
    "\n",
    "## - Speed is Negatively skewd with(-0.117510)\n",
    "## - dist is Positively skewed with (0.8068)"
   ]
  },
  {
   "cell_type": "code",
   "execution_count": 35,
   "id": "65582fb8",
   "metadata": {},
   "outputs": [
    {
     "data": {
      "text/plain": [
       "Index   -1.200000\n",
       "speed   -0.508994\n",
       "dist     0.405053\n",
       "dtype: float64"
      ]
     },
     "execution_count": 35,
     "metadata": {},
     "output_type": "execute_result"
    }
   ],
   "source": [
    "speed_d.kurtosis()"
   ]
  },
  {
   "cell_type": "markdown",
   "id": "29dd9e47",
   "metadata": {},
   "source": [
    "## speed is Negative Kurtosis(Platykurtic)\n",
    "## dis is Positive Kurtosis(Leptokurtic)"
   ]
  },
  {
   "cell_type": "code",
   "execution_count": null,
   "id": "c89086a1",
   "metadata": {},
   "outputs": [],
   "source": []
  },
  {
   "cell_type": "markdown",
   "id": "7bf1402b",
   "metadata": {},
   "source": [
    "## SP and Weight(WT)"
   ]
  },
  {
   "cell_type": "code",
   "execution_count": 36,
   "id": "50dc8335",
   "metadata": {},
   "outputs": [
    {
     "data": {
      "text/html": [
       "<div>\n",
       "<style scoped>\n",
       "    .dataframe tbody tr th:only-of-type {\n",
       "        vertical-align: middle;\n",
       "    }\n",
       "\n",
       "    .dataframe tbody tr th {\n",
       "        vertical-align: top;\n",
       "    }\n",
       "\n",
       "    .dataframe thead th {\n",
       "        text-align: right;\n",
       "    }\n",
       "</style>\n",
       "<table border=\"1\" class=\"dataframe\">\n",
       "  <thead>\n",
       "    <tr style=\"text-align: right;\">\n",
       "      <th></th>\n",
       "      <th>Unnamed: 0</th>\n",
       "      <th>SP</th>\n",
       "      <th>WT</th>\n",
       "    </tr>\n",
       "  </thead>\n",
       "  <tbody>\n",
       "    <tr>\n",
       "      <th>0</th>\n",
       "      <td>1</td>\n",
       "      <td>104.185353</td>\n",
       "      <td>28.762059</td>\n",
       "    </tr>\n",
       "    <tr>\n",
       "      <th>1</th>\n",
       "      <td>2</td>\n",
       "      <td>105.461264</td>\n",
       "      <td>30.466833</td>\n",
       "    </tr>\n",
       "    <tr>\n",
       "      <th>2</th>\n",
       "      <td>3</td>\n",
       "      <td>105.461264</td>\n",
       "      <td>30.193597</td>\n",
       "    </tr>\n",
       "    <tr>\n",
       "      <th>3</th>\n",
       "      <td>4</td>\n",
       "      <td>113.461264</td>\n",
       "      <td>30.632114</td>\n",
       "    </tr>\n",
       "    <tr>\n",
       "      <th>4</th>\n",
       "      <td>5</td>\n",
       "      <td>104.461264</td>\n",
       "      <td>29.889149</td>\n",
       "    </tr>\n",
       "  </tbody>\n",
       "</table>\n",
       "</div>"
      ],
      "text/plain": [
       "   Unnamed: 0          SP         WT\n",
       "0           1  104.185353  28.762059\n",
       "1           2  105.461264  30.466833\n",
       "2           3  105.461264  30.193597\n",
       "3           4  113.461264  30.632114\n",
       "4           5  104.461264  29.889149"
      ]
     },
     "execution_count": 36,
     "metadata": {},
     "output_type": "execute_result"
    }
   ],
   "source": [
    "weight_sp=pd.read_csv(\"D:\\\\assignment\\\\assignment1\\\\Q9_b.csv\")\n",
    "weight_sp.head()"
   ]
  },
  {
   "cell_type": "code",
   "execution_count": 37,
   "id": "2c9b43c9",
   "metadata": {},
   "outputs": [
    {
     "data": {
      "text/plain": [
       "Unnamed: 0    0.000000\n",
       "SP            1.611450\n",
       "WT           -0.614753\n",
       "dtype: float64"
      ]
     },
     "execution_count": 37,
     "metadata": {},
     "output_type": "execute_result"
    }
   ],
   "source": [
    "weight_sp.skew()"
   ]
  },
  {
   "cell_type": "markdown",
   "id": "c67ba3ba",
   "metadata": {},
   "source": [
    "## Inferences:-\n",
    "## SP is Positively Skewed\n",
    "## WT is Negatively Skewed"
   ]
  },
  {
   "cell_type": "code",
   "execution_count": 38,
   "id": "90779197",
   "metadata": {},
   "outputs": [
    {
     "data": {
      "text/plain": [
       "Unnamed: 0   -1.200000\n",
       "SP            2.977329\n",
       "WT            0.950291\n",
       "dtype: float64"
      ]
     },
     "execution_count": 38,
     "metadata": {},
     "output_type": "execute_result"
    }
   ],
   "source": [
    "weight_sp.kurtosis()"
   ]
  },
  {
   "cell_type": "markdown",
   "id": "0e0e9052",
   "metadata": {},
   "source": [
    "## Inferences:-\n",
    "## SP & WT both have Positive Kurtosis(Leoptokurtic)"
   ]
  },
  {
   "cell_type": "markdown",
   "id": "b2b8a994",
   "metadata": {},
   "source": [
    "## Q.11 Suppose we want to estimate the average weight of an adult male in    Mexico. We draw a random sample of 2,000 men from a population of 3,000,000 men and weigh them. We find that the average person in our sample weighs 200 pounds, and the standard deviation of the sample is 30 pounds. Calculate 94%,98%,96% confidence interval?\n"
   ]
  },
  {
   "cell_type": "markdown",
   "id": "bea2e3df",
   "metadata": {},
   "source": [
    "## Solution:\n",
    "## Total no.s  of sample =2000, average wt of person =200, standard deviation=30\n",
    "\n",
    "## Confidence Interval = x ̅±z σ/√n\n"
   ]
  },
  {
   "cell_type": "code",
   "execution_count": 39,
   "id": "4c8bec4e",
   "metadata": {},
   "outputs": [],
   "source": [
    "import scipy\n",
    "from scipy.stats import norm\n"
   ]
  },
  {
   "cell_type": "code",
   "execution_count": 40,
   "id": "00992ed6",
   "metadata": {},
   "outputs": [
    {
     "name": "stdout",
     "output_type": "stream",
     "text": [
      "Z score for 94% is 1.5547735945968535\n",
      "Z score for 98% is 2.0537489106318225\n",
      "Z score for 96% is 1.7506860712521692\n"
     ]
    }
   ],
   "source": [
    "# calculating Z score for 94%,98%,96%\n",
    "print('Z score for 94% is',scipy.stats.norm.ppf(0.94))\n",
    "print('Z score for 98% is',scipy.stats.norm.ppf(0.98))\n",
    "print('Z score for 96% is',scipy.stats.norm.ppf(0.96))"
   ]
  },
  {
   "cell_type": "code",
   "execution_count": 41,
   "id": "3b199d07",
   "metadata": {},
   "outputs": [
    {
     "name": "stdout",
     "output_type": "stream",
     "text": [
      "Upper Limit: 201.0429738341421\n",
      "Lower Limit: 198.9570261658579\n"
     ]
    }
   ],
   "source": [
    "#CONFIDENCE INTERVAL FOR 94%\n",
    "import numpy as np\n",
    "print('Upper Limit:',200+(1.5547735945968535*(30/np.sqrt(2000))))\n",
    "print('Lower Limit:',200-(1.5547735945968535*(30/np.sqrt(2000))))"
   ]
  },
  {
   "cell_type": "code",
   "execution_count": 42,
   "id": "070c2734",
   "metadata": {},
   "outputs": [
    {
     "name": "stdout",
     "output_type": "stream",
     "text": [
      "Upper Limit: 201.37769665186667\n",
      "Lower Limit: 198.62230334813333\n"
     ]
    }
   ],
   "source": [
    "#CONFIDENCE INTERVAL for 98%\n",
    "\n",
    "print('Upper Limit:',200+(2.0537489106318225*(30/np.sqrt(2000))))\n",
    "print('Lower Limit:',200-(2.0537489106318225*(30/np.sqrt(2000))))"
   ]
  },
  {
   "cell_type": "code",
   "execution_count": 43,
   "id": "cd67da41",
   "metadata": {},
   "outputs": [
    {
     "name": "stdout",
     "output_type": "stream",
     "text": [
      "Upper Limit: 201.17439591877456\n",
      "Lower Limit: 198.82560408122544\n"
     ]
    }
   ],
   "source": [
    "#CONFIDENCE INTERVAL for 96%\n",
    "\n",
    "print('Upper Limit:',200+(1.7506860712521692*(30/np.sqrt(2000))))\n",
    "print('Lower Limit:',200-(1.7506860712521692*(30/np.sqrt(2000))))"
   ]
  },
  {
   "cell_type": "markdown",
   "id": "29e356b7",
   "metadata": {},
   "source": [
    "## Q.12 Below are the scores obtained by a student in tests \n",
    "## 34,36,36,38,38,39,39,40,40,41,41,41,41,42,42,45,49,56\n",
    "## \tFind mean, median, variance, standard deviation.\n"
   ]
  },
  {
   "cell_type": "code",
   "execution_count": 44,
   "id": "5f396b7d",
   "metadata": {},
   "outputs": [
    {
     "data": {
      "text/plain": [
       "0     34\n",
       "1     36\n",
       "2     36\n",
       "3     38\n",
       "4     38\n",
       "5     39\n",
       "6     39\n",
       "7     40\n",
       "8     40\n",
       "9     41\n",
       "10    41\n",
       "11    41\n",
       "12    41\n",
       "13    42\n",
       "14    42\n",
       "15    45\n",
       "16    49\n",
       "17    56\n",
       "dtype: int64"
      ]
     },
     "execution_count": 44,
     "metadata": {},
     "output_type": "execute_result"
    }
   ],
   "source": [
    "score=34,36,36,38,38,39,39,40,40,41,41,41,41,42,42,45,49,56\n",
    "score=pd.Series([34,36,36,38,38,39,39,40,40,41,41,41,41,42,42,45,49,56])\n",
    "score"
   ]
  },
  {
   "cell_type": "code",
   "execution_count": 45,
   "id": "3d541bc8",
   "metadata": {},
   "outputs": [
    {
     "data": {
      "text/plain": [
       "41.0"
      ]
     },
     "execution_count": 45,
     "metadata": {},
     "output_type": "execute_result"
    }
   ],
   "source": [
    "score.mean()"
   ]
  },
  {
   "cell_type": "code",
   "execution_count": 46,
   "id": "9d4ebcf9",
   "metadata": {},
   "outputs": [
    {
     "data": {
      "text/plain": [
       "40.5"
      ]
     },
     "execution_count": 46,
     "metadata": {},
     "output_type": "execute_result"
    }
   ],
   "source": [
    "score.median()"
   ]
  },
  {
   "cell_type": "code",
   "execution_count": 47,
   "id": "c68c29ba",
   "metadata": {},
   "outputs": [
    {
     "data": {
      "text/plain": [
       "25.529411764705884"
      ]
     },
     "execution_count": 47,
     "metadata": {},
     "output_type": "execute_result"
    }
   ],
   "source": [
    "score.var()"
   ]
  },
  {
   "cell_type": "code",
   "execution_count": 48,
   "id": "2c7be2b7",
   "metadata": {},
   "outputs": [
    {
     "data": {
      "text/plain": [
       "5.05266382858645"
      ]
     },
     "execution_count": 48,
     "metadata": {},
     "output_type": "execute_result"
    }
   ],
   "source": [
    "score.std()"
   ]
  },
  {
   "cell_type": "code",
   "execution_count": 49,
   "id": "3d031811",
   "metadata": {},
   "outputs": [],
   "source": [
    "import warnings\n",
    "warnings.filterwarnings('ignore')"
   ]
  },
  {
   "cell_type": "code",
   "execution_count": 50,
   "id": "273b211c",
   "metadata": {},
   "outputs": [
    {
     "data": {
      "image/png": "[encoded data removed]",
      "text/plain": [
       "<Figure size 432x288 with 1 Axes>"
      ]
     },
     "metadata": {
      "needs_background": "light"
     },
     "output_type": "display_data"
    }
   ],
   "source": [
    "sns.boxplot(score)\n",
    "plt.show()"
   ]
  },
  {
   "cell_type": "markdown",
   "id": "4a9d0463",
   "metadata": {},
   "source": [
    "## the average score by the student in test is 41, two of the student got marks of 50 and 55 apart from the regular score\n"
   ]
  },
  {
   "cell_type": "code",
   "execution_count": 51,
   "id": "4cb4663f",
   "metadata": {},
   "outputs": [
    {
     "data": {
      "text/plain": [
       "count    18.000000\n",
       "mean     41.000000\n",
       "std       5.052664\n",
       "min      34.000000\n",
       "25%      38.250000\n",
       "50%      40.500000\n",
       "75%      41.750000\n",
       "max      56.000000\n",
       "dtype: float64"
      ]
     },
     "execution_count": 51,
     "metadata": {},
     "output_type": "execute_result"
    }
   ],
   "source": [
    "score.describe()"
   ]
  },
  {
   "cell_type": "markdown",
   "id": "8bfd18c9",
   "metadata": {},
   "source": [
    "## Q.20 Calculate probability from the given dataset for the below cases\n",
    "\n",
    "## - Data _set: Cars.csv\n",
    "\n",
    "## Calculate the probability of MPG of Cars for the below cases.\n",
    "\n",
    "   ## #   MPG <- Cars$MPG"
   ]
  },
  {
   "cell_type": "code",
   "execution_count": 52,
   "id": "e6a75d0f",
   "metadata": {},
   "outputs": [],
   "source": [
    "import pandas as pd\n",
    "from scipy import stats"
   ]
  },
  {
   "cell_type": "code",
   "execution_count": 53,
   "id": "01f613a0",
   "metadata": {},
   "outputs": [
    {
     "data": {
      "text/html": [
       "<div>\n",
       "<style scoped>\n",
       "    .dataframe tbody tr th:only-of-type {\n",
       "        vertical-align: middle;\n",
       "    }\n",
       "\n",
       "    .dataframe tbody tr th {\n",
       "        vertical-align: top;\n",
       "    }\n",
       "\n",
       "    .dataframe thead th {\n",
       "        text-align: right;\n",
       "    }\n",
       "</style>\n",
       "<table border=\"1\" class=\"dataframe\">\n",
       "  <thead>\n",
       "    <tr style=\"text-align: right;\">\n",
       "      <th></th>\n",
       "      <th>HP</th>\n",
       "      <th>MPG</th>\n",
       "      <th>VOL</th>\n",
       "      <th>SP</th>\n",
       "      <th>WT</th>\n",
       "    </tr>\n",
       "  </thead>\n",
       "  <tbody>\n",
       "    <tr>\n",
       "      <th>0</th>\n",
       "      <td>49</td>\n",
       "      <td>53.700681</td>\n",
       "      <td>89</td>\n",
       "      <td>104.185353</td>\n",
       "      <td>28.762059</td>\n",
       "    </tr>\n",
       "    <tr>\n",
       "      <th>1</th>\n",
       "      <td>55</td>\n",
       "      <td>50.013401</td>\n",
       "      <td>92</td>\n",
       "      <td>105.461264</td>\n",
       "      <td>30.466833</td>\n",
       "    </tr>\n",
       "    <tr>\n",
       "      <th>2</th>\n",
       "      <td>55</td>\n",
       "      <td>50.013401</td>\n",
       "      <td>92</td>\n",
       "      <td>105.461264</td>\n",
       "      <td>30.193597</td>\n",
       "    </tr>\n",
       "    <tr>\n",
       "      <th>3</th>\n",
       "      <td>70</td>\n",
       "      <td>45.696322</td>\n",
       "      <td>92</td>\n",
       "      <td>113.461264</td>\n",
       "      <td>30.632114</td>\n",
       "    </tr>\n",
       "    <tr>\n",
       "      <th>4</th>\n",
       "      <td>53</td>\n",
       "      <td>50.504232</td>\n",
       "      <td>92</td>\n",
       "      <td>104.461264</td>\n",
       "      <td>29.889149</td>\n",
       "    </tr>\n",
       "  </tbody>\n",
       "</table>\n",
       "</div>"
      ],
      "text/plain": [
       "   HP        MPG  VOL          SP         WT\n",
       "0  49  53.700681   89  104.185353  28.762059\n",
       "1  55  50.013401   92  105.461264  30.466833\n",
       "2  55  50.013401   92  105.461264  30.193597\n",
       "3  70  45.696322   92  113.461264  30.632114\n",
       "4  53  50.504232   92  104.461264  29.889149"
      ]
     },
     "execution_count": 53,
     "metadata": {},
     "output_type": "execute_result"
    }
   ],
   "source": [
    "cars=pd.read_csv(\"D:\\\\assignment\\\\assignment1\\\\Cars.csv\")\n",
    "cars.head()"
   ]
  },
  {
   "cell_type": "markdown",
   "id": "48585a67",
   "metadata": {},
   "source": [
    "## P(MPG>38)\n"
   ]
  },
  {
   "cell_type": "code",
   "execution_count": 54,
   "id": "970a2a1b",
   "metadata": {},
   "outputs": [
    {
     "data": {
      "text/plain": [
       "0.3475939251582705"
      ]
     },
     "execution_count": 54,
     "metadata": {},
     "output_type": "execute_result"
    }
   ],
   "source": [
    "## GET THE MEAN OF THE PARTICULAR COLUMN, AND STANDARD DEVIATON\n",
    "\n",
    "\n",
    "1-stats.norm.cdf(38,cars['MPG'].mean(),cars['MPG'].std())"
   ]
  },
  {
   "cell_type": "markdown",
   "id": "a9e56eb5",
   "metadata": {},
   "source": [
    "## P(MPG<40)"
   ]
  },
  {
   "cell_type": "code",
   "execution_count": 55,
   "id": "09f14b97",
   "metadata": {},
   "outputs": [
    {
     "data": {
      "text/plain": [
       "0.7293498762151616"
      ]
     },
     "execution_count": 55,
     "metadata": {},
     "output_type": "execute_result"
    }
   ],
   "source": [
    "stats.norm.cdf(40,cars['MPG'].mean(),cars['MPG'].std())"
   ]
  },
  {
   "cell_type": "markdown",
   "id": "7083e340",
   "metadata": {},
   "source": [
    "## P(20<MPG<50)\n"
   ]
  },
  {
   "cell_type": "code",
   "execution_count": 56,
   "id": "1b91db4c",
   "metadata": {},
   "outputs": [
    {
     "data": {
      "text/plain": [
       "0.8988689169682046"
      ]
     },
     "execution_count": 56,
     "metadata": {},
     "output_type": "execute_result"
    }
   ],
   "source": [
    "(stats.norm.cdf(50,cars[\"MPG\"].mean(),cars[\"MPG\"].std()))-(stats.norm.cdf(20,cars[\"MPG\"].mean(),cars[\"MPG\"].std()))"
   ]
  },
  {
   "cell_type": "markdown",
   "id": "d45e3be4",
   "metadata": {},
   "source": [
    "## Q.21 check whether the data follows normal distribution\n",
    "## a) MPG car data"
   ]
  },
  {
   "cell_type": "code",
   "execution_count": 57,
   "id": "87f861c8",
   "metadata": {},
   "outputs": [
    {
     "name": "stdout",
     "output_type": "stream",
     "text": [
      "kurtosis of MPG -0.6116786559430913\n",
      "skewness of MPG -0.17794674747025727\n"
     ]
    },
    {
     "data": {
      "image/png": "[encoded data removed]",
      "text/plain": [
       "<Figure size 432x288 with 1 Axes>"
      ]
     },
     "execution_count": 57,
     "metadata": {},
     "output_type": "execute_result"
    },
    {
     "data": {
      "image/png": "[encoded data removed]",
      "text/plain": [
       "<Figure size 360x360 with 1 Axes>"
      ]
     },
     "metadata": {
      "needs_background": "light"
     },
     "output_type": "display_data"
    },
    {
     "data": {
      "image/png": "[encoded data removed]",
      "text/plain": [
       "<Figure size 432x288 with 1 Axes>"
      ]
     },
     "metadata": {
      "needs_background": "light"
     },
     "output_type": "display_data"
    }
   ],
   "source": [
    "import statsmodels.api as sm\n",
    "sns.displot(cars[\"MPG\"])\n",
    "print('kurtosis of MPG',cars[\"MPG\"].kurtosis())\n",
    "print('skewness of MPG',cars[\"MPG\"].skew())\n",
    "sm.qqplot(cars[\"MPG\"],dist=stats.norm)"
   ]
  },
  {
   "cell_type": "code",
   "execution_count": 58,
   "id": "a0867bfe",
   "metadata": {},
   "outputs": [],
   "source": [
    "## MPG CAR DATA DO FOLLOW NORMAL DISTRIBUTION"
   ]
  },
  {
   "cell_type": "markdown",
   "id": "c438ffd8",
   "metadata": {},
   "source": [
    "## b)Check Whether the Adipose Tissue (AT) and Waist Circumference(Waist)  from wc-at data set  follows Normal Distribution \n",
    " ## Dataset: wc-at.csv\n"
   ]
  },
  {
   "cell_type": "code",
   "execution_count": 59,
   "id": "d494f7c7",
   "metadata": {},
   "outputs": [
    {
     "data": {
      "text/html": [
       "<div>\n",
       "<style scoped>\n",
       "    .dataframe tbody tr th:only-of-type {\n",
       "        vertical-align: middle;\n",
       "    }\n",
       "\n",
       "    .dataframe tbody tr th {\n",
       "        vertical-align: top;\n",
       "    }\n",
       "\n",
       "    .dataframe thead th {\n",
       "        text-align: right;\n",
       "    }\n",
       "</style>\n",
       "<table border=\"1\" class=\"dataframe\">\n",
       "  <thead>\n",
       "    <tr style=\"text-align: right;\">\n",
       "      <th></th>\n",
       "      <th>Waist</th>\n",
       "      <th>AT</th>\n",
       "    </tr>\n",
       "  </thead>\n",
       "  <tbody>\n",
       "    <tr>\n",
       "      <th>0</th>\n",
       "      <td>74.75</td>\n",
       "      <td>25.72</td>\n",
       "    </tr>\n",
       "    <tr>\n",
       "      <th>1</th>\n",
       "      <td>72.60</td>\n",
       "      <td>25.89</td>\n",
       "    </tr>\n",
       "    <tr>\n",
       "      <th>2</th>\n",
       "      <td>81.80</td>\n",
       "      <td>42.60</td>\n",
       "    </tr>\n",
       "    <tr>\n",
       "      <th>3</th>\n",
       "      <td>83.95</td>\n",
       "      <td>42.80</td>\n",
       "    </tr>\n",
       "    <tr>\n",
       "      <th>4</th>\n",
       "      <td>74.65</td>\n",
       "      <td>29.84</td>\n",
       "    </tr>\n",
       "  </tbody>\n",
       "</table>\n",
       "</div>"
      ],
      "text/plain": [
       "   Waist     AT\n",
       "0  74.75  25.72\n",
       "1  72.60  25.89\n",
       "2  81.80  42.60\n",
       "3  83.95  42.80\n",
       "4  74.65  29.84"
      ]
     },
     "execution_count": 59,
     "metadata": {},
     "output_type": "execute_result"
    }
   ],
   "source": [
    "wc=pd.read_csv(\"D:\\\\assignment\\\\assignment1\\\\wc-at.csv\")\n",
    "wc.head()"
   ]
  },
  {
   "cell_type": "code",
   "execution_count": 60,
   "id": "76514e91",
   "metadata": {},
   "outputs": [
    {
     "data": {
      "text/plain": [
       "count    109.000000\n",
       "mean      91.901835\n",
       "std       13.559116\n",
       "min       63.500000\n",
       "25%       80.000000\n",
       "50%       90.800000\n",
       "75%      104.000000\n",
       "max      121.000000\n",
       "Name: Waist, dtype: float64"
      ]
     },
     "execution_count": 60,
     "metadata": {},
     "output_type": "execute_result"
    }
   ],
   "source": [
    "wc[\"Waist\"].describe()"
   ]
  },
  {
   "cell_type": "code",
   "execution_count": 61,
   "id": "1c69f826",
   "metadata": {},
   "outputs": [
    {
     "data": {
      "text/plain": [
       "<seaborn.axisgrid.FacetGrid at 0x1fda090b880>"
      ]
     },
     "execution_count": 61,
     "metadata": {},
     "output_type": "execute_result"
    },
    {
     "data": {
      "image/png": "[encoded data removed]",
      "text/plain": [
       "<Figure size 360x360 with 1 Axes>"
      ]
     },
     "metadata": {
      "needs_background": "light"
     },
     "output_type": "display_data"
    }
   ],
   "source": [
    "sns.displot(wc[\"Waist\"])"
   ]
  },
  {
   "cell_type": "code",
   "execution_count": 62,
   "id": "2df0cb1d",
   "metadata": {},
   "outputs": [
    {
     "data": {
      "text/plain": [
       "<AxesSubplot:xlabel='AT', ylabel='Density'>"
      ]
     },
     "execution_count": 62,
     "metadata": {},
     "output_type": "execute_result"
    },
    {
     "data": {
      "image/png": "[encoded data removed]",
      "text/plain": [
       "<Figure size 432x288 with 1 Axes>"
      ]
     },
     "metadata": {
      "needs_background": "light"
     },
     "output_type": "display_data"
    }
   ],
   "source": [
    "sns.distplot(wc[\"AT\"])"
   ]
  },
  {
   "cell_type": "code",
   "execution_count": 63,
   "id": "6af51f53",
   "metadata": {},
   "outputs": [
    {
     "data": {
      "image/png": "[encoded data removed]",
      "text/plain": [
       "<Figure size 432x288 with 1 Axes>"
      ]
     },
     "execution_count": 63,
     "metadata": {},
     "output_type": "execute_result"
    },
    {
     "data": {
      "image/png": "[encoded data removed]",
      "text/plain": [
       "<Figure size 432x288 with 1 Axes>"
      ]
     },
     "metadata": {
      "needs_background": "light"
     },
     "output_type": "display_data"
    }
   ],
   "source": [
    "sm.qqplot(wc[\"AT\"],dist=stats.norm)"
   ]
  },
  {
   "cell_type": "code",
   "execution_count": 64,
   "id": "27cd50e5",
   "metadata": {},
   "outputs": [
    {
     "data": {
      "image/png": "[encoded data removed]",
      "text/plain": [
       "<Figure size 432x288 with 1 Axes>"
      ]
     },
     "execution_count": 64,
     "metadata": {},
     "output_type": "execute_result"
    },
    {
     "data": {
      "image/png": "[encoded data removed]",
      "text/plain": [
       "<Figure size 432x288 with 1 Axes>"
      ]
     },
     "metadata": {
      "needs_background": "light"
     },
     "output_type": "display_data"
    }
   ],
   "source": [
    "sm.qqplot(wc[\"Waist\"],dist=stats.norm)"
   ]
  },
  {
   "cell_type": "markdown",
   "id": "0edc370c",
   "metadata": {},
   "source": [
    "## Q. 22 Calculate the Z scores of 90% confidence interval,94% confidence interval, 60% confidence interval "
   ]
  },
  {
   "cell_type": "code",
   "execution_count": 65,
   "id": "23009ad2",
   "metadata": {},
   "outputs": [
    {
     "data": {
      "text/plain": [
       "1.6448536269514722"
      ]
     },
     "execution_count": 65,
     "metadata": {},
     "output_type": "execute_result"
    }
   ],
   "source": [
    "# for 90% confidence interval,\n",
    "#significant level is at 5%, i.e for two tail test 100-90=10,10/2=5%\n",
    "\n",
    "stats.norm.ppf(0.95)"
   ]
  },
  {
   "cell_type": "code",
   "execution_count": 66,
   "id": "b8dd063d",
   "metadata": {},
   "outputs": [
    {
     "data": {
      "text/plain": [
       "1.8807936081512509"
      ]
     },
     "execution_count": 66,
     "metadata": {},
     "output_type": "execute_result"
    }
   ],
   "source": [
    "#for 94% of the confidence interval\n",
    "stats.norm.ppf(0.97)"
   ]
  },
  {
   "cell_type": "code",
   "execution_count": 67,
   "id": "6d92c4d5",
   "metadata": {},
   "outputs": [
    {
     "data": {
      "text/plain": [
       "0.8416212335729143"
      ]
     },
     "execution_count": 67,
     "metadata": {},
     "output_type": "execute_result"
    }
   ],
   "source": [
    "# for 60% of the confidence level\n",
    "stats.norm.ppf(0.80)"
   ]
  },
  {
   "cell_type": "markdown",
   "id": "541d5702",
   "metadata": {},
   "source": [
    "## Q. 23) Calculate the t scores of 95% confidence interval, 96% confidence interval, 99% confidence interval for sample size of 25"
   ]
  },
  {
   "cell_type": "code",
   "execution_count": 68,
   "id": "87473781",
   "metadata": {},
   "outputs": [
    {
     "data": {
      "text/plain": [
       "2.0638985616280205"
      ]
     },
     "execution_count": 68,
     "metadata": {},
     "output_type": "execute_result"
    }
   ],
   "source": [
    "#for 95% of the confidence interval of sample size=25\n",
    "#100-95=5%\n",
    "#5%/2=2.5%\n",
    "#1-2.5%\n",
    "#1-0.025=0.975\n",
    "#df=n-1;25-1=24\n",
    "stats.t.ppf(0.975,24)"
   ]
  },
  {
   "cell_type": "code",
   "execution_count": 69,
   "id": "1e195070",
   "metadata": {},
   "outputs": [
    {
     "data": {
      "text/plain": [
       "2.1715446760080677"
      ]
     },
     "execution_count": 69,
     "metadata": {},
     "output_type": "execute_result"
    }
   ],
   "source": [
    "#for 96% of the confidence interval of sample 25\n",
    "stats.t.ppf(0.98,24)"
   ]
  },
  {
   "cell_type": "code",
   "execution_count": 70,
   "id": "828e8f1e",
   "metadata": {},
   "outputs": [
    {
     "data": {
      "text/plain": [
       "2.796939504772804"
      ]
     },
     "execution_count": 70,
     "metadata": {},
     "output_type": "execute_result"
    }
   ],
   "source": [
    "# for 99% of the confidence interval of sample size 25\n",
    "stats.t.ppf(0.995,24)"
   ]
  },
  {
   "cell_type": "markdown",
   "id": "6c8de569",
   "metadata": {},
   "source": [
    "## Q. 24)   A Government company claims that an average light bulb lasts 270 days. A researcher randomly selects 18 bulbs for testing. The sampled bulbs last an average of 260 days, with a standard deviation of 90 days. If the CEO's claim were true, what is the probability that 18 randomly selected bulbs would have an average life of no more than 260 days\n"
   ]
  },
  {
   "cell_type": "code",
   "execution_count": null,
   "id": "ad0b8e9f",
   "metadata": {},
   "outputs": [],
   "source": [
    "#population mean=270\n",
    "#mean value=260\n",
    "#std=90"
   ]
  },
  {
   "cell_type": "code",
   "execution_count": 71,
   "id": "460265bc",
   "metadata": {},
   "outputs": [],
   "source": [
    "#To calculate T score T = (X-μ)/[σ/√(n)]."
   ]
  },
  {
   "cell_type": "code",
   "execution_count": 72,
   "id": "5b302a03",
   "metadata": {},
   "outputs": [
    {
     "data": {
      "text/plain": [
       "-0.4714045207910317"
      ]
     },
     "execution_count": 72,
     "metadata": {},
     "output_type": "execute_result"
    }
   ],
   "source": [
    "tscore=((260-270)/(90/18**0.5))\n",
    "tscore"
   ]
  },
  {
   "cell_type": "code",
   "execution_count": 73,
   "id": "d5e3d134",
   "metadata": {},
   "outputs": [
    {
     "data": {
      "text/plain": [
       "0.32167253567098364"
      ]
     },
     "execution_count": 73,
     "metadata": {},
     "output_type": "execute_result"
    }
   ],
   "source": [
    "stats.t.cdf(tscore,17)"
   ]
  }
 ],
 "metadata": {
  "kernelspec": {
   "display_name": "Python 3 (ipykernel)",
   "language": "python",
   "name": "python3"
  },
  "language_info": {
   "codemirror_mode": {
    "name": "ipython",
    "version": 3
   },
   "file_extension": ".py",
   "mimetype": "text/x-python",
   "name": "python",
   "nbconvert_exporter": "python",
   "pygments_lexer": "ipython3",
   "version": "3.9.12"
  }
 },
 "nbformat": 4,
 "nbformat_minor": 5
}
