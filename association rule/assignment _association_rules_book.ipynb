{
 "cells": [
  {
   "cell_type": "markdown",
   "id": "b54b00bf",
   "metadata": {},
   "source": [
    "## Importing Library"
   ]
  },
  {
   "cell_type": "code",
   "execution_count": 1,
   "id": "8f9033a5",
   "metadata": {},
   "outputs": [
    {
     "name": "stdout",
     "output_type": "stream",
     "text": [
      "Requirement already satisfied: mlxtend in c:\\users\\rajpu\\anaconda3\\lib\\site-packages (0.21.0)\n",
      "Requirement already satisfied: scikit-learn>=1.0.2 in c:\\users\\rajpu\\anaconda3\\lib\\site-packages (from mlxtend) (1.0.2)\n",
      "Requirement already satisfied: joblib>=0.13.2 in c:\\users\\rajpu\\anaconda3\\lib\\site-packages (from mlxtend) (1.1.0)\n",
      "Requirement already satisfied: scipy>=1.2.1 in c:\\users\\rajpu\\anaconda3\\lib\\site-packages (from mlxtend) (1.7.3)\n",
      "Requirement already satisfied: numpy>=1.16.2 in c:\\users\\rajpu\\anaconda3\\lib\\site-packages (from mlxtend) (1.21.5)\n",
      "Requirement already satisfied: setuptools in c:\\users\\rajpu\\anaconda3\\lib\\site-packages (from mlxtend) (61.2.0)\n",
      "Requirement already satisfied: matplotlib>=3.0.0 in c:\\users\\rajpu\\anaconda3\\lib\\site-packages (from mlxtend) (3.5.1)\n",
      "Requirement already satisfied: pandas>=0.24.2 in c:\\users\\rajpu\\anaconda3\\lib\\site-packages (from mlxtend) (1.4.2)\n",
      "Requirement already satisfied: fonttools>=4.22.0 in c:\\users\\rajpu\\anaconda3\\lib\\site-packages (from matplotlib>=3.0.0->mlxtend) (4.25.0)\n",
      "Requirement already satisfied: cycler>=0.10 in c:\\users\\rajpu\\anaconda3\\lib\\site-packages (from matplotlib>=3.0.0->mlxtend) (0.11.0)\n",
      "Requirement already satisfied: pyparsing>=2.2.1 in c:\\users\\rajpu\\anaconda3\\lib\\site-packages (from matplotlib>=3.0.0->mlxtend) (3.0.4)\n",
      "Requirement already satisfied: kiwisolver>=1.0.1 in c:\\users\\rajpu\\anaconda3\\lib\\site-packages (from matplotlib>=3.0.0->mlxtend) (1.3.2)\n",
      "Requirement already satisfied: python-dateutil>=2.7 in c:\\users\\rajpu\\anaconda3\\lib\\site-packages (from matplotlib>=3.0.0->mlxtend) (2.8.2)\n",
      "Requirement already satisfied: pillow>=6.2.0 in c:\\users\\rajpu\\anaconda3\\lib\\site-packages (from matplotlib>=3.0.0->mlxtend) (9.0.1)\n",
      "Requirement already satisfied: packaging>=20.0 in c:\\users\\rajpu\\anaconda3\\lib\\site-packages (from matplotlib>=3.0.0->mlxtend) (21.3)\n",
      "Requirement already satisfied: pytz>=2020.1 in c:\\users\\rajpu\\anaconda3\\lib\\site-packages (from pandas>=0.24.2->mlxtend) (2021.3)\n",
      "Requirement already satisfied: six>=1.5 in c:\\users\\rajpu\\anaconda3\\lib\\site-packages (from python-dateutil>=2.7->matplotlib>=3.0.0->mlxtend) (1.16.0)\n",
      "Requirement already satisfied: threadpoolctl>=2.0.0 in c:\\users\\rajpu\\anaconda3\\lib\\site-packages (from scikit-learn>=1.0.2->mlxtend) (2.2.0)\n"
     ]
    }
   ],
   "source": [
    "!pip install mlxtend"
   ]
  },
  {
   "cell_type": "markdown",
   "id": "35d03452",
   "metadata": {},
   "source": [
    "## importing data_set"
   ]
  },
  {
   "cell_type": "code",
   "execution_count": 2,
   "id": "7f86d0bf",
   "metadata": {},
   "outputs": [],
   "source": [
    "import mlxtend"
   ]
  },
  {
   "cell_type": "code",
   "execution_count": 3,
   "id": "5f253005",
   "metadata": {},
   "outputs": [],
   "source": [
    "import pandas as pd\n",
    "import numpy as np\n",
    "from mlxtend.frequent_patterns import apriori\n",
    "from mlxtend.frequent_patterns import association_rules\n",
    "from mlxtend.preprocessing import TransactionEncoder\n",
    "import matplotlib.pyplot as plt"
   ]
  },
  {
   "cell_type": "code",
   "execution_count": 4,
   "id": "a837def7",
   "metadata": {},
   "outputs": [
    {
     "data": {
      "text/plain": [
       "(   ChildBks  YouthBks  CookBks  DoItYBks  RefBks  ArtBks  GeogBks  ItalCook  \\\n",
       " 0         0         1        0         1       0       0        1         0   \n",
       " 1         1         0        0         0       0       0        0         0   \n",
       " 2         0         0        0         0       0       0        0         0   \n",
       " 3         1         1        1         0       1       0        1         0   \n",
       " 4         0         0        1         0       0       0        1         0   \n",
       " \n",
       "    ItalAtlas  ItalArt  Florence  \n",
       " 0          0        0         0  \n",
       " 1          0        0         0  \n",
       " 2          0        0         0  \n",
       " 3          0        0         0  \n",
       " 4          0        0         0  ,\n",
       "       ChildBks  YouthBks  CookBks  DoItYBks  RefBks  ArtBks  GeogBks  \\\n",
       " 1995         0         0        1         0       0       1        1   \n",
       " 1996         0         0        0         0       0       0        0   \n",
       " 1997         0         0        0         0       0       0        0   \n",
       " 1998         0         0        1         0       0       0        0   \n",
       " 1999         0         0        0         0       0       0        0   \n",
       " \n",
       "       ItalCook  ItalAtlas  ItalArt  Florence  \n",
       " 1995         1          0        1         1  \n",
       " 1996         0          0        0         0  \n",
       " 1997         0          0        0         0  \n",
       " 1998         0          0        0         0  \n",
       " 1999         0          0        0         0  )"
      ]
     },
     "execution_count": 4,
     "metadata": {},
     "output_type": "execute_result"
    }
   ],
   "source": [
    "book=pd.read_csv(\"D:\\\\assignment\\\\association rule\\\\book.csv\")\n",
    "book.head(),book.tail()"
   ]
  },
  {
   "cell_type": "code",
   "execution_count": 5,
   "id": "bdbff946",
   "metadata": {},
   "outputs": [
    {
     "data": {
      "text/plain": [
       "(2000, 11)"
      ]
     },
     "execution_count": 5,
     "metadata": {},
     "output_type": "execute_result"
    }
   ],
   "source": [
    "book.shape"
   ]
  },
  {
   "cell_type": "markdown",
   "id": "db79f8a4",
   "metadata": {},
   "source": [
    "## Apriori Algorithm"
   ]
  },
  {
   "cell_type": "code",
   "execution_count": 6,
   "id": "29933ba8",
   "metadata": {},
   "outputs": [
    {
     "name": "stderr",
     "output_type": "stream",
     "text": [
      "C:\\Users\\rajpu\\anaconda3\\lib\\site-packages\\mlxtend\\frequent_patterns\\fpcommon.py:111: DeprecationWarning: DataFrames with non-bool types result in worse computationalperformance and their support might be discontinued in the future.Please use a DataFrame with bool type\n",
      "  warnings.warn(\n"
     ]
    }
   ],
   "source": [
    "freqnt_item=apriori(book,min_support=0.1)"
   ]
  },
  {
   "cell_type": "code",
   "execution_count": 7,
   "id": "9bb535df",
   "metadata": {},
   "outputs": [
    {
     "name": "stdout",
     "output_type": "stream",
     "text": [
      "    support   itemsets\n",
      "0    0.4230        (0)\n",
      "1    0.2475        (1)\n",
      "2    0.4310        (2)\n",
      "3    0.2820        (3)\n",
      "4    0.2145        (4)\n",
      "5    0.2410        (5)\n",
      "6    0.2760        (6)\n",
      "7    0.1135        (7)\n",
      "8    0.1085       (10)\n",
      "9    0.1650     (0, 1)\n",
      "10   0.2560     (0, 2)\n",
      "11   0.1840     (0, 3)\n",
      "12   0.1515     (0, 4)\n",
      "13   0.1625     (0, 5)\n",
      "14   0.1950     (0, 6)\n",
      "15   0.1620     (1, 2)\n",
      "16   0.1155     (1, 3)\n",
      "17   0.1010     (1, 5)\n",
      "18   0.1205     (1, 6)\n",
      "19   0.1875     (2, 3)\n",
      "20   0.1525     (2, 4)\n",
      "21   0.1670     (2, 5)\n",
      "22   0.1925     (2, 6)\n",
      "23   0.1135     (2, 7)\n",
      "24   0.1055     (3, 4)\n",
      "25   0.1235     (3, 5)\n",
      "26   0.1325     (3, 6)\n",
      "27   0.1105     (4, 6)\n",
      "28   0.1275     (5, 6)\n",
      "29   0.1290  (0, 1, 2)\n",
      "30   0.1460  (0, 2, 3)\n",
      "31   0.1225  (0, 2, 4)\n",
      "32   0.1265  (0, 2, 5)\n",
      "33   0.1495  (0, 2, 6)\n",
      "34   0.1045  (0, 3, 6)\n",
      "35   0.1020  (0, 5, 6)\n",
      "36   0.1015  (2, 3, 5)\n",
      "37   0.1085  (2, 3, 6)\n",
      "38   0.1035  (2, 5, 6)\n"
     ]
    }
   ],
   "source": [
    "print(freqnt_item)"
   ]
  },
  {
   "cell_type": "code",
   "execution_count": 8,
   "id": "b542d3fd",
   "metadata": {},
   "outputs": [
    {
     "name": "stdout",
     "output_type": "stream",
     "text": [
      "39\n"
     ]
    }
   ],
   "source": [
    "print(len(freqnt_item))"
   ]
  },
  {
   "cell_type": "code",
   "execution_count": 9,
   "id": "1f921d57",
   "metadata": {},
   "outputs": [
    {
     "name": "stdout",
     "output_type": "stream",
     "text": [
      "Processing 44 combinations | Sampling itemset size 4\n",
      "   support    itemsets\n",
      "0   0.4230  (ChildBks)\n",
      "1   0.2475  (YouthBks)\n",
      "2   0.4310   (CookBks)\n",
      "3   0.2820  (DoItYBks)\n",
      "4   0.2145    (RefBks)\n"
     ]
    },
    {
     "name": "stderr",
     "output_type": "stream",
     "text": [
      "C:\\Users\\rajpu\\anaconda3\\lib\\site-packages\\mlxtend\\frequent_patterns\\fpcommon.py:111: DeprecationWarning: DataFrames with non-bool types result in worse computationalperformance and their support might be discontinued in the future.Please use a DataFrame with bool type\n",
      "  warnings.warn(\n"
     ]
    }
   ],
   "source": [
    "freqnt_item = apriori(book, min_support=0.1, use_colnames= True, verbose=1)\n",
    "print(freqnt_item.head())\n",
    "#verbose=allows the user to write regular expressions that can look nicer and are more readable."
   ]
  },
  {
   "cell_type": "code",
   "execution_count": 10,
   "id": "d793cc32",
   "metadata": {},
   "outputs": [
    {
     "data": {
      "text/html": [
       "<div>\n",
       "<style scoped>\n",
       "    .dataframe tbody tr th:only-of-type {\n",
       "        vertical-align: middle;\n",
       "    }\n",
       "\n",
       "    .dataframe tbody tr th {\n",
       "        vertical-align: top;\n",
       "    }\n",
       "\n",
       "    .dataframe thead th {\n",
       "        text-align: right;\n",
       "    }\n",
       "</style>\n",
       "<table border=\"1\" class=\"dataframe\">\n",
       "  <thead>\n",
       "    <tr style=\"text-align: right;\">\n",
       "      <th></th>\n",
       "      <th>support</th>\n",
       "      <th>itemsets</th>\n",
       "    </tr>\n",
       "  </thead>\n",
       "  <tbody>\n",
       "    <tr>\n",
       "      <th>17</th>\n",
       "      <td>0.1010</td>\n",
       "      <td>(YouthBks, ArtBks)</td>\n",
       "    </tr>\n",
       "    <tr>\n",
       "      <th>36</th>\n",
       "      <td>0.1015</td>\n",
       "      <td>(ArtBks, CookBks, DoItYBks)</td>\n",
       "    </tr>\n",
       "    <tr>\n",
       "      <th>35</th>\n",
       "      <td>0.1020</td>\n",
       "      <td>(ChildBks, GeogBks, ArtBks)</td>\n",
       "    </tr>\n",
       "    <tr>\n",
       "      <th>38</th>\n",
       "      <td>0.1035</td>\n",
       "      <td>(GeogBks, ArtBks, CookBks)</td>\n",
       "    </tr>\n",
       "    <tr>\n",
       "      <th>34</th>\n",
       "      <td>0.1045</td>\n",
       "      <td>(ChildBks, GeogBks, DoItYBks)</td>\n",
       "    </tr>\n",
       "    <tr>\n",
       "      <th>24</th>\n",
       "      <td>0.1055</td>\n",
       "      <td>(RefBks, DoItYBks)</td>\n",
       "    </tr>\n",
       "    <tr>\n",
       "      <th>37</th>\n",
       "      <td>0.1085</td>\n",
       "      <td>(GeogBks, CookBks, DoItYBks)</td>\n",
       "    </tr>\n",
       "    <tr>\n",
       "      <th>8</th>\n",
       "      <td>0.1085</td>\n",
       "      <td>(Florence)</td>\n",
       "    </tr>\n",
       "    <tr>\n",
       "      <th>27</th>\n",
       "      <td>0.1105</td>\n",
       "      <td>(GeogBks, RefBks)</td>\n",
       "    </tr>\n",
       "    <tr>\n",
       "      <th>7</th>\n",
       "      <td>0.1135</td>\n",
       "      <td>(ItalCook)</td>\n",
       "    </tr>\n",
       "    <tr>\n",
       "      <th>23</th>\n",
       "      <td>0.1135</td>\n",
       "      <td>(ItalCook, CookBks)</td>\n",
       "    </tr>\n",
       "    <tr>\n",
       "      <th>16</th>\n",
       "      <td>0.1155</td>\n",
       "      <td>(YouthBks, DoItYBks)</td>\n",
       "    </tr>\n",
       "    <tr>\n",
       "      <th>18</th>\n",
       "      <td>0.1205</td>\n",
       "      <td>(YouthBks, GeogBks)</td>\n",
       "    </tr>\n",
       "    <tr>\n",
       "      <th>31</th>\n",
       "      <td>0.1225</td>\n",
       "      <td>(ChildBks, RefBks, CookBks)</td>\n",
       "    </tr>\n",
       "    <tr>\n",
       "      <th>25</th>\n",
       "      <td>0.1235</td>\n",
       "      <td>(ArtBks, DoItYBks)</td>\n",
       "    </tr>\n",
       "    <tr>\n",
       "      <th>32</th>\n",
       "      <td>0.1265</td>\n",
       "      <td>(ChildBks, ArtBks, CookBks)</td>\n",
       "    </tr>\n",
       "    <tr>\n",
       "      <th>28</th>\n",
       "      <td>0.1275</td>\n",
       "      <td>(GeogBks, ArtBks)</td>\n",
       "    </tr>\n",
       "    <tr>\n",
       "      <th>29</th>\n",
       "      <td>0.1290</td>\n",
       "      <td>(ChildBks, YouthBks, CookBks)</td>\n",
       "    </tr>\n",
       "    <tr>\n",
       "      <th>26</th>\n",
       "      <td>0.1325</td>\n",
       "      <td>(GeogBks, DoItYBks)</td>\n",
       "    </tr>\n",
       "    <tr>\n",
       "      <th>30</th>\n",
       "      <td>0.1460</td>\n",
       "      <td>(ChildBks, CookBks, DoItYBks)</td>\n",
       "    </tr>\n",
       "    <tr>\n",
       "      <th>33</th>\n",
       "      <td>0.1495</td>\n",
       "      <td>(ChildBks, GeogBks, CookBks)</td>\n",
       "    </tr>\n",
       "    <tr>\n",
       "      <th>12</th>\n",
       "      <td>0.1515</td>\n",
       "      <td>(ChildBks, RefBks)</td>\n",
       "    </tr>\n",
       "    <tr>\n",
       "      <th>20</th>\n",
       "      <td>0.1525</td>\n",
       "      <td>(RefBks, CookBks)</td>\n",
       "    </tr>\n",
       "    <tr>\n",
       "      <th>15</th>\n",
       "      <td>0.1620</td>\n",
       "      <td>(YouthBks, CookBks)</td>\n",
       "    </tr>\n",
       "    <tr>\n",
       "      <th>13</th>\n",
       "      <td>0.1625</td>\n",
       "      <td>(ChildBks, ArtBks)</td>\n",
       "    </tr>\n",
       "    <tr>\n",
       "      <th>9</th>\n",
       "      <td>0.1650</td>\n",
       "      <td>(ChildBks, YouthBks)</td>\n",
       "    </tr>\n",
       "    <tr>\n",
       "      <th>21</th>\n",
       "      <td>0.1670</td>\n",
       "      <td>(ArtBks, CookBks)</td>\n",
       "    </tr>\n",
       "    <tr>\n",
       "      <th>11</th>\n",
       "      <td>0.1840</td>\n",
       "      <td>(ChildBks, DoItYBks)</td>\n",
       "    </tr>\n",
       "    <tr>\n",
       "      <th>19</th>\n",
       "      <td>0.1875</td>\n",
       "      <td>(CookBks, DoItYBks)</td>\n",
       "    </tr>\n",
       "    <tr>\n",
       "      <th>22</th>\n",
       "      <td>0.1925</td>\n",
       "      <td>(GeogBks, CookBks)</td>\n",
       "    </tr>\n",
       "    <tr>\n",
       "      <th>14</th>\n",
       "      <td>0.1950</td>\n",
       "      <td>(ChildBks, GeogBks)</td>\n",
       "    </tr>\n",
       "    <tr>\n",
       "      <th>4</th>\n",
       "      <td>0.2145</td>\n",
       "      <td>(RefBks)</td>\n",
       "    </tr>\n",
       "    <tr>\n",
       "      <th>5</th>\n",
       "      <td>0.2410</td>\n",
       "      <td>(ArtBks)</td>\n",
       "    </tr>\n",
       "    <tr>\n",
       "      <th>1</th>\n",
       "      <td>0.2475</td>\n",
       "      <td>(YouthBks)</td>\n",
       "    </tr>\n",
       "    <tr>\n",
       "      <th>10</th>\n",
       "      <td>0.2560</td>\n",
       "      <td>(ChildBks, CookBks)</td>\n",
       "    </tr>\n",
       "    <tr>\n",
       "      <th>6</th>\n",
       "      <td>0.2760</td>\n",
       "      <td>(GeogBks)</td>\n",
       "    </tr>\n",
       "    <tr>\n",
       "      <th>3</th>\n",
       "      <td>0.2820</td>\n",
       "      <td>(DoItYBks)</td>\n",
       "    </tr>\n",
       "    <tr>\n",
       "      <th>0</th>\n",
       "      <td>0.4230</td>\n",
       "      <td>(ChildBks)</td>\n",
       "    </tr>\n",
       "    <tr>\n",
       "      <th>2</th>\n",
       "      <td>0.4310</td>\n",
       "      <td>(CookBks)</td>\n",
       "    </tr>\n",
       "  </tbody>\n",
       "</table>\n",
       "</div>"
      ],
      "text/plain": [
       "    support                       itemsets\n",
       "17   0.1010             (YouthBks, ArtBks)\n",
       "36   0.1015    (ArtBks, CookBks, DoItYBks)\n",
       "35   0.1020    (ChildBks, GeogBks, ArtBks)\n",
       "38   0.1035     (GeogBks, ArtBks, CookBks)\n",
       "34   0.1045  (ChildBks, GeogBks, DoItYBks)\n",
       "24   0.1055             (RefBks, DoItYBks)\n",
       "37   0.1085   (GeogBks, CookBks, DoItYBks)\n",
       "8    0.1085                     (Florence)\n",
       "27   0.1105              (GeogBks, RefBks)\n",
       "7    0.1135                     (ItalCook)\n",
       "23   0.1135            (ItalCook, CookBks)\n",
       "16   0.1155           (YouthBks, DoItYBks)\n",
       "18   0.1205            (YouthBks, GeogBks)\n",
       "31   0.1225    (ChildBks, RefBks, CookBks)\n",
       "25   0.1235             (ArtBks, DoItYBks)\n",
       "32   0.1265    (ChildBks, ArtBks, CookBks)\n",
       "28   0.1275              (GeogBks, ArtBks)\n",
       "29   0.1290  (ChildBks, YouthBks, CookBks)\n",
       "26   0.1325            (GeogBks, DoItYBks)\n",
       "30   0.1460  (ChildBks, CookBks, DoItYBks)\n",
       "33   0.1495   (ChildBks, GeogBks, CookBks)\n",
       "12   0.1515             (ChildBks, RefBks)\n",
       "20   0.1525              (RefBks, CookBks)\n",
       "15   0.1620            (YouthBks, CookBks)\n",
       "13   0.1625             (ChildBks, ArtBks)\n",
       "9    0.1650           (ChildBks, YouthBks)\n",
       "21   0.1670              (ArtBks, CookBks)\n",
       "11   0.1840           (ChildBks, DoItYBks)\n",
       "19   0.1875            (CookBks, DoItYBks)\n",
       "22   0.1925             (GeogBks, CookBks)\n",
       "14   0.1950            (ChildBks, GeogBks)\n",
       "4    0.2145                       (RefBks)\n",
       "5    0.2410                       (ArtBks)\n",
       "1    0.2475                     (YouthBks)\n",
       "10   0.2560            (ChildBks, CookBks)\n",
       "6    0.2760                      (GeogBks)\n",
       "3    0.2820                     (DoItYBks)\n",
       "0    0.4230                     (ChildBks)\n",
       "2    0.4310                      (CookBks)"
      ]
     },
     "execution_count": 10,
     "metadata": {},
     "output_type": "execute_result"
    }
   ],
   "source": [
    "freqnt_item.sort_values(\"support\", ascending = True)"
   ]
  },
  {
   "cell_type": "code",
   "execution_count": 11,
   "id": "ea5ab4af",
   "metadata": {},
   "outputs": [
    {
     "data": {
      "text/html": [
       "<div>\n",
       "<style scoped>\n",
       "    .dataframe tbody tr th:only-of-type {\n",
       "        vertical-align: middle;\n",
       "    }\n",
       "\n",
       "    .dataframe tbody tr th {\n",
       "        vertical-align: top;\n",
       "    }\n",
       "\n",
       "    .dataframe thead th {\n",
       "        text-align: right;\n",
       "    }\n",
       "</style>\n",
       "<table border=\"1\" class=\"dataframe\">\n",
       "  <thead>\n",
       "    <tr style=\"text-align: right;\">\n",
       "      <th></th>\n",
       "      <th>antecedents</th>\n",
       "      <th>consequents</th>\n",
       "      <th>antecedent support</th>\n",
       "      <th>consequent support</th>\n",
       "      <th>support</th>\n",
       "      <th>confidence</th>\n",
       "      <th>lift</th>\n",
       "      <th>leverage</th>\n",
       "      <th>conviction</th>\n",
       "    </tr>\n",
       "  </thead>\n",
       "  <tbody>\n",
       "    <tr>\n",
       "      <th>0</th>\n",
       "      <td>(YouthBks)</td>\n",
       "      <td>(ChildBks)</td>\n",
       "      <td>0.2475</td>\n",
       "      <td>0.4230</td>\n",
       "      <td>0.1650</td>\n",
       "      <td>0.666667</td>\n",
       "      <td>1.576044</td>\n",
       "      <td>0.060308</td>\n",
       "      <td>1.731000</td>\n",
       "    </tr>\n",
       "    <tr>\n",
       "      <th>1</th>\n",
       "      <td>(ChildBks)</td>\n",
       "      <td>(CookBks)</td>\n",
       "      <td>0.4230</td>\n",
       "      <td>0.4310</td>\n",
       "      <td>0.2560</td>\n",
       "      <td>0.605201</td>\n",
       "      <td>1.404179</td>\n",
       "      <td>0.073687</td>\n",
       "      <td>1.441240</td>\n",
       "    </tr>\n",
       "    <tr>\n",
       "      <th>2</th>\n",
       "      <td>(CookBks)</td>\n",
       "      <td>(ChildBks)</td>\n",
       "      <td>0.4310</td>\n",
       "      <td>0.4230</td>\n",
       "      <td>0.2560</td>\n",
       "      <td>0.593968</td>\n",
       "      <td>1.404179</td>\n",
       "      <td>0.073687</td>\n",
       "      <td>1.421069</td>\n",
       "    </tr>\n",
       "    <tr>\n",
       "      <th>3</th>\n",
       "      <td>(ChildBks)</td>\n",
       "      <td>(DoItYBks)</td>\n",
       "      <td>0.4230</td>\n",
       "      <td>0.2820</td>\n",
       "      <td>0.1840</td>\n",
       "      <td>0.434988</td>\n",
       "      <td>1.542511</td>\n",
       "      <td>0.064714</td>\n",
       "      <td>1.270770</td>\n",
       "    </tr>\n",
       "    <tr>\n",
       "      <th>4</th>\n",
       "      <td>(DoItYBks)</td>\n",
       "      <td>(ChildBks)</td>\n",
       "      <td>0.2820</td>\n",
       "      <td>0.4230</td>\n",
       "      <td>0.1840</td>\n",
       "      <td>0.652482</td>\n",
       "      <td>1.542511</td>\n",
       "      <td>0.064714</td>\n",
       "      <td>1.660347</td>\n",
       "    </tr>\n",
       "    <tr>\n",
       "      <th>...</th>\n",
       "      <td>...</td>\n",
       "      <td>...</td>\n",
       "      <td>...</td>\n",
       "      <td>...</td>\n",
       "      <td>...</td>\n",
       "      <td>...</td>\n",
       "      <td>...</td>\n",
       "      <td>...</td>\n",
       "      <td>...</td>\n",
       "    </tr>\n",
       "    <tr>\n",
       "      <th>65</th>\n",
       "      <td>(CookBks, DoItYBks)</td>\n",
       "      <td>(GeogBks)</td>\n",
       "      <td>0.1875</td>\n",
       "      <td>0.2760</td>\n",
       "      <td>0.1085</td>\n",
       "      <td>0.578667</td>\n",
       "      <td>2.096618</td>\n",
       "      <td>0.056750</td>\n",
       "      <td>1.718354</td>\n",
       "    </tr>\n",
       "    <tr>\n",
       "      <th>66</th>\n",
       "      <td>(GeogBks, ArtBks)</td>\n",
       "      <td>(CookBks)</td>\n",
       "      <td>0.1275</td>\n",
       "      <td>0.4310</td>\n",
       "      <td>0.1035</td>\n",
       "      <td>0.811765</td>\n",
       "      <td>1.883445</td>\n",
       "      <td>0.048547</td>\n",
       "      <td>3.022812</td>\n",
       "    </tr>\n",
       "    <tr>\n",
       "      <th>67</th>\n",
       "      <td>(GeogBks, CookBks)</td>\n",
       "      <td>(ArtBks)</td>\n",
       "      <td>0.1925</td>\n",
       "      <td>0.2410</td>\n",
       "      <td>0.1035</td>\n",
       "      <td>0.537662</td>\n",
       "      <td>2.230964</td>\n",
       "      <td>0.057107</td>\n",
       "      <td>1.641657</td>\n",
       "    </tr>\n",
       "    <tr>\n",
       "      <th>68</th>\n",
       "      <td>(ArtBks, CookBks)</td>\n",
       "      <td>(GeogBks)</td>\n",
       "      <td>0.1670</td>\n",
       "      <td>0.2760</td>\n",
       "      <td>0.1035</td>\n",
       "      <td>0.619760</td>\n",
       "      <td>2.245509</td>\n",
       "      <td>0.057408</td>\n",
       "      <td>1.904063</td>\n",
       "    </tr>\n",
       "    <tr>\n",
       "      <th>69</th>\n",
       "      <td>(ArtBks)</td>\n",
       "      <td>(GeogBks, CookBks)</td>\n",
       "      <td>0.2410</td>\n",
       "      <td>0.1925</td>\n",
       "      <td>0.1035</td>\n",
       "      <td>0.429461</td>\n",
       "      <td>2.230964</td>\n",
       "      <td>0.057107</td>\n",
       "      <td>1.415327</td>\n",
       "    </tr>\n",
       "  </tbody>\n",
       "</table>\n",
       "<p>70 rows × 9 columns</p>\n",
       "</div>"
      ],
      "text/plain": [
       "            antecedents         consequents  antecedent support  \\\n",
       "0            (YouthBks)          (ChildBks)              0.2475   \n",
       "1            (ChildBks)           (CookBks)              0.4230   \n",
       "2             (CookBks)          (ChildBks)              0.4310   \n",
       "3            (ChildBks)          (DoItYBks)              0.4230   \n",
       "4            (DoItYBks)          (ChildBks)              0.2820   \n",
       "..                  ...                 ...                 ...   \n",
       "65  (CookBks, DoItYBks)           (GeogBks)              0.1875   \n",
       "66    (GeogBks, ArtBks)           (CookBks)              0.1275   \n",
       "67   (GeogBks, CookBks)            (ArtBks)              0.1925   \n",
       "68    (ArtBks, CookBks)           (GeogBks)              0.1670   \n",
       "69             (ArtBks)  (GeogBks, CookBks)              0.2410   \n",
       "\n",
       "    consequent support  support  confidence      lift  leverage  conviction  \n",
       "0               0.4230   0.1650    0.666667  1.576044  0.060308    1.731000  \n",
       "1               0.4310   0.2560    0.605201  1.404179  0.073687    1.441240  \n",
       "2               0.4230   0.2560    0.593968  1.404179  0.073687    1.421069  \n",
       "3               0.2820   0.1840    0.434988  1.542511  0.064714    1.270770  \n",
       "4               0.4230   0.1840    0.652482  1.542511  0.064714    1.660347  \n",
       "..                 ...      ...         ...       ...       ...         ...  \n",
       "65              0.2760   0.1085    0.578667  2.096618  0.056750    1.718354  \n",
       "66              0.4310   0.1035    0.811765  1.883445  0.048547    3.022812  \n",
       "67              0.2410   0.1035    0.537662  2.230964  0.057107    1.641657  \n",
       "68              0.2760   0.1035    0.619760  2.245509  0.057408    1.904063  \n",
       "69              0.1925   0.1035    0.429461  2.230964  0.057107    1.415327  \n",
       "\n",
       "[70 rows x 9 columns]"
      ]
     },
     "execution_count": 11,
     "metadata": {},
     "output_type": "execute_result"
    }
   ],
   "source": [
    "acc_rule= association_rules(freqnt_item, metric=\"confidence\", min_threshold=0.4)\n",
    "acc_rule"
   ]
  },
  {
   "cell_type": "code",
   "execution_count": 12,
   "id": "cb4b98b5",
   "metadata": {},
   "outputs": [
    {
     "data": {
      "text/plain": [
       "0     0.666667\n",
       "1     0.605201\n",
       "2     0.593968\n",
       "3     0.434988\n",
       "4     0.652482\n",
       "        ...   \n",
       "65    0.578667\n",
       "66    0.811765\n",
       "67    0.537662\n",
       "68    0.619760\n",
       "69    0.429461\n",
       "Name: confidence, Length: 70, dtype: float64"
      ]
     },
     "execution_count": 12,
     "metadata": {},
     "output_type": "execute_result"
    }
   ],
   "source": [
    "acc_rule['confidence']"
   ]
  },
  {
   "cell_type": "code",
   "execution_count": 13,
   "id": "177e166d",
   "metadata": {},
   "outputs": [
    {
     "data": {
      "text/plain": [
       "0     0.1650\n",
       "1     0.2560\n",
       "2     0.2560\n",
       "3     0.1840\n",
       "4     0.1840\n",
       "       ...  \n",
       "65    0.1085\n",
       "66    0.1035\n",
       "67    0.1035\n",
       "68    0.1035\n",
       "69    0.1035\n",
       "Name: support, Length: 70, dtype: float64"
      ]
     },
     "execution_count": 13,
     "metadata": {},
     "output_type": "execute_result"
    }
   ],
   "source": [
    "acc_rule['support']"
   ]
  },
  {
   "cell_type": "code",
   "execution_count": 14,
   "id": "21a46320",
   "metadata": {},
   "outputs": [
    {
     "data": {
      "text/plain": [
       "0     1.576044\n",
       "1     1.404179\n",
       "2     1.404179\n",
       "3     1.542511\n",
       "4     1.542511\n",
       "        ...   \n",
       "65    2.096618\n",
       "66    1.883445\n",
       "67    2.230964\n",
       "68    2.245509\n",
       "69    2.230964\n",
       "Name: lift, Length: 70, dtype: float64"
      ]
     },
     "execution_count": 14,
     "metadata": {},
     "output_type": "execute_result"
    }
   ],
   "source": [
    "acc_rule['lift']"
   ]
  },
  {
   "cell_type": "code",
   "execution_count": 15,
   "id": "141d9f40",
   "metadata": {},
   "outputs": [
    {
     "data": {
      "text/plain": [
       "0     0.060308\n",
       "1     0.073687\n",
       "2     0.073687\n",
       "3     0.064714\n",
       "4     0.064714\n",
       "        ...   \n",
       "65    0.056750\n",
       "66    0.048547\n",
       "67    0.057107\n",
       "68    0.057408\n",
       "69    0.057107\n",
       "Name: leverage, Length: 70, dtype: float64"
      ]
     },
     "execution_count": 15,
     "metadata": {},
     "output_type": "execute_result"
    }
   ],
   "source": [
    "acc_rule['leverage']"
   ]
  },
  {
   "cell_type": "markdown",
   "id": "630b6d79",
   "metadata": {},
   "source": [
    "## sorting values for different support and confidence level"
   ]
  },
  {
   "cell_type": "code",
   "execution_count": 16,
   "id": "6057c46c",
   "metadata": {
    "scrolled": true
   },
   "outputs": [
    {
     "data": {
      "text/html": [
       "<div>\n",
       "<style scoped>\n",
       "    .dataframe tbody tr th:only-of-type {\n",
       "        vertical-align: middle;\n",
       "    }\n",
       "\n",
       "    .dataframe tbody tr th {\n",
       "        vertical-align: top;\n",
       "    }\n",
       "\n",
       "    .dataframe thead th {\n",
       "        text-align: right;\n",
       "    }\n",
       "</style>\n",
       "<table border=\"1\" class=\"dataframe\">\n",
       "  <thead>\n",
       "    <tr style=\"text-align: right;\">\n",
       "      <th></th>\n",
       "      <th>antecedents</th>\n",
       "      <th>consequents</th>\n",
       "      <th>antecedent support</th>\n",
       "      <th>consequent support</th>\n",
       "      <th>support</th>\n",
       "      <th>confidence</th>\n",
       "      <th>lift</th>\n",
       "      <th>leverage</th>\n",
       "      <th>conviction</th>\n",
       "    </tr>\n",
       "  </thead>\n",
       "  <tbody>\n",
       "    <tr>\n",
       "      <th>18</th>\n",
       "      <td>(RefBks)</td>\n",
       "      <td>(CookBks)</td>\n",
       "      <td>0.2145</td>\n",
       "      <td>0.431</td>\n",
       "      <td>0.1525</td>\n",
       "      <td>0.710956</td>\n",
       "      <td>1.649549</td>\n",
       "      <td>0.060050</td>\n",
       "      <td>1.968556</td>\n",
       "    </tr>\n",
       "    <tr>\n",
       "      <th>8</th>\n",
       "      <td>(GeogBks)</td>\n",
       "      <td>(ChildBks)</td>\n",
       "      <td>0.2760</td>\n",
       "      <td>0.423</td>\n",
       "      <td>0.1950</td>\n",
       "      <td>0.706522</td>\n",
       "      <td>1.670264</td>\n",
       "      <td>0.078252</td>\n",
       "      <td>1.966074</td>\n",
       "    </tr>\n",
       "    <tr>\n",
       "      <th>5</th>\n",
       "      <td>(RefBks)</td>\n",
       "      <td>(ChildBks)</td>\n",
       "      <td>0.2145</td>\n",
       "      <td>0.423</td>\n",
       "      <td>0.1515</td>\n",
       "      <td>0.706294</td>\n",
       "      <td>1.669725</td>\n",
       "      <td>0.060767</td>\n",
       "      <td>1.964548</td>\n",
       "    </tr>\n",
       "    <tr>\n",
       "      <th>20</th>\n",
       "      <td>(GeogBks)</td>\n",
       "      <td>(CookBks)</td>\n",
       "      <td>0.2760</td>\n",
       "      <td>0.431</td>\n",
       "      <td>0.1925</td>\n",
       "      <td>0.697464</td>\n",
       "      <td>1.618245</td>\n",
       "      <td>0.073544</td>\n",
       "      <td>1.880766</td>\n",
       "    </tr>\n",
       "    <tr>\n",
       "      <th>19</th>\n",
       "      <td>(ArtBks)</td>\n",
       "      <td>(CookBks)</td>\n",
       "      <td>0.2410</td>\n",
       "      <td>0.431</td>\n",
       "      <td>0.1670</td>\n",
       "      <td>0.692946</td>\n",
       "      <td>1.607763</td>\n",
       "      <td>0.063129</td>\n",
       "      <td>1.853095</td>\n",
       "    </tr>\n",
       "    <tr>\n",
       "      <th>6</th>\n",
       "      <td>(ArtBks)</td>\n",
       "      <td>(ChildBks)</td>\n",
       "      <td>0.2410</td>\n",
       "      <td>0.423</td>\n",
       "      <td>0.1625</td>\n",
       "      <td>0.674274</td>\n",
       "      <td>1.594028</td>\n",
       "      <td>0.060557</td>\n",
       "      <td>1.771427</td>\n",
       "    </tr>\n",
       "    <tr>\n",
       "      <th>0</th>\n",
       "      <td>(YouthBks)</td>\n",
       "      <td>(ChildBks)</td>\n",
       "      <td>0.2475</td>\n",
       "      <td>0.423</td>\n",
       "      <td>0.1650</td>\n",
       "      <td>0.666667</td>\n",
       "      <td>1.576044</td>\n",
       "      <td>0.060308</td>\n",
       "      <td>1.731000</td>\n",
       "    </tr>\n",
       "    <tr>\n",
       "      <th>17</th>\n",
       "      <td>(DoItYBks)</td>\n",
       "      <td>(CookBks)</td>\n",
       "      <td>0.2820</td>\n",
       "      <td>0.431</td>\n",
       "      <td>0.1875</td>\n",
       "      <td>0.664894</td>\n",
       "      <td>1.542677</td>\n",
       "      <td>0.065958</td>\n",
       "      <td>1.697968</td>\n",
       "    </tr>\n",
       "    <tr>\n",
       "      <th>9</th>\n",
       "      <td>(YouthBks)</td>\n",
       "      <td>(CookBks)</td>\n",
       "      <td>0.2475</td>\n",
       "      <td>0.431</td>\n",
       "      <td>0.1620</td>\n",
       "      <td>0.654545</td>\n",
       "      <td>1.518667</td>\n",
       "      <td>0.055328</td>\n",
       "      <td>1.647105</td>\n",
       "    </tr>\n",
       "    <tr>\n",
       "      <th>4</th>\n",
       "      <td>(DoItYBks)</td>\n",
       "      <td>(ChildBks)</td>\n",
       "      <td>0.2820</td>\n",
       "      <td>0.423</td>\n",
       "      <td>0.1840</td>\n",
       "      <td>0.652482</td>\n",
       "      <td>1.542511</td>\n",
       "      <td>0.064714</td>\n",
       "      <td>1.660347</td>\n",
       "    </tr>\n",
       "    <tr>\n",
       "      <th>1</th>\n",
       "      <td>(ChildBks)</td>\n",
       "      <td>(CookBks)</td>\n",
       "      <td>0.4230</td>\n",
       "      <td>0.431</td>\n",
       "      <td>0.2560</td>\n",
       "      <td>0.605201</td>\n",
       "      <td>1.404179</td>\n",
       "      <td>0.073687</td>\n",
       "      <td>1.441240</td>\n",
       "    </tr>\n",
       "    <tr>\n",
       "      <th>2</th>\n",
       "      <td>(CookBks)</td>\n",
       "      <td>(ChildBks)</td>\n",
       "      <td>0.4310</td>\n",
       "      <td>0.423</td>\n",
       "      <td>0.2560</td>\n",
       "      <td>0.593968</td>\n",
       "      <td>1.404179</td>\n",
       "      <td>0.073687</td>\n",
       "      <td>1.421069</td>\n",
       "    </tr>\n",
       "    <tr>\n",
       "      <th>7</th>\n",
       "      <td>(ChildBks)</td>\n",
       "      <td>(GeogBks)</td>\n",
       "      <td>0.4230</td>\n",
       "      <td>0.276</td>\n",
       "      <td>0.1950</td>\n",
       "      <td>0.460993</td>\n",
       "      <td>1.670264</td>\n",
       "      <td>0.078252</td>\n",
       "      <td>1.343211</td>\n",
       "    </tr>\n",
       "    <tr>\n",
       "      <th>21</th>\n",
       "      <td>(CookBks)</td>\n",
       "      <td>(GeogBks)</td>\n",
       "      <td>0.4310</td>\n",
       "      <td>0.276</td>\n",
       "      <td>0.1925</td>\n",
       "      <td>0.446636</td>\n",
       "      <td>1.618245</td>\n",
       "      <td>0.073544</td>\n",
       "      <td>1.308361</td>\n",
       "    </tr>\n",
       "    <tr>\n",
       "      <th>16</th>\n",
       "      <td>(CookBks)</td>\n",
       "      <td>(DoItYBks)</td>\n",
       "      <td>0.4310</td>\n",
       "      <td>0.282</td>\n",
       "      <td>0.1875</td>\n",
       "      <td>0.435035</td>\n",
       "      <td>1.542677</td>\n",
       "      <td>0.065958</td>\n",
       "      <td>1.270875</td>\n",
       "    </tr>\n",
       "    <tr>\n",
       "      <th>3</th>\n",
       "      <td>(ChildBks)</td>\n",
       "      <td>(DoItYBks)</td>\n",
       "      <td>0.4230</td>\n",
       "      <td>0.282</td>\n",
       "      <td>0.1840</td>\n",
       "      <td>0.434988</td>\n",
       "      <td>1.542511</td>\n",
       "      <td>0.064714</td>\n",
       "      <td>1.270770</td>\n",
       "    </tr>\n",
       "  </tbody>\n",
       "</table>\n",
       "</div>"
      ],
      "text/plain": [
       "   antecedents consequents  antecedent support  consequent support  support  \\\n",
       "18    (RefBks)   (CookBks)              0.2145               0.431   0.1525   \n",
       "8    (GeogBks)  (ChildBks)              0.2760               0.423   0.1950   \n",
       "5     (RefBks)  (ChildBks)              0.2145               0.423   0.1515   \n",
       "20   (GeogBks)   (CookBks)              0.2760               0.431   0.1925   \n",
       "19    (ArtBks)   (CookBks)              0.2410               0.431   0.1670   \n",
       "6     (ArtBks)  (ChildBks)              0.2410               0.423   0.1625   \n",
       "0   (YouthBks)  (ChildBks)              0.2475               0.423   0.1650   \n",
       "17  (DoItYBks)   (CookBks)              0.2820               0.431   0.1875   \n",
       "9   (YouthBks)   (CookBks)              0.2475               0.431   0.1620   \n",
       "4   (DoItYBks)  (ChildBks)              0.2820               0.423   0.1840   \n",
       "1   (ChildBks)   (CookBks)              0.4230               0.431   0.2560   \n",
       "2    (CookBks)  (ChildBks)              0.4310               0.423   0.2560   \n",
       "7   (ChildBks)   (GeogBks)              0.4230               0.276   0.1950   \n",
       "21   (CookBks)   (GeogBks)              0.4310               0.276   0.1925   \n",
       "16   (CookBks)  (DoItYBks)              0.4310               0.282   0.1875   \n",
       "3   (ChildBks)  (DoItYBks)              0.4230               0.282   0.1840   \n",
       "\n",
       "    confidence      lift  leverage  conviction  \n",
       "18    0.710956  1.649549  0.060050    1.968556  \n",
       "8     0.706522  1.670264  0.078252    1.966074  \n",
       "5     0.706294  1.669725  0.060767    1.964548  \n",
       "20    0.697464  1.618245  0.073544    1.880766  \n",
       "19    0.692946  1.607763  0.063129    1.853095  \n",
       "6     0.674274  1.594028  0.060557    1.771427  \n",
       "0     0.666667  1.576044  0.060308    1.731000  \n",
       "17    0.664894  1.542677  0.065958    1.697968  \n",
       "9     0.654545  1.518667  0.055328    1.647105  \n",
       "4     0.652482  1.542511  0.064714    1.660347  \n",
       "1     0.605201  1.404179  0.073687    1.441240  \n",
       "2     0.593968  1.404179  0.073687    1.421069  \n",
       "7     0.460993  1.670264  0.078252    1.343211  \n",
       "21    0.446636  1.618245  0.073544    1.308361  \n",
       "16    0.435035  1.542677  0.065958    1.270875  \n",
       "3     0.434988  1.542511  0.064714    1.270770  "
      ]
     },
     "execution_count": 16,
     "metadata": {},
     "output_type": "execute_result"
    }
   ],
   "source": [
    "trail1=pd.DataFrame=acc_rule[(acc_rule.support > 0.15) & (acc_rule.confidence > 0.4)].sort_values(\"confidence\", ascending = False)\n",
    "trail1"
   ]
  },
  {
   "cell_type": "code",
   "execution_count": 17,
   "id": "4964f496",
   "metadata": {},
   "outputs": [
    {
     "data": {
      "text/html": [
       "<div>\n",
       "<style scoped>\n",
       "    .dataframe tbody tr th:only-of-type {\n",
       "        vertical-align: middle;\n",
       "    }\n",
       "\n",
       "    .dataframe tbody tr th {\n",
       "        vertical-align: top;\n",
       "    }\n",
       "\n",
       "    .dataframe thead th {\n",
       "        text-align: right;\n",
       "    }\n",
       "</style>\n",
       "<table border=\"1\" class=\"dataframe\">\n",
       "  <thead>\n",
       "    <tr style=\"text-align: right;\">\n",
       "      <th></th>\n",
       "      <th>antecedents</th>\n",
       "      <th>consequents</th>\n",
       "      <th>antecedent support</th>\n",
       "      <th>consequent support</th>\n",
       "      <th>support</th>\n",
       "      <th>confidence</th>\n",
       "      <th>lift</th>\n",
       "      <th>leverage</th>\n",
       "      <th>conviction</th>\n",
       "    </tr>\n",
       "  </thead>\n",
       "  <tbody>\n",
       "    <tr>\n",
       "      <th>1</th>\n",
       "      <td>(ChildBks)</td>\n",
       "      <td>(CookBks)</td>\n",
       "      <td>0.423</td>\n",
       "      <td>0.431</td>\n",
       "      <td>0.256</td>\n",
       "      <td>0.605201</td>\n",
       "      <td>1.404179</td>\n",
       "      <td>0.073687</td>\n",
       "      <td>1.441240</td>\n",
       "    </tr>\n",
       "    <tr>\n",
       "      <th>2</th>\n",
       "      <td>(CookBks)</td>\n",
       "      <td>(ChildBks)</td>\n",
       "      <td>0.431</td>\n",
       "      <td>0.423</td>\n",
       "      <td>0.256</td>\n",
       "      <td>0.593968</td>\n",
       "      <td>1.404179</td>\n",
       "      <td>0.073687</td>\n",
       "      <td>1.421069</td>\n",
       "    </tr>\n",
       "  </tbody>\n",
       "</table>\n",
       "</div>"
      ],
      "text/plain": [
       "  antecedents consequents  antecedent support  consequent support  support  \\\n",
       "1  (ChildBks)   (CookBks)               0.423               0.431    0.256   \n",
       "2   (CookBks)  (ChildBks)               0.431               0.423    0.256   \n",
       "\n",
       "   confidence      lift  leverage  conviction  \n",
       "1    0.605201  1.404179  0.073687    1.441240  \n",
       "2    0.593968  1.404179  0.073687    1.421069  "
      ]
     },
     "execution_count": 17,
     "metadata": {},
     "output_type": "execute_result"
    }
   ],
   "source": [
    "trail1=pd.DataFrame=acc_rule[(acc_rule.support > 0.20) & (acc_rule.confidence > 0.4)].sort_values(\"confidence\", ascending = False)\n",
    "trail1"
   ]
  },
  {
   "cell_type": "code",
   "execution_count": 18,
   "id": "4399ffdf",
   "metadata": {},
   "outputs": [
    {
     "data": {
      "text/html": [
       "<div>\n",
       "<style scoped>\n",
       "    .dataframe tbody tr th:only-of-type {\n",
       "        vertical-align: middle;\n",
       "    }\n",
       "\n",
       "    .dataframe tbody tr th {\n",
       "        vertical-align: top;\n",
       "    }\n",
       "\n",
       "    .dataframe thead th {\n",
       "        text-align: right;\n",
       "    }\n",
       "</style>\n",
       "<table border=\"1\" class=\"dataframe\">\n",
       "  <thead>\n",
       "    <tr style=\"text-align: right;\">\n",
       "      <th></th>\n",
       "      <th>antecedents</th>\n",
       "      <th>consequents</th>\n",
       "      <th>antecedent support</th>\n",
       "      <th>consequent support</th>\n",
       "      <th>support</th>\n",
       "      <th>confidence</th>\n",
       "      <th>lift</th>\n",
       "      <th>leverage</th>\n",
       "      <th>conviction</th>\n",
       "    </tr>\n",
       "  </thead>\n",
       "  <tbody>\n",
       "    <tr>\n",
       "      <th>22</th>\n",
       "      <td>(ItalCook)</td>\n",
       "      <td>(CookBks)</td>\n",
       "      <td>0.1135</td>\n",
       "      <td>0.4310</td>\n",
       "      <td>0.1135</td>\n",
       "      <td>1.000000</td>\n",
       "      <td>2.320186</td>\n",
       "      <td>0.064582</td>\n",
       "      <td>inf</td>\n",
       "    </tr>\n",
       "    <tr>\n",
       "      <th>60</th>\n",
       "      <td>(ArtBks, DoItYBks)</td>\n",
       "      <td>(CookBks)</td>\n",
       "      <td>0.1235</td>\n",
       "      <td>0.4310</td>\n",
       "      <td>0.1015</td>\n",
       "      <td>0.821862</td>\n",
       "      <td>1.906873</td>\n",
       "      <td>0.048272</td>\n",
       "      <td>3.194159</td>\n",
       "    </tr>\n",
       "    <tr>\n",
       "      <th>64</th>\n",
       "      <td>(GeogBks, DoItYBks)</td>\n",
       "      <td>(CookBks)</td>\n",
       "      <td>0.1325</td>\n",
       "      <td>0.4310</td>\n",
       "      <td>0.1085</td>\n",
       "      <td>0.818868</td>\n",
       "      <td>1.899926</td>\n",
       "      <td>0.051392</td>\n",
       "      <td>3.141354</td>\n",
       "    </tr>\n",
       "    <tr>\n",
       "      <th>66</th>\n",
       "      <td>(GeogBks, ArtBks)</td>\n",
       "      <td>(CookBks)</td>\n",
       "      <td>0.1275</td>\n",
       "      <td>0.4310</td>\n",
       "      <td>0.1035</td>\n",
       "      <td>0.811765</td>\n",
       "      <td>1.883445</td>\n",
       "      <td>0.048547</td>\n",
       "      <td>3.022812</td>\n",
       "    </tr>\n",
       "    <tr>\n",
       "      <th>40</th>\n",
       "      <td>(ChildBks, RefBks)</td>\n",
       "      <td>(CookBks)</td>\n",
       "      <td>0.1515</td>\n",
       "      <td>0.4310</td>\n",
       "      <td>0.1225</td>\n",
       "      <td>0.808581</td>\n",
       "      <td>1.876058</td>\n",
       "      <td>0.057204</td>\n",
       "      <td>2.972534</td>\n",
       "    </tr>\n",
       "    <tr>\n",
       "      <th>...</th>\n",
       "      <td>...</td>\n",
       "      <td>...</td>\n",
       "      <td>...</td>\n",
       "      <td>...</td>\n",
       "      <td>...</td>\n",
       "      <td>...</td>\n",
       "      <td>...</td>\n",
       "      <td>...</td>\n",
       "      <td>...</td>\n",
       "    </tr>\n",
       "    <tr>\n",
       "      <th>62</th>\n",
       "      <td>(ArtBks)</td>\n",
       "      <td>(CookBks, DoItYBks)</td>\n",
       "      <td>0.2410</td>\n",
       "      <td>0.1875</td>\n",
       "      <td>0.1015</td>\n",
       "      <td>0.421162</td>\n",
       "      <td>2.246196</td>\n",
       "      <td>0.056313</td>\n",
       "      <td>1.403674</td>\n",
       "    </tr>\n",
       "    <tr>\n",
       "      <th>13</th>\n",
       "      <td>(ArtBks)</td>\n",
       "      <td>(YouthBks)</td>\n",
       "      <td>0.2410</td>\n",
       "      <td>0.2475</td>\n",
       "      <td>0.1010</td>\n",
       "      <td>0.419087</td>\n",
       "      <td>1.693281</td>\n",
       "      <td>0.041353</td>\n",
       "      <td>1.295375</td>\n",
       "    </tr>\n",
       "    <tr>\n",
       "      <th>11</th>\n",
       "      <td>(DoItYBks)</td>\n",
       "      <td>(YouthBks)</td>\n",
       "      <td>0.2820</td>\n",
       "      <td>0.2475</td>\n",
       "      <td>0.1155</td>\n",
       "      <td>0.409574</td>\n",
       "      <td>1.654846</td>\n",
       "      <td>0.045705</td>\n",
       "      <td>1.274505</td>\n",
       "    </tr>\n",
       "    <tr>\n",
       "      <th>12</th>\n",
       "      <td>(YouthBks)</td>\n",
       "      <td>(ArtBks)</td>\n",
       "      <td>0.2475</td>\n",
       "      <td>0.2410</td>\n",
       "      <td>0.1010</td>\n",
       "      <td>0.408081</td>\n",
       "      <td>1.693281</td>\n",
       "      <td>0.041353</td>\n",
       "      <td>1.282270</td>\n",
       "    </tr>\n",
       "    <tr>\n",
       "      <th>28</th>\n",
       "      <td>(GeogBks)</td>\n",
       "      <td>(RefBks)</td>\n",
       "      <td>0.2760</td>\n",
       "      <td>0.2145</td>\n",
       "      <td>0.1105</td>\n",
       "      <td>0.400362</td>\n",
       "      <td>1.866491</td>\n",
       "      <td>0.051298</td>\n",
       "      <td>1.309958</td>\n",
       "    </tr>\n",
       "  </tbody>\n",
       "</table>\n",
       "<p>70 rows × 9 columns</p>\n",
       "</div>"
      ],
      "text/plain": [
       "            antecedents          consequents  antecedent support  \\\n",
       "22           (ItalCook)            (CookBks)              0.1135   \n",
       "60   (ArtBks, DoItYBks)            (CookBks)              0.1235   \n",
       "64  (GeogBks, DoItYBks)            (CookBks)              0.1325   \n",
       "66    (GeogBks, ArtBks)            (CookBks)              0.1275   \n",
       "40   (ChildBks, RefBks)            (CookBks)              0.1515   \n",
       "..                  ...                  ...                 ...   \n",
       "62             (ArtBks)  (CookBks, DoItYBks)              0.2410   \n",
       "13             (ArtBks)           (YouthBks)              0.2410   \n",
       "11           (DoItYBks)           (YouthBks)              0.2820   \n",
       "12           (YouthBks)             (ArtBks)              0.2475   \n",
       "28            (GeogBks)             (RefBks)              0.2760   \n",
       "\n",
       "    consequent support  support  confidence      lift  leverage  conviction  \n",
       "22              0.4310   0.1135    1.000000  2.320186  0.064582         inf  \n",
       "60              0.4310   0.1015    0.821862  1.906873  0.048272    3.194159  \n",
       "64              0.4310   0.1085    0.818868  1.899926  0.051392    3.141354  \n",
       "66              0.4310   0.1035    0.811765  1.883445  0.048547    3.022812  \n",
       "40              0.4310   0.1225    0.808581  1.876058  0.057204    2.972534  \n",
       "..                 ...      ...         ...       ...       ...         ...  \n",
       "62              0.1875   0.1015    0.421162  2.246196  0.056313    1.403674  \n",
       "13              0.2475   0.1010    0.419087  1.693281  0.041353    1.295375  \n",
       "11              0.2475   0.1155    0.409574  1.654846  0.045705    1.274505  \n",
       "12              0.2410   0.1010    0.408081  1.693281  0.041353    1.282270  \n",
       "28              0.2145   0.1105    0.400362  1.866491  0.051298    1.309958  \n",
       "\n",
       "[70 rows x 9 columns]"
      ]
     },
     "execution_count": 18,
     "metadata": {},
     "output_type": "execute_result"
    }
   ],
   "source": [
    "trail2=pd.DataFrame=acc_rule[(acc_rule.support > 0.10) & (acc_rule.confidence > 0.4)].sort_values(\"confidence\", ascending = False)\n",
    "trail2"
   ]
  },
  {
   "cell_type": "code",
   "execution_count": 19,
   "id": "8374df8d",
   "metadata": {},
   "outputs": [
    {
     "data": {
      "image/png": "[encoded data removed]",
      "text/plain": [
       "<Figure size 432x288 with 4 Axes>"
      ]
     },
     "metadata": {
      "needs_background": "light"
     },
     "output_type": "display_data"
    }
   ],
   "source": [
    "import matplotlib.pyplot as plt\n",
    "acc_rule[['support','confidence','lift']].hist()\n",
    "plt.show()"
   ]
  },
  {
   "cell_type": "code",
   "execution_count": 20,
   "id": "6b07abb1",
   "metadata": {},
   "outputs": [
    {
     "data": {
      "text/plain": [
       "array([[<AxesSubplot:title={'center':'antecedent support'}>,\n",
       "        <AxesSubplot:title={'center':'consequent support'}>,\n",
       "        <AxesSubplot:title={'center':'support'}>],\n",
       "       [<AxesSubplot:title={'center':'confidence'}>,\n",
       "        <AxesSubplot:title={'center':'lift'}>,\n",
       "        <AxesSubplot:title={'center':'leverage'}>],\n",
       "       [<AxesSubplot:title={'center':'conviction'}>, <AxesSubplot:>,\n",
       "        <AxesSubplot:>]], dtype=object)"
      ]
     },
     "execution_count": 20,
     "metadata": {},
     "output_type": "execute_result"
    },
    {
     "data": {
      "image/png": "[encoded data removed]",
      "text/plain": [
       "<Figure size 432x288 with 9 Axes>"
      ]
     },
     "metadata": {
      "needs_background": "light"
     },
     "output_type": "display_data"
    }
   ],
   "source": [
    "trail1.hist()"
   ]
  },
  {
   "cell_type": "code",
   "execution_count": 21,
   "id": "611fe6aa",
   "metadata": {},
   "outputs": [
    {
     "data": {
      "image/png": "[encoded data removed]",
      "text/plain": [
       "<Figure size 432x288 with 1 Axes>"
      ]
     },
     "metadata": {
      "needs_background": "light"
     },
     "output_type": "display_data"
    }
   ],
   "source": [
    "plt.scatter(acc_rule['support'],acc_rule['confidence'])\n",
    "plt.show()"
   ]
  },
  {
   "cell_type": "code",
   "execution_count": 31,
   "id": "ed6c2b68",
   "metadata": {},
   "outputs": [
    {
     "name": "stderr",
     "output_type": "stream",
     "text": [
      "C:\\Users\\rajpu\\anaconda3\\lib\\site-packages\\seaborn\\_decorators.py:36: FutureWarning: Pass the following variables as keyword args: x, y. From version 0.12, the only valid positional argument will be `data`, and passing other arguments without an explicit keyword will result in an error or misinterpretation.\n",
      "  warnings.warn(\n"
     ]
    },
    {
     "data": {
      "text/plain": [
       "<AxesSubplot:xlabel='support', ylabel='confidence'>"
      ]
     },
     "execution_count": 31,
     "metadata": {},
     "output_type": "execute_result"
    },
    {
     "data": {
      "image/png": "[encoded data removed]",
      "text/plain": [
       "<Figure size 432x288 with 1 Axes>"
      ]
     },
     "metadata": {
      "needs_background": "light"
     },
     "output_type": "display_data"
    }
   ],
   "source": [
    "import seaborn as sns\n",
    "sns.barplot('support','confidence',data=acc_rule)"
   ]
  },
  {
   "cell_type": "code",
   "execution_count": 34,
   "id": "6e55274d",
   "metadata": {},
   "outputs": [
    {
     "data": {
      "image/png": "[encoded data removed]",
      "text/plain": [
       "<Figure size 432x288 with 1 Axes>"
      ]
     },
     "metadata": {
      "needs_background": "light"
     },
     "output_type": "display_data"
    }
   ],
   "source": [
    "\n",
    "# visualization of obtained rule\n",
    "plt.scatter(acc_rule['support'],acc_rule['confidence'])\n",
    "plt.xlabel('support')\n",
    "plt.ylabel('confidence') \n",
    "plt.show()\n"
   ]
  },
  {
   "cell_type": "code",
   "execution_count": 35,
   "id": "e98257df",
   "metadata": {},
   "outputs": [
    {
     "data": {
      "image/png": "[encoded data removed]",
      "text/plain": [
       "<Figure size 432x288 with 1 Axes>"
      ]
     },
     "metadata": {
      "needs_background": "light"
     },
     "output_type": "display_data"
    }
   ],
   "source": [
    "# visualization of obtained rule\n",
    "plt.scatter(trail1['support'],trail1['confidence'])\n",
    "plt.xlabel('support')\n",
    "plt.ylabel('confidence') \n",
    "plt.show()"
   ]
  },
  {
   "cell_type": "code",
   "execution_count": 36,
   "id": "a56007a5",
   "metadata": {},
   "outputs": [
    {
     "data": {
      "image/png": "[encoded data removed]",
      "text/plain": [
       "<Figure size 432x288 with 1 Axes>"
      ]
     },
     "metadata": {
      "needs_background": "light"
     },
     "output_type": "display_data"
    }
   ],
   "source": [
    "# visualization of obtained rule\n",
    "plt.scatter(trail2['support'],trail2['confidence'])\n",
    "plt.xlabel('support')\n",
    "plt.ylabel('confidence') \n",
    "plt.show()"
   ]
  }
 ],
 "metadata": {
  "kernelspec": {
   "display_name": "Python 3 (ipykernel)",
   "language": "python",
   "name": "python3"
  },
  "language_info": {
   "codemirror_mode": {
    "name": "ipython",
    "version": 3
   },
   "file_extension": ".py",
   "mimetype": "text/x-python",
   "name": "python",
   "nbconvert_exporter": "python",
   "pygments_lexer": "ipython3",
   "version": "3.9.12"
  }
 },
 "nbformat": 4,
 "nbformat_minor": 5
}
