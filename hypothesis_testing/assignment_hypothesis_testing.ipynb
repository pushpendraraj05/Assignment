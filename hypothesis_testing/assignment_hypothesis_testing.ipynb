{
 "cells": [
  {
   "cell_type": "markdown",
   "id": "2b2522d9",
   "metadata": {},
   "source": [
    "## importing libraries"
   ]
  },
  {
   "cell_type": "code",
   "execution_count": 104,
   "id": "63413863",
   "metadata": {},
   "outputs": [],
   "source": [
    "import numpy as np\n",
    "import pandas as pd\n",
    "import scipy.stats as stats\n",
    "import statsmodels.api as sm\n",
    "import matplotlib.pyplot as plt\n",
    "import seaborn as sns"
   ]
  },
  {
   "cell_type": "markdown",
   "id": "33004143",
   "metadata": {},
   "source": [
    "## Q.1 Analysis of dia of two different sample of cutlet at 5% significant level. "
   ]
  },
  {
   "cell_type": "markdown",
   "id": "e47e102d",
   "metadata": {},
   "source": [
    "## Considering \n",
    "## - Null Hypothesis: dia of both sample are equal.\n",
    "## - Alternate Hypothesis: dia of both sample are not equal.        "
   ]
  },
  {
   "cell_type": "code",
   "execution_count": 105,
   "id": "c5111471",
   "metadata": {},
   "outputs": [
    {
     "data": {
      "text/html": [
       "<div>\n",
       "<style scoped>\n",
       "    .dataframe tbody tr th:only-of-type {\n",
       "        vertical-align: middle;\n",
       "    }\n",
       "\n",
       "    .dataframe tbody tr th {\n",
       "        vertical-align: top;\n",
       "    }\n",
       "\n",
       "    .dataframe thead th {\n",
       "        text-align: right;\n",
       "    }\n",
       "</style>\n",
       "<table border=\"1\" class=\"dataframe\">\n",
       "  <thead>\n",
       "    <tr style=\"text-align: right;\">\n",
       "      <th></th>\n",
       "      <th>Unit A</th>\n",
       "      <th>Unit B</th>\n",
       "    </tr>\n",
       "  </thead>\n",
       "  <tbody>\n",
       "    <tr>\n",
       "      <th>0</th>\n",
       "      <td>6.8090</td>\n",
       "      <td>6.7703</td>\n",
       "    </tr>\n",
       "    <tr>\n",
       "      <th>1</th>\n",
       "      <td>6.4376</td>\n",
       "      <td>7.5093</td>\n",
       "    </tr>\n",
       "    <tr>\n",
       "      <th>2</th>\n",
       "      <td>6.9157</td>\n",
       "      <td>6.7300</td>\n",
       "    </tr>\n",
       "    <tr>\n",
       "      <th>3</th>\n",
       "      <td>7.3012</td>\n",
       "      <td>6.7878</td>\n",
       "    </tr>\n",
       "    <tr>\n",
       "      <th>4</th>\n",
       "      <td>7.4488</td>\n",
       "      <td>7.1522</td>\n",
       "    </tr>\n",
       "  </tbody>\n",
       "</table>\n",
       "</div>"
      ],
      "text/plain": [
       "   Unit A  Unit B\n",
       "0  6.8090  6.7703\n",
       "1  6.4376  7.5093\n",
       "2  6.9157  6.7300\n",
       "3  7.3012  6.7878\n",
       "4  7.4488  7.1522"
      ]
     },
     "execution_count": 105,
     "metadata": {},
     "output_type": "execute_result"
    }
   ],
   "source": [
    "# Importing data\n",
    "cutlet=pd.read_csv(\"D:\\\\assignment\\\\hypothesis_testing\\\\Cutlets.csv\")\n",
    "cutlet.head()"
   ]
  },
  {
   "cell_type": "code",
   "execution_count": 106,
   "id": "7456edce",
   "metadata": {},
   "outputs": [
    {
     "name": "stdout",
     "output_type": "stream",
     "text": [
      "<class 'pandas.core.frame.DataFrame'>\n",
      "RangeIndex: 35 entries, 0 to 34\n",
      "Data columns (total 2 columns):\n",
      " #   Column  Non-Null Count  Dtype  \n",
      "---  ------  --------------  -----  \n",
      " 0   Unit A  35 non-null     float64\n",
      " 1   Unit B  35 non-null     float64\n",
      "dtypes: float64(2)\n",
      "memory usage: 688.0 bytes\n"
     ]
    }
   ],
   "source": [
    "cutlet.info()"
   ]
  },
  {
   "cell_type": "markdown",
   "id": "cb7eb71b",
   "metadata": {},
   "source": [
    "## Performing 2-tail hypothesis test"
   ]
  },
  {
   "cell_type": "code",
   "execution_count": 107,
   "id": "5c0d6df2",
   "metadata": {},
   "outputs": [
    {
     "data": {
      "text/plain": [
       "Ttest_indResult(statistic=0.7228688704678063, pvalue=0.4722394724599501)"
      ]
     },
     "execution_count": 107,
     "metadata": {},
     "output_type": "execute_result"
    }
   ],
   "source": [
    "p_value=stats.ttest_ind(cutlet['Unit A'],cutlet['Unit B'])\n",
    "p_value"
   ]
  },
  {
   "cell_type": "markdown",
   "id": "68b33d8a",
   "metadata": {},
   "source": [
    "## p_value=0.477\n",
    "## we have significant value(alphaValue=5%)\n",
    "## here for two tail test, 5%/2 =0.025"
   ]
  },
  {
   "cell_type": "markdown",
   "id": "8873318b",
   "metadata": {},
   "source": [
    "## Hence, p_value> alpha value\n",
    "## so we will accept the Null Hypothesis, there is no significant difference between the dia of the cutlet, dia of both randomly selected sample are same."
   ]
  },
  {
   "cell_type": "markdown",
   "id": "e22d7519",
   "metadata": {},
   "source": [
    "## Inferences:\n"
   ]
  },
  {
   "cell_type": "code",
   "execution_count": 108,
   "id": "11cb1f3a",
   "metadata": {},
   "outputs": [
    {
     "data": {
      "image/png": "[encoded data removed]",
      "text/plain": [
       "<Figure size 432x288 with 1 Axes>"
      ]
     },
     "metadata": {
      "needs_background": "light"
     },
     "output_type": "display_data"
    },
    {
     "data": {
      "image/png": "[encoded data removed]",
      "text/plain": [
       "<Figure size 432x288 with 1 Axes>"
      ]
     },
     "metadata": {
      "needs_background": "light"
     },
     "output_type": "display_data"
    }
   ],
   "source": [
    "## Q-Q plots\n",
    "\n",
    "sm.qqplot(cutlet[\"Unit A\"], line = 'q')\n",
    "plt.title('Unit A')\n",
    "sm.qqplot(cutlet[\"Unit B\"], line = 'q')\n",
    "plt.title('Unit B')\n",
    "plt.show()"
   ]
  },
  {
   "cell_type": "code",
   "execution_count": 109,
   "id": "34dc6a01",
   "metadata": {},
   "outputs": [],
   "source": [
    "import warnings\n",
    "warnings.filterwarnings('ignore')"
   ]
  },
  {
   "cell_type": "code",
   "execution_count": 110,
   "id": "8590daaf",
   "metadata": {},
   "outputs": [
    {
     "data": {
      "text/plain": [
       "<matplotlib.legend.Legend at 0x213de5169d0>"
      ]
     },
     "execution_count": 110,
     "metadata": {},
     "output_type": "execute_result"
    },
    {
     "data": {
      "image/png": "[encoded data removed]",
      "text/plain": [
       "<Figure size 576x432 with 1 Axes>"
      ]
     },
     "metadata": {
      "needs_background": "light"
     },
     "output_type": "display_data"
    }
   ],
   "source": [
    "# Distribution Plot\n",
    "\n",
    "plt.figure(figsize = (8,6))\n",
    "labels = ['Unit A', 'Unit B']\n",
    "sns.distplot(cutlet['Unit A'], kde = True)\n",
    "sns.distplot(cutlet['Unit B'],hist = True)\n",
    "plt.legend(labels)"
   ]
  },
  {
   "cell_type": "code",
   "execution_count": 111,
   "id": "9fa1f9e8",
   "metadata": {},
   "outputs": [
    {
     "data": {
      "image/png": "[encoded data removed]",
      "text/plain": [
       "<Figure size 432x288 with 1 Axes>"
      ]
     },
     "metadata": {
      "needs_background": "light"
     },
     "output_type": "display_data"
    }
   ],
   "source": [
    "# Box Plot\n",
    "\n",
    "plt.boxplot(cutlet['Unit A'])\n",
    "plt.title('Unit A')\n",
    "plt.boxplot(cutlet['Unit B'])\n",
    "plt.title('Unit B')\n",
    "plt.show()\n",
    "\n"
   ]
  },
  {
   "attachments": {},
   "cell_type": "markdown",
   "id": "5a555679",
   "metadata": {},
   "source": [
    "## Q.2 determine whether there is any difference in average TAT among the different laboratories at 5% significance level.\n"
   ]
  },
  {
   "cell_type": "markdown",
   "id": "dbe47ff1",
   "metadata": {},
   "source": [
    "## Consider:\n",
    "## -Null Hypothesis: All 4 Lab are Same\n",
    "## -Alternate Hypothesis: At least one of them differ."
   ]
  },
  {
   "cell_type": "code",
   "execution_count": 112,
   "id": "e24dbd7d",
   "metadata": {},
   "outputs": [
    {
     "data": {
      "text/html": [
       "<div>\n",
       "<style scoped>\n",
       "    .dataframe tbody tr th:only-of-type {\n",
       "        vertical-align: middle;\n",
       "    }\n",
       "\n",
       "    .dataframe tbody tr th {\n",
       "        vertical-align: top;\n",
       "    }\n",
       "\n",
       "    .dataframe thead th {\n",
       "        text-align: right;\n",
       "    }\n",
       "</style>\n",
       "<table border=\"1\" class=\"dataframe\">\n",
       "  <thead>\n",
       "    <tr style=\"text-align: right;\">\n",
       "      <th></th>\n",
       "      <th>Laboratory 1</th>\n",
       "      <th>Laboratory 2</th>\n",
       "      <th>Laboratory 3</th>\n",
       "      <th>Laboratory 4</th>\n",
       "    </tr>\n",
       "  </thead>\n",
       "  <tbody>\n",
       "    <tr>\n",
       "      <th>0</th>\n",
       "      <td>185.35</td>\n",
       "      <td>165.53</td>\n",
       "      <td>176.70</td>\n",
       "      <td>166.13</td>\n",
       "    </tr>\n",
       "    <tr>\n",
       "      <th>1</th>\n",
       "      <td>170.49</td>\n",
       "      <td>185.91</td>\n",
       "      <td>198.45</td>\n",
       "      <td>160.79</td>\n",
       "    </tr>\n",
       "    <tr>\n",
       "      <th>2</th>\n",
       "      <td>192.77</td>\n",
       "      <td>194.92</td>\n",
       "      <td>201.23</td>\n",
       "      <td>185.18</td>\n",
       "    </tr>\n",
       "    <tr>\n",
       "      <th>3</th>\n",
       "      <td>177.33</td>\n",
       "      <td>183.00</td>\n",
       "      <td>199.61</td>\n",
       "      <td>176.42</td>\n",
       "    </tr>\n",
       "    <tr>\n",
       "      <th>4</th>\n",
       "      <td>193.41</td>\n",
       "      <td>169.57</td>\n",
       "      <td>204.63</td>\n",
       "      <td>152.60</td>\n",
       "    </tr>\n",
       "  </tbody>\n",
       "</table>\n",
       "</div>"
      ],
      "text/plain": [
       "   Laboratory 1  Laboratory 2  Laboratory 3  Laboratory 4\n",
       "0        185.35        165.53        176.70        166.13\n",
       "1        170.49        185.91        198.45        160.79\n",
       "2        192.77        194.92        201.23        185.18\n",
       "3        177.33        183.00        199.61        176.42\n",
       "4        193.41        169.57        204.63        152.60"
      ]
     },
     "execution_count": 112,
     "metadata": {},
     "output_type": "execute_result"
    }
   ],
   "source": [
    "# Importing Libraries\n",
    "lab=pd.read_csv(\"D:\\\\assignment\\\\hypothesis_testing\\\\LabTAT.csv\")\n",
    "lab.head()"
   ]
  },
  {
   "cell_type": "code",
   "execution_count": 113,
   "id": "83afe7a8",
   "metadata": {},
   "outputs": [
    {
     "name": "stdout",
     "output_type": "stream",
     "text": [
      "<class 'pandas.core.frame.DataFrame'>\n",
      "RangeIndex: 120 entries, 0 to 119\n",
      "Data columns (total 4 columns):\n",
      " #   Column        Non-Null Count  Dtype  \n",
      "---  ------        --------------  -----  \n",
      " 0   Laboratory 1  120 non-null    float64\n",
      " 1   Laboratory 2  120 non-null    float64\n",
      " 2   Laboratory 3  120 non-null    float64\n",
      " 3   Laboratory 4  120 non-null    float64\n",
      "dtypes: float64(4)\n",
      "memory usage: 3.9 KB\n"
     ]
    }
   ],
   "source": [
    "lab.info()"
   ]
  },
  {
   "cell_type": "markdown",
   "id": "f54ad21b",
   "metadata": {},
   "source": [
    "## using Hypothesis t-test"
   ]
  },
  {
   "cell_type": "code",
   "execution_count": 114,
   "id": "174b5998",
   "metadata": {},
   "outputs": [
    {
     "name": "stdout",
     "output_type": "stream",
     "text": [
      "F_onewayResult(statistic=118.70421654401437, pvalue=2.1156708949992414e-57)\n"
     ]
    }
   ],
   "source": [
    "p_value = stats.f_oneway(lab['Laboratory 1'],lab['Laboratory 2'],lab['Laboratory 3'],lab['Laboratory 4'])\n",
    "p_value\n",
    "print(p_value)"
   ]
  },
  {
   "cell_type": "markdown",
   "id": "d89ab435",
   "metadata": {},
   "source": [
    "## p_value= 2.1156708949992414e-57\n",
    "## alpha_value=0.5\n",
    "\n",
    "## alpha value> p_value\n",
    "## we accept the Null Hypothesis, bcz of lack of evidence"
   ]
  },
  {
   "cell_type": "markdown",
   "id": "9190af51",
   "metadata": {},
   "source": [
    "## Inferences:"
   ]
  },
  {
   "cell_type": "code",
   "execution_count": 115,
   "id": "f8059b59",
   "metadata": {},
   "outputs": [
    {
     "data": {
      "image/png": "[encoded data removed]",
      "text/plain": [
       "<Figure size 432x288 with 1 Axes>"
      ]
     },
     "metadata": {
      "needs_background": "light"
     },
     "output_type": "display_data"
    },
    {
     "data": {
      "image/png": "[encoded data removed]",
      "text/plain": [
       "<Figure size 432x288 with 1 Axes>"
      ]
     },
     "metadata": {
      "needs_background": "light"
     },
     "output_type": "display_data"
    },
    {
     "data": {
      "image/png": "[encoded data removed]",
      "text/plain": [
       "<Figure size 432x288 with 1 Axes>"
      ]
     },
     "metadata": {
      "needs_background": "light"
     },
     "output_type": "display_data"
    },
    {
     "data": {
      "image/png": "[encoded data removed]",
      "text/plain": [
       "<Figure size 432x288 with 1 Axes>"
      ]
     },
     "metadata": {
      "needs_background": "light"
     },
     "output_type": "display_data"
    }
   ],
   "source": [
    "##Q-Q plots\n",
    "\n",
    "sm.qqplot(lab['Laboratory 1'], line = 'q')\n",
    "plt.title('Laboratory 1')\n",
    "sm.qqplot(lab['Laboratory 2'], line = 'q')\n",
    "plt.title('Laboratory 2')\n",
    "sm.qqplot(lab['Laboratory 3'], line = 'q')\n",
    "plt.title('Laboratory 3')\n",
    "sm.qqplot(lab['Laboratory 4'], line = 'q')\n",
    "plt.title('Laboratory 4')\n",
    "plt.show()\n"
   ]
  },
  {
   "cell_type": "code",
   "execution_count": 116,
   "id": "49eabed9",
   "metadata": {},
   "outputs": [
    {
     "data": {
      "text/plain": [
       "<matplotlib.legend.Legend at 0x213de17edc0>"
      ]
     },
     "execution_count": 116,
     "metadata": {},
     "output_type": "execute_result"
    },
    {
     "data": {
      "image/png": "[encoded data removed]",
      "text/plain": [
       "<Figure size 576x432 with 1 Axes>"
      ]
     },
     "metadata": {
      "needs_background": "light"
     },
     "output_type": "display_data"
    }
   ],
   "source": [
    "# Distribution_ Plots\n",
    "plt.figure(figsize = (8,6))\n",
    "labels = ['Lab 1', 'Lab 2','Lab 3', 'Lab 4']\n",
    "sns.distplot(lab['Laboratory 1'], kde = True)\n",
    "sns.distplot(lab['Laboratory 2'],hist = True)\n",
    "sns.distplot(lab['Laboratory 3'],hist = True)\n",
    "sns.distplot(lab['Laboratory 4'],hist = True)\n",
    "plt.legend(labels)\n"
   ]
  },
  {
   "cell_type": "code",
   "execution_count": 117,
   "id": "3e6487e2",
   "metadata": {},
   "outputs": [
    {
     "data": {
      "image/png": "[encoded data removed]",
      "text/plain": [
       "<Figure size 432x288 with 1 Axes>"
      ]
     },
     "metadata": {
      "needs_background": "light"
     },
     "output_type": "display_data"
    }
   ],
   "source": [
    "#Boxplot\n",
    "\n",
    "plt.boxplot(lab['Laboratory 1'])\n",
    "plt.title('Laboratory 1')\n",
    "\n",
    "plt.boxplot(lab['Laboratory 2'])\n",
    "plt.title('Laboratory 2')\n",
    "\n",
    "plt.boxplot(lab['Laboratory 3'])\n",
    "plt.title('Laboratory 3')\n",
    "\n",
    "plt.boxplot(lab['Laboratory 4'])\n",
    "plt.title('Laboratory 4')\n",
    "plt.show()\n"
   ]
  },
  {
   "cell_type": "code",
   "execution_count": 118,
   "id": "07d4e9ad",
   "metadata": {},
   "outputs": [
    {
     "data": {
      "image/png": "[encoded data removed]",
      "text/plain": [
       "<Figure size 432x288 with 4 Axes>"
      ]
     },
     "metadata": {
      "needs_background": "light"
     },
     "output_type": "display_data"
    }
   ],
   "source": [
    "\n",
    "## Histogram\n",
    "plt.subplot(221)\n",
    "plt.hist(lab['Laboratory 1'])\n",
    "plt.subplot(222)\n",
    "plt.hist(lab['Laboratory 2'])\n",
    "plt.subplot(223)\n",
    "plt.hist(lab['Laboratory 3'])\n",
    "plt.subplot(224)\n",
    "plt.hist(lab['Laboratory 4'])\n",
    "\n",
    "plt.show()"
   ]
  },
  {
   "cell_type": "code",
   "execution_count": null,
   "id": "dfabf832",
   "metadata": {},
   "outputs": [],
   "source": []
  },
  {
   "cell_type": "code",
   "execution_count": null,
   "id": "7a19381b",
   "metadata": {},
   "outputs": [],
   "source": []
  },
  {
   "attachments": {},
   "cell_type": "markdown",
   "id": "f12ff2b1",
   "metadata": {},
   "source": [
    "## Q.3 male-female buyer rations are similarity across regions"
   ]
  },
  {
   "cell_type": "markdown",
   "id": "8e468483",
   "metadata": {},
   "source": [
    "## Null Hypothesis: All proportions are equal.\n",
    "## Alternate Hypothesis: Not all Porportions are equal."
   ]
  },
  {
   "cell_type": "code",
   "execution_count": 119,
   "id": "60b2f956",
   "metadata": {},
   "outputs": [],
   "source": [
    "# Importing dataset"
   ]
  },
  {
   "cell_type": "code",
   "execution_count": 120,
   "id": "6bb99724",
   "metadata": {},
   "outputs": [
    {
     "data": {
      "text/html": [
       "<div>\n",
       "<style scoped>\n",
       "    .dataframe tbody tr th:only-of-type {\n",
       "        vertical-align: middle;\n",
       "    }\n",
       "\n",
       "    .dataframe tbody tr th {\n",
       "        vertical-align: top;\n",
       "    }\n",
       "\n",
       "    .dataframe thead th {\n",
       "        text-align: right;\n",
       "    }\n",
       "</style>\n",
       "<table border=\"1\" class=\"dataframe\">\n",
       "  <thead>\n",
       "    <tr style=\"text-align: right;\">\n",
       "      <th></th>\n",
       "      <th>Observed Values</th>\n",
       "      <th>East</th>\n",
       "      <th>West</th>\n",
       "      <th>North</th>\n",
       "      <th>South</th>\n",
       "    </tr>\n",
       "  </thead>\n",
       "  <tbody>\n",
       "    <tr>\n",
       "      <th>0</th>\n",
       "      <td>Males</td>\n",
       "      <td>50</td>\n",
       "      <td>142</td>\n",
       "      <td>131</td>\n",
       "      <td>70</td>\n",
       "    </tr>\n",
       "    <tr>\n",
       "      <th>1</th>\n",
       "      <td>Females</td>\n",
       "      <td>435</td>\n",
       "      <td>1523</td>\n",
       "      <td>1356</td>\n",
       "      <td>750</td>\n",
       "    </tr>\n",
       "  </tbody>\n",
       "</table>\n",
       "</div>"
      ],
      "text/plain": [
       "  Observed Values  East  West  North  South\n",
       "0           Males    50   142    131     70\n",
       "1         Females   435  1523   1356    750"
      ]
     },
     "execution_count": 120,
     "metadata": {},
     "output_type": "execute_result"
    }
   ],
   "source": [
    "buyer=pd.read_csv(\"D:\\\\assignment\\\\hypothesis_testing\\\\BuyerRatio.csv\")\n",
    "buyer"
   ]
  },
  {
   "cell_type": "code",
   "execution_count": 121,
   "id": "5ca55911",
   "metadata": {},
   "outputs": [],
   "source": [
    "buyer1=buyer.iloc[:,1:]"
   ]
  },
  {
   "cell_type": "code",
   "execution_count": 122,
   "id": "b69071fc",
   "metadata": {},
   "outputs": [
    {
     "data": {
      "text/plain": [
       "array([[  50,  142,  131,   70],\n",
       "       [ 435, 1523, 1356,  750]], dtype=int64)"
      ]
     },
     "execution_count": 122,
     "metadata": {},
     "output_type": "execute_result"
    }
   ],
   "source": [
    "buyer1.values"
   ]
  },
  {
   "cell_type": "code",
   "execution_count": 123,
   "id": "7dcb5323",
   "metadata": {},
   "outputs": [
    {
     "data": {
      "text/plain": [
       "(1.595945538661058,\n",
       " 0.6603094907091882,\n",
       " 3,\n",
       " array([[  42.76531299,  146.81287862,  131.11756787,   72.30424052],\n",
       "        [ 442.23468701, 1518.18712138, 1355.88243213,  747.69575948]]))"
      ]
     },
     "execution_count": 123,
     "metadata": {},
     "output_type": "execute_result"
    }
   ],
   "source": [
    "values=stats.chi2_contingency(buyer1)\n",
    "values\n"
   ]
  },
  {
   "cell_type": "code",
   "execution_count": 124,
   "id": "7ce9bbc0",
   "metadata": {},
   "outputs": [
    {
     "name": "stdout",
     "output_type": "stream",
     "text": [
      "degree_of_freedom = 3\n"
     ]
    }
   ],
   "source": [
    "degree_of_freedom=values[2]\n",
    "print(\"degree_of_freedom =\",degree_of_freedom)"
   ]
  },
  {
   "cell_type": "markdown",
   "id": "046ae031",
   "metadata": {},
   "source": [
    "#stats value\n",
    "#degree of freedom=3"
   ]
  },
  {
   "cell_type": "code",
   "execution_count": 125,
   "id": "bf5b42a6",
   "metadata": {},
   "outputs": [
    {
     "data": {
      "text/plain": [
       "array([[  42.76531299,  146.81287862,  131.11756787,   72.30424052],\n",
       "       [ 442.23468701, 1518.18712138, 1355.88243213,  747.69575948]])"
      ]
     },
     "execution_count": 125,
     "metadata": {},
     "output_type": "execute_result"
    }
   ],
   "source": [
    "## Expected Value\n",
    "expected_value=values[3]\n",
    "expected_value"
   ]
  },
  {
   "cell_type": "code",
   "execution_count": 126,
   "id": "8346bc5c",
   "metadata": {},
   "outputs": [
    {
     "name": "stdout",
     "output_type": "stream",
     "text": [
      "Chi_Square_stats = 1.595945538661058\n"
     ]
    }
   ],
   "source": [
    "Chi_Square_stats=values[0]\n",
    "print(\"Chi_Square_stats =\",Chi_Square_stats)"
   ]
  },
  {
   "cell_type": "code",
   "execution_count": 127,
   "id": "0a8d7f42",
   "metadata": {},
   "outputs": [
    {
     "data": {
      "text/plain": [
       "7.814727903251179"
      ]
     },
     "execution_count": 127,
     "metadata": {},
     "output_type": "execute_result"
    }
   ],
   "source": [
    "#Critical Value\n",
    "from scipy.stats import chi2\n",
    "\n",
    "critical_value=chi2.ppf(0.95,3)\n",
    "critical_value"
   ]
  },
  {
   "cell_type": "code",
   "execution_count": 128,
   "id": "9f5269d3",
   "metadata": {},
   "outputs": [
    {
     "name": "stdout",
     "output_type": "stream",
     "text": [
      "p_value : 0.6603094907091882\n"
     ]
    }
   ],
   "source": [
    "#P_value\n",
    "p_value=1-chi2.cdf(Chi_Square_stats,3)\n",
    "print('p_value :',p_value)"
   ]
  },
  {
   "cell_type": "markdown",
   "id": "4fe14c40",
   "metadata": {},
   "source": [
    "## We have p_value= 0.66 , as p_value>0.05, Accept the Null Hypothesis.\n",
    "## there is no association between male and female buyers ratio, independent sample set."
   ]
  },
  {
   "cell_type": "code",
   "execution_count": null,
   "id": "39a94769",
   "metadata": {},
   "outputs": [],
   "source": []
  },
  {
   "cell_type": "code",
   "execution_count": null,
   "id": "71e53015",
   "metadata": {},
   "outputs": [],
   "source": []
  },
  {
   "cell_type": "markdown",
   "id": "ffa70b59",
   "metadata": {},
   "source": [
    "## Q.4 Telecaller"
   ]
  },
  {
   "cell_type": "code",
   "execution_count": 129,
   "id": "837ead80",
   "metadata": {},
   "outputs": [],
   "source": [
    "# H0: same across all country\n",
    "#Ha: Atleast there is differences"
   ]
  },
  {
   "cell_type": "code",
   "execution_count": 130,
   "id": "c613da2c",
   "metadata": {},
   "outputs": [
    {
     "data": {
      "text/html": [
       "<div>\n",
       "<style scoped>\n",
       "    .dataframe tbody tr th:only-of-type {\n",
       "        vertical-align: middle;\n",
       "    }\n",
       "\n",
       "    .dataframe tbody tr th {\n",
       "        vertical-align: top;\n",
       "    }\n",
       "\n",
       "    .dataframe thead th {\n",
       "        text-align: right;\n",
       "    }\n",
       "</style>\n",
       "<table border=\"1\" class=\"dataframe\">\n",
       "  <thead>\n",
       "    <tr style=\"text-align: right;\">\n",
       "      <th></th>\n",
       "      <th>Phillippines</th>\n",
       "      <th>Indonesia</th>\n",
       "      <th>Malta</th>\n",
       "      <th>India</th>\n",
       "    </tr>\n",
       "  </thead>\n",
       "  <tbody>\n",
       "    <tr>\n",
       "      <th>0</th>\n",
       "      <td>Error Free</td>\n",
       "      <td>Error Free</td>\n",
       "      <td>Defective</td>\n",
       "      <td>Error Free</td>\n",
       "    </tr>\n",
       "    <tr>\n",
       "      <th>1</th>\n",
       "      <td>Error Free</td>\n",
       "      <td>Error Free</td>\n",
       "      <td>Error Free</td>\n",
       "      <td>Defective</td>\n",
       "    </tr>\n",
       "    <tr>\n",
       "      <th>2</th>\n",
       "      <td>Error Free</td>\n",
       "      <td>Defective</td>\n",
       "      <td>Defective</td>\n",
       "      <td>Error Free</td>\n",
       "    </tr>\n",
       "    <tr>\n",
       "      <th>3</th>\n",
       "      <td>Error Free</td>\n",
       "      <td>Error Free</td>\n",
       "      <td>Error Free</td>\n",
       "      <td>Error Free</td>\n",
       "    </tr>\n",
       "    <tr>\n",
       "      <th>4</th>\n",
       "      <td>Error Free</td>\n",
       "      <td>Error Free</td>\n",
       "      <td>Defective</td>\n",
       "      <td>Error Free</td>\n",
       "    </tr>\n",
       "  </tbody>\n",
       "</table>\n",
       "</div>"
      ],
      "text/plain": [
       "  Phillippines   Indonesia       Malta       India\n",
       "0   Error Free  Error Free   Defective  Error Free\n",
       "1   Error Free  Error Free  Error Free   Defective\n",
       "2   Error Free   Defective   Defective  Error Free\n",
       "3   Error Free  Error Free  Error Free  Error Free\n",
       "4   Error Free  Error Free   Defective  Error Free"
      ]
     },
     "execution_count": 130,
     "metadata": {},
     "output_type": "execute_result"
    }
   ],
   "source": [
    "# importing dataset\n",
    "telecall=pd.read_csv(\"D:\\\\assignment\\\\hypothesis_testing\\\\Costomer+OrderForm.csv\")\n",
    "telecall.head()"
   ]
  },
  {
   "cell_type": "code",
   "execution_count": 131,
   "id": "3c4173f4",
   "metadata": {},
   "outputs": [
    {
     "name": "stdout",
     "output_type": "stream",
     "text": [
      "<class 'pandas.core.frame.DataFrame'>\n",
      "RangeIndex: 300 entries, 0 to 299\n",
      "Data columns (total 4 columns):\n",
      " #   Column        Non-Null Count  Dtype \n",
      "---  ------        --------------  ----- \n",
      " 0   Phillippines  300 non-null    object\n",
      " 1   Indonesia     300 non-null    object\n",
      " 2   Malta         300 non-null    object\n",
      " 3   India         300 non-null    object\n",
      "dtypes: object(4)\n",
      "memory usage: 9.5+ KB\n"
     ]
    }
   ],
   "source": [
    "telecall.info()"
   ]
  },
  {
   "cell_type": "code",
   "execution_count": 132,
   "id": "54c25365",
   "metadata": {},
   "outputs": [
    {
     "data": {
      "text/plain": [
       "Phillippines  Indonesia   Malta       India     \n",
       "Error Free    Error Free  Error Free  Error Free    206\n",
       "Defective     Error Free  Error Free  Error Free     21\n",
       "Error Free    Defective   Error Free  Error Free     20\n",
       "              Error Free  Defective   Error Free     18\n",
       "                          Error Free  Defective      16\n",
       "              Defective   Defective   Error Free      9\n",
       "Defective     Error Free  Defective   Error Free      4\n",
       "              Defective   Error Free  Error Free      2\n",
       "              Error Free  Error Free  Defective       2\n",
       "Error Free    Defective   Error Free  Defective       2\n",
       "dtype: int64"
      ]
     },
     "execution_count": 132,
     "metadata": {},
     "output_type": "execute_result"
    }
   ],
   "source": [
    "telecall.value_counts()"
   ]
  },
  {
   "cell_type": "code",
   "execution_count": 133,
   "id": "ed2425ff",
   "metadata": {},
   "outputs": [
    {
     "data": {
      "text/plain": [
       "Error Free    271\n",
       "Defective      29\n",
       "Name: Phillippines, dtype: int64"
      ]
     },
     "execution_count": 133,
     "metadata": {},
     "output_type": "execute_result"
    }
   ],
   "source": [
    "telecall['Phillippines'].value_counts()"
   ]
  },
  {
   "cell_type": "code",
   "execution_count": 134,
   "id": "18989986",
   "metadata": {},
   "outputs": [
    {
     "data": {
      "text/plain": [
       "Error Free    267\n",
       "Defective      33\n",
       "Name: Indonesia, dtype: int64"
      ]
     },
     "execution_count": 134,
     "metadata": {},
     "output_type": "execute_result"
    }
   ],
   "source": [
    "telecall['Indonesia'].value_counts()"
   ]
  },
  {
   "cell_type": "code",
   "execution_count": 135,
   "id": "ef973b21",
   "metadata": {},
   "outputs": [
    {
     "data": {
      "text/plain": [
       "Error Free    269\n",
       "Defective      31\n",
       "Name: Malta, dtype: int64"
      ]
     },
     "execution_count": 135,
     "metadata": {},
     "output_type": "execute_result"
    }
   ],
   "source": [
    "telecall['Malta'].value_counts()"
   ]
  },
  {
   "cell_type": "code",
   "execution_count": 136,
   "id": "a4980e97",
   "metadata": {},
   "outputs": [
    {
     "data": {
      "text/plain": [
       "Error Free    280\n",
       "Defective      20\n",
       "Name: India, dtype: int64"
      ]
     },
     "execution_count": 136,
     "metadata": {},
     "output_type": "execute_result"
    }
   ],
   "source": [
    "telecall['India'].value_counts()"
   ]
  },
  {
   "cell_type": "code",
   "execution_count": 137,
   "id": "08114862",
   "metadata": {},
   "outputs": [
    {
     "name": "stdout",
     "output_type": "stream",
     "text": [
      "[[271, 267, 269, 280], [29, 33, 31, 20]]\n"
     ]
    },
    {
     "data": {
      "text/plain": [
       "array([[271, 267, 269, 280],\n",
       "       [ 29,  33,  31,  20]])"
      ]
     },
     "execution_count": 137,
     "metadata": {},
     "output_type": "execute_result"
    }
   ],
   "source": [
    "obs_value=[[271,267,269,280],\n",
    "           [29,33,31,20]]\n",
    "print(obs_value)\n",
    "observed_value=np.array(obs_value)\n",
    "observed_value"
   ]
  },
  {
   "cell_type": "code",
   "execution_count": 138,
   "id": "b831fbe7",
   "metadata": {},
   "outputs": [
    {
     "data": {
      "text/plain": [
       "(3.858960685820355,\n",
       " 0.2771020991233135,\n",
       " 3,\n",
       " array([[271.75, 271.75, 271.75, 271.75],\n",
       "        [ 28.25,  28.25,  28.25,  28.25]]))"
      ]
     },
     "execution_count": 138,
     "metadata": {},
     "output_type": "execute_result"
    }
   ],
   "source": [
    "## expected Value\n",
    "exp = stats.chi2_contingency(obs_value)\n",
    "exp"
   ]
  },
  {
   "cell_type": "code",
   "execution_count": 139,
   "id": "5df32e2c",
   "metadata": {},
   "outputs": [
    {
     "data": {
      "text/plain": [
       "array([[271.75, 271.75, 271.75, 271.75],\n",
       "       [ 28.25,  28.25,  28.25,  28.25]])"
      ]
     },
     "execution_count": 139,
     "metadata": {},
     "output_type": "execute_result"
    }
   ],
   "source": [
    "## Expected Value\n",
    "exp_value=exp[3]\n",
    "exp_value"
   ]
  },
  {
   "cell_type": "code",
   "execution_count": 140,
   "id": "9f98d879",
   "metadata": {},
   "outputs": [
    {
     "data": {
      "text/plain": [
       "3"
      ]
     },
     "execution_count": 140,
     "metadata": {},
     "output_type": "execute_result"
    }
   ],
   "source": [
    "## Expected Value\n",
    "dof=exp[2]\n",
    "dof"
   ]
  },
  {
   "cell_type": "code",
   "execution_count": 141,
   "id": "552c763e",
   "metadata": {},
   "outputs": [
    {
     "data": {
      "text/plain": [
       "3.858960685820355"
      ]
     },
     "execution_count": 141,
     "metadata": {},
     "output_type": "execute_result"
    }
   ],
   "source": [
    "## Expected Value\n",
    "stats_value=exp[0]\n",
    "stats_value"
   ]
  },
  {
   "cell_type": "code",
   "execution_count": 142,
   "id": "7fd14840",
   "metadata": {},
   "outputs": [
    {
     "data": {
      "text/plain": [
       "0.2771020991233135"
      ]
     },
     "execution_count": 142,
     "metadata": {},
     "output_type": "execute_result"
    }
   ],
   "source": [
    "## Expected Value\n",
    "p_value=exp[1]\n",
    "p_value"
   ]
  },
  {
   "cell_type": "code",
   "execution_count": 143,
   "id": "8b8f47ae",
   "metadata": {},
   "outputs": [
    {
     "name": "stdout",
     "output_type": "stream",
     "text": [
      "p_value : 0.2771020991233135\n"
     ]
    }
   ],
   "source": [
    "p_value=1-chi2.cdf(stats_value,3)\n",
    "print('p_value :',p_value)"
   ]
  },
  {
   "cell_type": "code",
   "execution_count": 144,
   "id": "3e9bb8cd",
   "metadata": {},
   "outputs": [
    {
     "data": {
      "text/plain": [
       "[[271, 267, 269, 280], [29, 33, 31, 20]]"
      ]
     },
     "execution_count": 144,
     "metadata": {},
     "output_type": "execute_result"
    }
   ],
   "source": [
    "obs_value"
   ]
  },
  {
   "cell_type": "code",
   "execution_count": 145,
   "id": "0c51d815",
   "metadata": {},
   "outputs": [
    {
     "data": {
      "text/plain": [
       "array([[271.75, 271.75, 271.75, 271.75],\n",
       "       [ 28.25,  28.25,  28.25,  28.25]])"
      ]
     },
     "execution_count": 145,
     "metadata": {},
     "output_type": "execute_result"
    }
   ],
   "source": [
    "exp_value"
   ]
  },
  {
   "cell_type": "code",
   "execution_count": 146,
   "id": "53e2a8fa",
   "metadata": {},
   "outputs": [
    {
     "data": {
      "text/plain": [
       "7.814727903251179"
      ]
     },
     "execution_count": 146,
     "metadata": {},
     "output_type": "execute_result"
    }
   ],
   "source": [
    "#Critical Value\n",
    "from scipy.stats import chi2\n",
    "\n",
    "critical_value=chi2.ppf(0.95,3)\n",
    "critical_value"
   ]
  },
  {
   "cell_type": "markdown",
   "id": "30a9a889",
   "metadata": {},
   "source": [
    "# alpha value= 0.05\n",
    "# probability=1-0.05\n",
    "# critical value=7.814\n",
    "# stats_value= 3.8589\n",
    "\n",
    "\n",
    "# stats value> critical value; variablea are not associated\n"
   ]
  },
  {
   "cell_type": "markdown",
   "id": "f6b3b001",
   "metadata": {},
   "source": [
    "# alpha value=0.05\n",
    "## p_value=0.277\n",
    "## p_value> alpha value\n",
    "\n",
    "## Accept the null hypothesis , there is no significant variation in the defective % by center."
   ]
  },
  {
   "cell_type": "code",
   "execution_count": 147,
   "id": "34e741f6",
   "metadata": {},
   "outputs": [
    {
     "data": {
      "image/png": "[encoded data removed]",
      "text/plain": [
       "<Figure size 432x288 with 1 Axes>"
      ]
     },
     "metadata": {
      "needs_background": "light"
     },
     "output_type": "display_data"
    },
    {
     "data": {
      "image/png": "[encoded data removed]",
      "text/plain": [
       "<Figure size 432x288 with 1 Axes>"
      ]
     },
     "metadata": {
      "needs_background": "light"
     },
     "output_type": "display_data"
    }
   ],
   "source": [
    "##Q-Q plots\n",
    "\n",
    "sm.qqplot(observed_value, line ='q')\n",
    "sm.qqplot(exp_value, line ='q')\n",
    "\n",
    "\n",
    "plt.show()"
   ]
  },
  {
   "cell_type": "code",
   "execution_count": 148,
   "id": "8d035380",
   "metadata": {},
   "outputs": [
    {
     "data": {
      "text/plain": [
       "{'whiskers': [<matplotlib.lines.Line2D at 0x213de7ff460>,\n",
       "  <matplotlib.lines.Line2D at 0x213de7ff6d0>,\n",
       "  <matplotlib.lines.Line2D at 0x213de80d7f0>,\n",
       "  <matplotlib.lines.Line2D at 0x213de80dac0>,\n",
       "  <matplotlib.lines.Line2D at 0x213de4ecbe0>,\n",
       "  <matplotlib.lines.Line2D at 0x213de4eceb0>,\n",
       "  <matplotlib.lines.Line2D at 0x213de4dbfd0>,\n",
       "  <matplotlib.lines.Line2D at 0x213de5032e0>],\n",
       " 'caps': [<matplotlib.lines.Line2D at 0x213de7ff9a0>,\n",
       "  <matplotlib.lines.Line2D at 0x213de7ffc70>,\n",
       "  <matplotlib.lines.Line2D at 0x213de80dd90>,\n",
       "  <matplotlib.lines.Line2D at 0x213de4ec0a0>,\n",
       "  <matplotlib.lines.Line2D at 0x213de4db1c0>,\n",
       "  <matplotlib.lines.Line2D at 0x213de4db490>,\n",
       "  <matplotlib.lines.Line2D at 0x213de5035b0>,\n",
       "  <matplotlib.lines.Line2D at 0x213de503880>],\n",
       " 'boxes': [<matplotlib.lines.Line2D at 0x213de7ff1c0>,\n",
       "  <matplotlib.lines.Line2D at 0x213de80d520>,\n",
       "  <matplotlib.lines.Line2D at 0x213de4ec910>,\n",
       "  <matplotlib.lines.Line2D at 0x213de4dbd00>],\n",
       " 'medians': [<matplotlib.lines.Line2D at 0x213de7fff40>,\n",
       "  <matplotlib.lines.Line2D at 0x213de4ec370>,\n",
       "  <matplotlib.lines.Line2D at 0x213de4db760>,\n",
       "  <matplotlib.lines.Line2D at 0x213de503b50>],\n",
       " 'fliers': [<matplotlib.lines.Line2D at 0x213de80d250>,\n",
       "  <matplotlib.lines.Line2D at 0x213de4ec640>,\n",
       "  <matplotlib.lines.Line2D at 0x213de4dba30>,\n",
       "  <matplotlib.lines.Line2D at 0x213de503e20>],\n",
       " 'means': []}"
      ]
     },
     "execution_count": 148,
     "metadata": {},
     "output_type": "execute_result"
    },
    {
     "data": {
      "image/png": "[encoded data removed]",
      "text/plain": [
       "<Figure size 432x288 with 1 Axes>"
      ]
     },
     "metadata": {
      "needs_background": "light"
     },
     "output_type": "display_data"
    }
   ],
   "source": [
    "plt.boxplot(observed_value)"
   ]
  },
  {
   "cell_type": "code",
   "execution_count": 149,
   "id": "36e4bbe5",
   "metadata": {},
   "outputs": [
    {
     "data": {
      "text/plain": [
       "{'whiskers': [<matplotlib.lines.Line2D at 0x213ddd69f10>,\n",
       "  <matplotlib.lines.Line2D at 0x213dddd9820>,\n",
       "  <matplotlib.lines.Line2D at 0x213ddde5340>,\n",
       "  <matplotlib.lines.Line2D at 0x213ddde5610>,\n",
       "  <matplotlib.lines.Line2D at 0x213dddfaa60>,\n",
       "  <matplotlib.lines.Line2D at 0x213dddfa5b0>,\n",
       "  <matplotlib.lines.Line2D at 0x213dde3eac0>,\n",
       "  <matplotlib.lines.Line2D at 0x213dde3ed90>],\n",
       " 'caps': [<matplotlib.lines.Line2D at 0x213dddd9100>,\n",
       "  <matplotlib.lines.Line2D at 0x213dddd9ca0>,\n",
       "  <matplotlib.lines.Line2D at 0x213ddde58e0>,\n",
       "  <matplotlib.lines.Line2D at 0x213ddde5bb0>,\n",
       "  <matplotlib.lines.Line2D at 0x213dddfa2e0>,\n",
       "  <matplotlib.lines.Line2D at 0x213dddfa6a0>,\n",
       "  <matplotlib.lines.Line2D at 0x213dde3d0a0>,\n",
       "  <matplotlib.lines.Line2D at 0x213dde3d370>],\n",
       " 'boxes': [<matplotlib.lines.Line2D at 0x213ddd69c40>,\n",
       "  <matplotlib.lines.Line2D at 0x213ddde5070>,\n",
       "  <matplotlib.lines.Line2D at 0x213dddfa8b0>,\n",
       "  <matplotlib.lines.Line2D at 0x213dde3e7f0>],\n",
       " 'medians': [<matplotlib.lines.Line2D at 0x213dddd9910>,\n",
       "  <matplotlib.lines.Line2D at 0x213ddde5e80>,\n",
       "  <matplotlib.lines.Line2D at 0x213dde3e250>,\n",
       "  <matplotlib.lines.Line2D at 0x213dde3d640>],\n",
       " 'fliers': [<matplotlib.lines.Line2D at 0x213dddd9d90>,\n",
       "  <matplotlib.lines.Line2D at 0x213dddfab20>,\n",
       "  <matplotlib.lines.Line2D at 0x213dde3e520>,\n",
       "  <matplotlib.lines.Line2D at 0x213dde3d910>],\n",
       " 'means': []}"
      ]
     },
     "execution_count": 149,
     "metadata": {},
     "output_type": "execute_result"
    },
    {
     "data": {
      "image/png": "[encoded data removed]",
      "text/plain": [
       "<Figure size 432x288 with 1 Axes>"
      ]
     },
     "metadata": {
      "needs_background": "light"
     },
     "output_type": "display_data"
    }
   ],
   "source": [
    "plt.boxplot(exp_value)"
   ]
  },
  {
   "cell_type": "code",
   "execution_count": 150,
   "id": "932199ce",
   "metadata": {},
   "outputs": [
    {
     "data": {
      "text/plain": [
       "<matplotlib.legend.Legend at 0x213de8192b0>"
      ]
     },
     "execution_count": 150,
     "metadata": {},
     "output_type": "execute_result"
    },
    {
     "data": {
      "image/png": "[encoded data removed]",
      "text/plain": [
       "<Figure size 864x576 with 1 Axes>"
      ]
     },
     "metadata": {
      "needs_background": "light"
     },
     "output_type": "display_data"
    }
   ],
   "source": [
    "# Distribution_ Plots\n",
    "plt.figure(figsize = (12,8))\n",
    "labels = ['observed_values', 'expected_values']\n",
    "sns.distplot(observed_value, hist = True)\n",
    "sns.distplot(exp_value,hist = True)\n",
    "plt.legend(labels)"
   ]
  }
 ],
 "metadata": {
  "kernelspec": {
   "display_name": "Python 3 (ipykernel)",
   "language": "python",
   "name": "python3"
  },
  "language_info": {
   "codemirror_mode": {
    "name": "ipython",
    "version": 3
   },
   "file_extension": ".py",
   "mimetype": "text/x-python",
   "name": "python",
   "nbconvert_exporter": "python",
   "pygments_lexer": "ipython3",
   "version": "3.9.12"
  }
 },
 "nbformat": 4,
 "nbformat_minor": 5
}
